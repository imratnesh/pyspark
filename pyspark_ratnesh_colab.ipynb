{
  "nbformat": 4,
  "nbformat_minor": 0,
  "metadata": {
    "colab": {
      "name": "pyspark_ratnesh_colab.ipynb",
      "version": "0.3.2",
      "provenance": []
    },
    "kernelspec": {
      "display_name": "Python 3",
      "language": "python",
      "name": "python3"
    }
  },
  "cells": [
    {
      "cell_type": "markdown",
      "metadata": {
        "id": "view-in-github",
        "colab_type": "text"
      },
      "source": [
        "[View in Colaboratory](https://colab.research.google.com/github/imratnesh/pyspark/blob/master/pyspark_ratnesh_colab.ipynb)"
      ]
    },
    {
      "metadata": {
        "id": "pKZJHI4cnDKB",
        "colab_type": "code",
        "colab": {
          "base_uri": "https://localhost:8080/",
          "height": 105
        },
        "outputId": "d707ee53-7126-46de-d851-e43ed703e7df"
      },
      "cell_type": "code",
      "source": [
        "!pip install findspark"
      ],
      "execution_count": 5,
      "outputs": [
        {
          "output_type": "stream",
          "text": [
            "Collecting findspark\n",
            "  Downloading https://files.pythonhosted.org/packages/b1/c8/e6e1f6a303ae5122dc28d131b5a67c5eb87cbf8f7ac5b9f87764ea1b1e1e/findspark-1.3.0-py2.py3-none-any.whl\n",
            "Installing collected packages: findspark\n",
            "Successfully installed findspark-1.3.0\n"
          ],
          "name": "stdout"
        }
      ]
    },
    {
      "metadata": {
        "id": "I-9DOeMWmuLZ",
        "colab_type": "code",
        "colab": {
          "base_uri": "https://localhost:8080/",
          "height": 34
        },
        "outputId": "7a92509a-ce04-4bbb-ea73-2b036c9070a6"
      },
      "cell_type": "code",
      "source": [
        "import os\n",
        "import numpy as np\n",
        "import pandas as pd\n",
        "#import spark_sklearn as spk\n",
        "\n",
        "from pyspark.ml.feature import VectorAssembler\n",
        "from pyspark.ml.feature import StandardScaler\n",
        "from pyspark.ml.feature import StringIndexer\n",
        "from pyspark.ml.feature import PCA\n",
        "from pyspark.ml import Pipeline\n",
        "from pyspark.ml.classification import LogisticRegression\n",
        "\n",
        "from pyspark.mllib.regression import LabeledPoint\n",
        "from pyspark.mllib.clustering import GaussianMixture\n",
        "from pyspark.mllib.classification import LogisticRegressionWithLBFGS, LogisticRegressionModel\n",
        "from pyspark.mllib.evaluation import BinaryClassificationMetrics\n",
        "\n",
        "import matplotlib.pyplot as plt\n",
        "import pyspark \n",
        "os.listdir('./')"
      ],
      "execution_count": 4,
      "outputs": [
        {
          "output_type": "execute_result",
          "data": {
            "text/plain": [
              "['datalab', '.forever', '.config', '.cache', '.ipython', '.rnd', '.local']"
            ]
          },
          "metadata": {
            "tags": []
          },
          "execution_count": 4
        }
      ]
    },
    {
      "metadata": {
        "id": "GoT6oGYRmuLl",
        "colab_type": "code",
        "colab": {
          "base_uri": "https://localhost:8080/",
          "height": 846
        },
        "outputId": "3235a726-1d4c-4669-b846-155849992b2f"
      },
      "cell_type": "code",
      "source": [
        "from pyspark import SparkContext,SparkConf\n",
        "import findspark\n",
        "findspark.init()\n",
        "from pyspark.sql import SparkSession\n",
        "spark = SparkSession.builder.master(\"local[*]\").getOrCreate()\n",
        "conf=SparkConf().setMaster(\"local\").setAppName(\"Iris PySpark\")\n",
        "sc = SparkContext(conf)"
      ],
      "execution_count": 7,
      "outputs": [
        {
          "output_type": "error",
          "ename": "Exception",
          "evalue": "ignored",
          "traceback": [
            "\u001b[0;31m---------------------------------------------------------------------------\u001b[0m",
            "\u001b[0;31mException\u001b[0m                                 Traceback (most recent call last)",
            "\u001b[0;32m<ipython-input-7-c4bf511410db>\u001b[0m in \u001b[0;36m<module>\u001b[0;34m()\u001b[0m\n\u001b[1;32m      3\u001b[0m \u001b[0;31m#findspark.init()\u001b[0m\u001b[0;34m\u001b[0m\u001b[0;34m\u001b[0m\u001b[0m\n\u001b[1;32m      4\u001b[0m \u001b[0;32mfrom\u001b[0m \u001b[0mpyspark\u001b[0m\u001b[0;34m.\u001b[0m\u001b[0msql\u001b[0m \u001b[0;32mimport\u001b[0m \u001b[0mSparkSession\u001b[0m\u001b[0;34m\u001b[0m\u001b[0m\n\u001b[0;32m----> 5\u001b[0;31m \u001b[0mspark\u001b[0m \u001b[0;34m=\u001b[0m \u001b[0mSparkSession\u001b[0m\u001b[0;34m.\u001b[0m\u001b[0mbuilder\u001b[0m\u001b[0;34m.\u001b[0m\u001b[0mmaster\u001b[0m\u001b[0;34m(\u001b[0m\u001b[0;34m\"local[*]\"\u001b[0m\u001b[0;34m)\u001b[0m\u001b[0;34m.\u001b[0m\u001b[0mgetOrCreate\u001b[0m\u001b[0;34m(\u001b[0m\u001b[0;34m)\u001b[0m\u001b[0;34m\u001b[0m\u001b[0m\n\u001b[0m\u001b[1;32m      6\u001b[0m \u001b[0;31m#conf=SparkConf().setMaster(\"local\").setAppName(\"Iris PySpark\")\u001b[0m\u001b[0;34m\u001b[0m\u001b[0;34m\u001b[0m\u001b[0m\n\u001b[1;32m      7\u001b[0m \u001b[0msc\u001b[0m \u001b[0;34m=\u001b[0m \u001b[0mSparkContext\u001b[0m\u001b[0;34m(\u001b[0m\u001b[0mspark\u001b[0m\u001b[0;34m)\u001b[0m\u001b[0;34m\u001b[0m\u001b[0m\n",
            "\u001b[0;32m/usr/local/lib/python3.6/dist-packages/pyspark/sql/session.py\u001b[0m in \u001b[0;36mgetOrCreate\u001b[0;34m(self)\u001b[0m\n\u001b[1;32m    171\u001b[0m                     \u001b[0;32mfor\u001b[0m \u001b[0mkey\u001b[0m\u001b[0;34m,\u001b[0m \u001b[0mvalue\u001b[0m \u001b[0;32min\u001b[0m \u001b[0mself\u001b[0m\u001b[0;34m.\u001b[0m\u001b[0m_options\u001b[0m\u001b[0;34m.\u001b[0m\u001b[0mitems\u001b[0m\u001b[0;34m(\u001b[0m\u001b[0;34m)\u001b[0m\u001b[0;34m:\u001b[0m\u001b[0;34m\u001b[0m\u001b[0m\n\u001b[1;32m    172\u001b[0m                         \u001b[0msparkConf\u001b[0m\u001b[0;34m.\u001b[0m\u001b[0mset\u001b[0m\u001b[0;34m(\u001b[0m\u001b[0mkey\u001b[0m\u001b[0;34m,\u001b[0m \u001b[0mvalue\u001b[0m\u001b[0;34m)\u001b[0m\u001b[0;34m\u001b[0m\u001b[0m\n\u001b[0;32m--> 173\u001b[0;31m                     \u001b[0msc\u001b[0m \u001b[0;34m=\u001b[0m \u001b[0mSparkContext\u001b[0m\u001b[0;34m.\u001b[0m\u001b[0mgetOrCreate\u001b[0m\u001b[0;34m(\u001b[0m\u001b[0msparkConf\u001b[0m\u001b[0;34m)\u001b[0m\u001b[0;34m\u001b[0m\u001b[0m\n\u001b[0m\u001b[1;32m    174\u001b[0m                     \u001b[0;31m# This SparkContext may be an existing one.\u001b[0m\u001b[0;34m\u001b[0m\u001b[0;34m\u001b[0m\u001b[0m\n\u001b[1;32m    175\u001b[0m                     \u001b[0;32mfor\u001b[0m \u001b[0mkey\u001b[0m\u001b[0;34m,\u001b[0m \u001b[0mvalue\u001b[0m \u001b[0;32min\u001b[0m \u001b[0mself\u001b[0m\u001b[0;34m.\u001b[0m\u001b[0m_options\u001b[0m\u001b[0;34m.\u001b[0m\u001b[0mitems\u001b[0m\u001b[0;34m(\u001b[0m\u001b[0;34m)\u001b[0m\u001b[0;34m:\u001b[0m\u001b[0;34m\u001b[0m\u001b[0m\n",
            "\u001b[0;32m/usr/local/lib/python3.6/dist-packages/pyspark/context.py\u001b[0m in \u001b[0;36mgetOrCreate\u001b[0;34m(cls, conf)\u001b[0m\n\u001b[1;32m    341\u001b[0m         \u001b[0;32mwith\u001b[0m \u001b[0mSparkContext\u001b[0m\u001b[0;34m.\u001b[0m\u001b[0m_lock\u001b[0m\u001b[0;34m:\u001b[0m\u001b[0;34m\u001b[0m\u001b[0m\n\u001b[1;32m    342\u001b[0m             \u001b[0;32mif\u001b[0m \u001b[0mSparkContext\u001b[0m\u001b[0;34m.\u001b[0m\u001b[0m_active_spark_context\u001b[0m \u001b[0;32mis\u001b[0m \u001b[0;32mNone\u001b[0m\u001b[0;34m:\u001b[0m\u001b[0;34m\u001b[0m\u001b[0m\n\u001b[0;32m--> 343\u001b[0;31m                 \u001b[0mSparkContext\u001b[0m\u001b[0;34m(\u001b[0m\u001b[0mconf\u001b[0m\u001b[0;34m=\u001b[0m\u001b[0mconf\u001b[0m \u001b[0;32mor\u001b[0m \u001b[0mSparkConf\u001b[0m\u001b[0;34m(\u001b[0m\u001b[0;34m)\u001b[0m\u001b[0;34m)\u001b[0m\u001b[0;34m\u001b[0m\u001b[0m\n\u001b[0m\u001b[1;32m    344\u001b[0m             \u001b[0;32mreturn\u001b[0m \u001b[0mSparkContext\u001b[0m\u001b[0;34m.\u001b[0m\u001b[0m_active_spark_context\u001b[0m\u001b[0;34m\u001b[0m\u001b[0m\n\u001b[1;32m    345\u001b[0m \u001b[0;34m\u001b[0m\u001b[0m\n",
            "\u001b[0;32m/usr/local/lib/python3.6/dist-packages/pyspark/context.py\u001b[0m in \u001b[0;36m__init__\u001b[0;34m(self, master, appName, sparkHome, pyFiles, environment, batchSize, serializer, conf, gateway, jsc, profiler_cls)\u001b[0m\n\u001b[1;32m    113\u001b[0m         \"\"\"\n\u001b[1;32m    114\u001b[0m         \u001b[0mself\u001b[0m\u001b[0;34m.\u001b[0m\u001b[0m_callsite\u001b[0m \u001b[0;34m=\u001b[0m \u001b[0mfirst_spark_call\u001b[0m\u001b[0;34m(\u001b[0m\u001b[0;34m)\u001b[0m \u001b[0;32mor\u001b[0m \u001b[0mCallSite\u001b[0m\u001b[0;34m(\u001b[0m\u001b[0;32mNone\u001b[0m\u001b[0;34m,\u001b[0m \u001b[0;32mNone\u001b[0m\u001b[0;34m,\u001b[0m \u001b[0;32mNone\u001b[0m\u001b[0;34m)\u001b[0m\u001b[0;34m\u001b[0m\u001b[0m\n\u001b[0;32m--> 115\u001b[0;31m         \u001b[0mSparkContext\u001b[0m\u001b[0;34m.\u001b[0m\u001b[0m_ensure_initialized\u001b[0m\u001b[0;34m(\u001b[0m\u001b[0mself\u001b[0m\u001b[0;34m,\u001b[0m \u001b[0mgateway\u001b[0m\u001b[0;34m=\u001b[0m\u001b[0mgateway\u001b[0m\u001b[0;34m,\u001b[0m \u001b[0mconf\u001b[0m\u001b[0;34m=\u001b[0m\u001b[0mconf\u001b[0m\u001b[0;34m)\u001b[0m\u001b[0;34m\u001b[0m\u001b[0m\n\u001b[0m\u001b[1;32m    116\u001b[0m         \u001b[0;32mtry\u001b[0m\u001b[0;34m:\u001b[0m\u001b[0;34m\u001b[0m\u001b[0m\n\u001b[1;32m    117\u001b[0m             self._do_init(master, appName, sparkHome, pyFiles, environment, batchSize, serializer,\n",
            "\u001b[0;32m/usr/local/lib/python3.6/dist-packages/pyspark/context.py\u001b[0m in \u001b[0;36m_ensure_initialized\u001b[0;34m(cls, instance, gateway, conf)\u001b[0m\n\u001b[1;32m    290\u001b[0m         \u001b[0;32mwith\u001b[0m \u001b[0mSparkContext\u001b[0m\u001b[0;34m.\u001b[0m\u001b[0m_lock\u001b[0m\u001b[0;34m:\u001b[0m\u001b[0;34m\u001b[0m\u001b[0m\n\u001b[1;32m    291\u001b[0m             \u001b[0;32mif\u001b[0m \u001b[0;32mnot\u001b[0m \u001b[0mSparkContext\u001b[0m\u001b[0;34m.\u001b[0m\u001b[0m_gateway\u001b[0m\u001b[0;34m:\u001b[0m\u001b[0;34m\u001b[0m\u001b[0m\n\u001b[0;32m--> 292\u001b[0;31m                 \u001b[0mSparkContext\u001b[0m\u001b[0;34m.\u001b[0m\u001b[0m_gateway\u001b[0m \u001b[0;34m=\u001b[0m \u001b[0mgateway\u001b[0m \u001b[0;32mor\u001b[0m \u001b[0mlaunch_gateway\u001b[0m\u001b[0;34m(\u001b[0m\u001b[0mconf\u001b[0m\u001b[0;34m)\u001b[0m\u001b[0;34m\u001b[0m\u001b[0m\n\u001b[0m\u001b[1;32m    293\u001b[0m                 \u001b[0mSparkContext\u001b[0m\u001b[0;34m.\u001b[0m\u001b[0m_jvm\u001b[0m \u001b[0;34m=\u001b[0m \u001b[0mSparkContext\u001b[0m\u001b[0;34m.\u001b[0m\u001b[0m_gateway\u001b[0m\u001b[0;34m.\u001b[0m\u001b[0mjvm\u001b[0m\u001b[0;34m\u001b[0m\u001b[0m\n\u001b[1;32m    294\u001b[0m \u001b[0;34m\u001b[0m\u001b[0m\n",
            "\u001b[0;32m/usr/local/lib/python3.6/dist-packages/pyspark/java_gateway.py\u001b[0m in \u001b[0;36mlaunch_gateway\u001b[0;34m(conf)\u001b[0m\n\u001b[1;32m     91\u001b[0m \u001b[0;34m\u001b[0m\u001b[0m\n\u001b[1;32m     92\u001b[0m             \u001b[0;32mif\u001b[0m \u001b[0;32mnot\u001b[0m \u001b[0mos\u001b[0m\u001b[0;34m.\u001b[0m\u001b[0mpath\u001b[0m\u001b[0;34m.\u001b[0m\u001b[0misfile\u001b[0m\u001b[0;34m(\u001b[0m\u001b[0mconn_info_file\u001b[0m\u001b[0;34m)\u001b[0m\u001b[0;34m:\u001b[0m\u001b[0;34m\u001b[0m\u001b[0m\n\u001b[0;32m---> 93\u001b[0;31m                 \u001b[0;32mraise\u001b[0m \u001b[0mException\u001b[0m\u001b[0;34m(\u001b[0m\u001b[0;34m\"Java gateway process exited before sending its port number\"\u001b[0m\u001b[0;34m)\u001b[0m\u001b[0;34m\u001b[0m\u001b[0m\n\u001b[0m\u001b[1;32m     94\u001b[0m \u001b[0;34m\u001b[0m\u001b[0m\n\u001b[1;32m     95\u001b[0m             \u001b[0;32mwith\u001b[0m \u001b[0mopen\u001b[0m\u001b[0;34m(\u001b[0m\u001b[0mconn_info_file\u001b[0m\u001b[0;34m,\u001b[0m \u001b[0;34m\"rb\"\u001b[0m\u001b[0;34m)\u001b[0m \u001b[0;32mas\u001b[0m \u001b[0minfo\u001b[0m\u001b[0;34m:\u001b[0m\u001b[0;34m\u001b[0m\u001b[0m\n",
            "\u001b[0;31mException\u001b[0m: Java gateway process exited before sending its port number"
          ]
        }
      ]
    },
    {
      "metadata": {
        "id": "1gfXhLt_muLq",
        "colab_type": "code",
        "colab": {
          "base_uri": "https://localhost:8080/",
          "height": 204
        },
        "outputId": "f3ff793c-e21e-4c9d-a3c8-0731e8bec129"
      },
      "cell_type": "code",
      "source": [
        "!wget https://raw.githubusercontent.com/uiuc-cse/data-fa14/gh-pages/data/iris.csv"
      ],
      "execution_count": 7,
      "outputs": [
        {
          "output_type": "stream",
          "text": [
            "--2018-06-13 14:47:40--  https://raw.githubusercontent.com/uiuc-cse/data-fa14/gh-pages/data/iris.csv\r\n",
            "Resolving raw.githubusercontent.com (raw.githubusercontent.com)... 151.101.0.133, 151.101.64.133, 151.101.128.133, ...\n",
            "Connecting to raw.githubusercontent.com (raw.githubusercontent.com)|151.101.0.133|:443... connected.\n",
            "HTTP request sent, awaiting response... 200 OK\n",
            "Length: 3716 (3.6K) [text/plain]\n",
            "Saving to: ‘iris.csv’\n",
            "\n",
            "iris.csv            100%[===================>]   3.63K  --.-KB/s    in 0s      \n",
            "\n",
            "2018-06-13 14:47:41 (56.6 MB/s) - ‘iris.csv’ saved [3716/3716]\n",
            "\n"
          ],
          "name": "stdout"
        }
      ]
    },
    {
      "metadata": {
        "id": "-P-wqpWzmuLu",
        "colab_type": "code",
        "colab": {
          "base_uri": "https://localhost:8080/",
          "height": 163
        },
        "outputId": "778509b4-ee45-4945-d838-1c4a8b4d37fd"
      },
      "cell_type": "code",
      "source": [
        "data=sconf.textFile('./iris.csv')"
      ],
      "execution_count": 10,
      "outputs": [
        {
          "output_type": "error",
          "ename": "AttributeError",
          "evalue": "ignored",
          "traceback": [
            "\u001b[0;31m---------------------------------------------------------------------------\u001b[0m",
            "\u001b[0;31mAttributeError\u001b[0m                            Traceback (most recent call last)",
            "\u001b[0;32m<ipython-input-10-20a65983ce25>\u001b[0m in \u001b[0;36m<module>\u001b[0;34m()\u001b[0m\n\u001b[0;32m----> 1\u001b[0;31m \u001b[0mdata\u001b[0m\u001b[0;34m=\u001b[0m\u001b[0msconf\u001b[0m\u001b[0;34m.\u001b[0m\u001b[0mtextFile\u001b[0m\u001b[0;34m(\u001b[0m\u001b[0;34m'./iris.csv'\u001b[0m\u001b[0;34m)\u001b[0m\u001b[0;34m\u001b[0m\u001b[0m\n\u001b[0m",
            "\u001b[0;31mAttributeError\u001b[0m: 'SparkConf' object has no attribute 'textFile'"
          ]
        }
      ]
    },
    {
      "metadata": {
        "id": "BBL8esVfmuLz",
        "colab_type": "code",
        "colab": {},
        "outputId": "a1ba3b9a-e0b9-40e5-c4c8-7c0e5335d3fb"
      },
      "cell_type": "code",
      "source": [
        "type(data)"
      ],
      "execution_count": 0,
      "outputs": [
        {
          "output_type": "execute_result",
          "data": {
            "text/plain": [
              "pyspark.rdd.RDD"
            ]
          },
          "metadata": {
            "tags": []
          },
          "execution_count": 345
        }
      ]
    },
    {
      "metadata": {
        "id": "UxPK9r9ymuL5",
        "colab_type": "code",
        "colab": {},
        "outputId": "9520e5cd-0ed1-421c-f5e6-5aaec01489e4"
      },
      "cell_type": "code",
      "source": [
        "data.take(5)"
      ],
      "execution_count": 0,
      "outputs": [
        {
          "output_type": "execute_result",
          "data": {
            "text/plain": [
              "['sepal_length,sepal_width,petal_length,petal_width,species',\n",
              " '5.1,3.5,1.4,0.2,setosa',\n",
              " '4.9,3,1.4,0.2,setosa',\n",
              " '4.7,3.2,1.3,0.2,setosa',\n",
              " '4.6,3.1,1.5,0.2,setosa']"
            ]
          },
          "metadata": {
            "tags": []
          },
          "execution_count": 346
        }
      ]
    },
    {
      "metadata": {
        "id": "FS6bVS1FmuMA",
        "colab_type": "code",
        "colab": {},
        "outputId": "48a745f6-5c6b-46eb-f4f7-f915eeb3e53b"
      },
      "cell_type": "code",
      "source": [
        "data.first()"
      ],
      "execution_count": 0,
      "outputs": [
        {
          "output_type": "execute_result",
          "data": {
            "text/plain": [
              "'sepal_length,sepal_width,petal_length,petal_width,species'"
            ]
          },
          "metadata": {
            "tags": []
          },
          "execution_count": 347
        }
      ]
    },
    {
      "metadata": {
        "id": "RUCCVanTmuMG",
        "colab_type": "code",
        "colab": {}
      },
      "cell_type": "code",
      "source": [
        "from pyspark.sql import SparkSession, SQLContext\n",
        "\n",
        "spark= SparkSession.builder \\\n",
        "    .master(\"local\") \\\n",
        "    .appName(\"Data Exploration\") \\\n",
        "    .getOrCreate()"
      ],
      "execution_count": 0,
      "outputs": []
    },
    {
      "metadata": {
        "id": "sIhm5P3omuMO",
        "colab_type": "code",
        "colab": {}
      },
      "cell_type": "code",
      "source": [
        "#load data as Spark DataFrame\n",
        "data2=spark.read.format(\"csv\") \\\n",
        "    .option(\"header\",\"true\") \\\n",
        "    .option(\"mode\",\"DROPMALFORMED\") \\\n",
        "    .load('./iris.csv')"
      ],
      "execution_count": 0,
      "outputs": []
    },
    {
      "metadata": {
        "id": "FaW6HkkYmuMV",
        "colab_type": "code",
        "colab": {},
        "outputId": "41a93241-edee-44e7-d749-ee6a763ff1ed"
      },
      "cell_type": "code",
      "source": [
        "data2.count()"
      ],
      "execution_count": 0,
      "outputs": [
        {
          "output_type": "execute_result",
          "data": {
            "text/plain": [
              "150"
            ]
          },
          "metadata": {
            "tags": []
          },
          "execution_count": 350
        }
      ]
    },
    {
      "metadata": {
        "id": "4DHO_plzmuMb",
        "colab_type": "code",
        "colab": {},
        "outputId": "093e69e1-aaf2-4483-a324-f1f17f4eba5e"
      },
      "cell_type": "code",
      "source": [
        "data2.show()"
      ],
      "execution_count": 0,
      "outputs": [
        {
          "output_type": "stream",
          "text": [
            "+------------+-----------+------------+-----------+-------+\n",
            "|sepal_length|sepal_width|petal_length|petal_width|species|\n",
            "+------------+-----------+------------+-----------+-------+\n",
            "|         5.1|        3.5|         1.4|        0.2| setosa|\n",
            "|         4.9|          3|         1.4|        0.2| setosa|\n",
            "|         4.7|        3.2|         1.3|        0.2| setosa|\n",
            "|         4.6|        3.1|         1.5|        0.2| setosa|\n",
            "|           5|        3.6|         1.4|        0.2| setosa|\n",
            "|         5.4|        3.9|         1.7|        0.4| setosa|\n",
            "|         4.6|        3.4|         1.4|        0.3| setosa|\n",
            "|           5|        3.4|         1.5|        0.2| setosa|\n",
            "|         4.4|        2.9|         1.4|        0.2| setosa|\n",
            "|         4.9|        3.1|         1.5|        0.1| setosa|\n",
            "|         5.4|        3.7|         1.5|        0.2| setosa|\n",
            "|         4.8|        3.4|         1.6|        0.2| setosa|\n",
            "|         4.8|          3|         1.4|        0.1| setosa|\n",
            "|         4.3|          3|         1.1|        0.1| setosa|\n",
            "|         5.8|          4|         1.2|        0.2| setosa|\n",
            "|         5.7|        4.4|         1.5|        0.4| setosa|\n",
            "|         5.4|        3.9|         1.3|        0.4| setosa|\n",
            "|         5.1|        3.5|         1.4|        0.3| setosa|\n",
            "|         5.7|        3.8|         1.7|        0.3| setosa|\n",
            "|         5.1|        3.8|         1.5|        0.3| setosa|\n",
            "+------------+-----------+------------+-----------+-------+\n",
            "only showing top 20 rows\n",
            "\n"
          ],
          "name": "stdout"
        }
      ]
    },
    {
      "metadata": {
        "id": "yojw-9wvmuMi",
        "colab_type": "code",
        "colab": {},
        "outputId": "56e69383-bbec-455e-947d-4763d4f6a52b"
      },
      "cell_type": "code",
      "source": [
        "data2.printSchema()"
      ],
      "execution_count": 0,
      "outputs": [
        {
          "output_type": "stream",
          "text": [
            "root\n",
            " |-- sepal_length: string (nullable = true)\n",
            " |-- sepal_width: string (nullable = true)\n",
            " |-- petal_length: string (nullable = true)\n",
            " |-- petal_width: string (nullable = true)\n",
            " |-- species: string (nullable = true)\n",
            "\n"
          ],
          "name": "stdout"
        }
      ]
    },
    {
      "metadata": {
        "id": "nd7pdKxYmuMq",
        "colab_type": "code",
        "colab": {}
      },
      "cell_type": "code",
      "source": [
        "cols =data2.columns"
      ],
      "execution_count": 0,
      "outputs": []
    },
    {
      "metadata": {
        "id": "hnetuNTzmuMx",
        "colab_type": "code",
        "colab": {},
        "outputId": "41002390-e56f-4c5c-e267-b5f046d8cbea"
      },
      "cell_type": "code",
      "source": [
        "from pyspark.sql.functions import *\n",
        "\n",
        "data2.select('sepal_length').agg(mean('sepal_length')).show()"
      ],
      "execution_count": 0,
      "outputs": [
        {
          "output_type": "stream",
          "text": [
            "+-----------------+\n",
            "|avg(sepal_length)|\n",
            "+-----------------+\n",
            "|5.843333333333335|\n",
            "+-----------------+\n",
            "\n"
          ],
          "name": "stdout"
        }
      ]
    },
    {
      "metadata": {
        "id": "PJK2tDWSmuM3",
        "colab_type": "code",
        "colab": {},
        "outputId": "a972dca9-ca88-470c-acdf-732f918e7f31"
      },
      "cell_type": "code",
      "source": [
        "data2.select('sepal_length','species').groupby('species').agg(mean('sepal_length')).show()"
      ],
      "execution_count": 0,
      "outputs": [
        {
          "output_type": "stream",
          "text": [
            "+----------+-----------------+\n",
            "|   species|avg(sepal_length)|\n",
            "+----------+-----------------+\n",
            "| virginica|6.587999999999998|\n",
            "|versicolor|            5.936|\n",
            "|    setosa|5.005999999999999|\n",
            "+----------+-----------------+\n",
            "\n"
          ],
          "name": "stdout"
        }
      ]
    },
    {
      "metadata": {
        "id": "VDDu32nPmuNA",
        "colab_type": "code",
        "colab": {},
        "outputId": "07804145-5153-4de0-fc77-7a0dddac7a20"
      },
      "cell_type": "code",
      "source": [
        "from pyspark.mllib.classification import LinearModel, LogisticRegressionWithLBFGS\n",
        "model = LinearModel([0.5,0.5],0.5)\n",
        "model"
      ],
      "execution_count": 0,
      "outputs": [
        {
          "output_type": "execute_result",
          "data": {
            "text/plain": [
              "(weights=[0.5,0.5], intercept=0.5)"
            ]
          },
          "metadata": {
            "tags": []
          },
          "execution_count": 356
        }
      ]
    },
    {
      "metadata": {
        "id": "T0V01JyimuNF",
        "colab_type": "code",
        "colab": {},
        "outputId": "ddf710fd-82a8-4049-c172-2f4bd0ce1655"
      },
      "cell_type": "code",
      "source": [
        "model.intercept"
      ],
      "execution_count": 0,
      "outputs": [
        {
          "output_type": "execute_result",
          "data": {
            "text/plain": [
              "0.5"
            ]
          },
          "metadata": {
            "tags": []
          },
          "execution_count": 357
        }
      ]
    },
    {
      "metadata": {
        "id": "kW7It8ZrmuNL",
        "colab_type": "code",
        "colab": {}
      },
      "cell_type": "code",
      "source": [
        "data2 = data2.selectExpr('CAST(Sepal_Length AS INT) AS Sepal_Length','CAST(Petal_Width AS INT) AS Petal_Width','CAST(Sepal_Width AS INT) AS Sepal_Width','CAST(Petal_Length AS INT) AS Petal_Length','Species')"
      ],
      "execution_count": 0,
      "outputs": []
    },
    {
      "metadata": {
        "id": "bJo67YeDmuNQ",
        "colab_type": "code",
        "colab": {},
        "outputId": "3ee286e8-385a-4667-be80-9e107a152a75"
      },
      "cell_type": "code",
      "source": [
        "data2.printSchema()"
      ],
      "execution_count": 0,
      "outputs": [
        {
          "output_type": "stream",
          "text": [
            "root\n",
            " |-- Sepal_Length: integer (nullable = true)\n",
            " |-- Petal_Width: integer (nullable = true)\n",
            " |-- Sepal_Width: integer (nullable = true)\n",
            " |-- Petal_Length: integer (nullable = true)\n",
            " |-- Species: string (nullable = true)\n",
            "\n"
          ],
          "name": "stdout"
        }
      ]
    },
    {
      "metadata": {
        "id": "L1PaFq6zmuNX",
        "colab_type": "code",
        "colab": {}
      },
      "cell_type": "code",
      "source": [
        "p = data2.toPandas()"
      ],
      "execution_count": 0,
      "outputs": []
    },
    {
      "metadata": {
        "id": "-bXOm9_EmuNc",
        "colab_type": "code",
        "colab": {},
        "outputId": "26ee1600-2f2f-450b-c9c0-1b4421a8cc3b"
      },
      "cell_type": "code",
      "source": [
        "p.info()"
      ],
      "execution_count": 0,
      "outputs": [
        {
          "output_type": "stream",
          "text": [
            "<class 'pandas.core.frame.DataFrame'>\n",
            "RangeIndex: 150 entries, 0 to 149\n",
            "Data columns (total 5 columns):\n",
            "Sepal_Length    150 non-null int64\n",
            "Petal_Width     150 non-null int64\n",
            "Sepal_Width     150 non-null int64\n",
            "Petal_Length    150 non-null int64\n",
            "Species         150 non-null object\n",
            "dtypes: int64(4), object(1)\n",
            "memory usage: 5.3+ KB\n"
          ],
          "name": "stdout"
        }
      ]
    },
    {
      "metadata": {
        "id": "3rF8TgtWmuNh",
        "colab_type": "code",
        "colab": {}
      },
      "cell_type": "code",
      "source": [
        "assembler = VectorAssembler(\n",
        "    inputCols=data2.columns[:-1],\n",
        "    outputCol=\"features\")\n",
        "output = assembler.transform(data2)"
      ],
      "execution_count": 0,
      "outputs": []
    },
    {
      "metadata": {
        "id": "nKW4HBR_muNm",
        "colab_type": "code",
        "colab": {}
      },
      "cell_type": "code",
      "source": [
        "standardizer = StandardScaler(withMean=True, withStd=True,\n",
        "                              inputCol='features',\n",
        "                              outputCol='std_features')\n",
        "model = standardizer.fit(output)\n",
        "output = model.transform(output)"
      ],
      "execution_count": 0,
      "outputs": []
    },
    {
      "metadata": {
        "id": "EhqlHRF1muNq",
        "colab_type": "code",
        "colab": {},
        "outputId": "1ae0cb62-739e-4459-ce96-cdfd7422e976"
      },
      "cell_type": "code",
      "source": [
        "output.describe().show()"
      ],
      "execution_count": 0,
      "outputs": [
        {
          "output_type": "stream",
          "text": [
            "+-------+------------------+------------------+------------------+------------------+---------+\n",
            "|summary|      Sepal_Length|       Petal_Width|       Sepal_Width|      Petal_Length|  Species|\n",
            "+-------+------------------+------------------+------------------+------------------+---------+\n",
            "|  count|               150|               150|               150|               150|      150|\n",
            "|   mean| 5.386666666666667|              0.86|2.6466666666666665|3.3066666666666666|     null|\n",
            "| stddev|0.8417516624857599|0.7144716919918649|0.5326477696681351|1.7720676379998967|     null|\n",
            "|    min|                 4|                 0|                 2|                 1|   setosa|\n",
            "|    max|                 7|                 2|                 4|                 6|virginica|\n",
            "+-------+------------------+------------------+------------------+------------------+---------+\n",
            "\n"
          ],
          "name": "stdout"
        }
      ]
    },
    {
      "metadata": {
        "id": "j1IPtEpwmuNw",
        "colab_type": "code",
        "colab": {}
      },
      "cell_type": "code",
      "source": [
        "indexer = StringIndexer(inputCol=\"Species\", outputCol=\"label_idx\")\n",
        "indexed = indexer.fit(output).transform(output)"
      ],
      "execution_count": 0,
      "outputs": []
    },
    {
      "metadata": {
        "id": "pbe8FGTmmuN1",
        "colab_type": "code",
        "colab": {},
        "outputId": "099ed377-4802-4ff0-8a3e-81623cad1535"
      },
      "cell_type": "code",
      "source": [
        "indexed.show(5)"
      ],
      "execution_count": 0,
      "outputs": [
        {
          "output_type": "stream",
          "text": [
            "+------------+-----------+-----------+------------+-------+-----------------+--------------------+---------+\n",
            "|Sepal_Length|Petal_Width|Sepal_Width|Petal_Length|Species|         features|        std_features|label_idx|\n",
            "+------------+-----------+-----------+------------+-------+-----------------+--------------------+---------+\n",
            "|           5|          0|          3|           1| setosa|[5.0,0.0,3.0,1.0]|[-0.4593595521092...|      2.0|\n",
            "|           4|          0|          3|           1| setosa|[4.0,0.0,3.0,1.0]|[-1.6473583937710...|      2.0|\n",
            "|           4|          0|          3|           1| setosa|[4.0,0.0,3.0,1.0]|[-1.6473583937710...|      2.0|\n",
            "|           4|          0|          3|           1| setosa|[4.0,0.0,3.0,1.0]|[-1.6473583937710...|      2.0|\n",
            "|           5|          0|          3|           1| setosa|[5.0,0.0,3.0,1.0]|[-0.4593595521092...|      2.0|\n",
            "+------------+-----------+-----------+------------+-------+-----------------+--------------------+---------+\n",
            "only showing top 5 rows\n",
            "\n"
          ],
          "name": "stdout"
        }
      ]
    },
    {
      "metadata": {
        "id": "9jeb0URDmuN8",
        "colab_type": "code",
        "colab": {},
        "outputId": "e9291cf0-73ee-4ebd-c2fa-5ba4486c1808"
      },
      "cell_type": "code",
      "source": [
        "data_new = indexed.select(['std_features', 'Species', 'label_idx'])\n",
        "data_new.show(5)"
      ],
      "execution_count": 0,
      "outputs": [
        {
          "output_type": "stream",
          "text": [
            "+--------------------+-------+---------+\n",
            "|        std_features|Species|label_idx|\n",
            "+--------------------+-------+---------+\n",
            "|[-0.4593595521092...| setosa|      2.0|\n",
            "|[-1.6473583937710...| setosa|      2.0|\n",
            "|[-1.6473583937710...| setosa|      2.0|\n",
            "|[-1.6473583937710...| setosa|      2.0|\n",
            "|[-0.4593595521092...| setosa|      2.0|\n",
            "+--------------------+-------+---------+\n",
            "only showing top 5 rows\n",
            "\n"
          ],
          "name": "stdout"
        }
      ]
    },
    {
      "metadata": {
        "id": "7uYNXu4RmuOE",
        "colab_type": "code",
        "colab": {}
      },
      "cell_type": "code",
      "source": [
        "pca = PCA(k=2, inputCol=\"std_features\", outputCol=\"pca\")\n",
        "model = pca.fit(data_new)\n",
        "transformed = model.transform(data_new)"
      ],
      "execution_count": 0,
      "outputs": []
    },
    {
      "metadata": {
        "id": "j8MVSOttmuOL",
        "colab_type": "code",
        "colab": {},
        "outputId": "cde845cc-0356-4106-da21-b18dd9eed889"
      },
      "cell_type": "code",
      "source": [
        "transformed.show(3)"
      ],
      "execution_count": 0,
      "outputs": [
        {
          "output_type": "stream",
          "text": [
            "+--------------------+-------+---------+--------------------+\n",
            "|        std_features|Species|label_idx|                 pca|\n",
            "+--------------------+-------+---------+--------------------+\n",
            "|[-0.4593595521092...| setosa|      2.0|[1.85704336448390...|\n",
            "|[-1.6473583937710...| setosa|      2.0|[2.46937892624136...|\n",
            "|[-1.6473583937710...| setosa|      2.0|[2.46937892624136...|\n",
            "+--------------------+-------+---------+--------------------+\n",
            "only showing top 3 rows\n",
            "\n"
          ],
          "name": "stdout"
        }
      ]
    },
    {
      "metadata": {
        "id": "HOIAspUamuOX",
        "colab_type": "code",
        "colab": {}
      },
      "cell_type": "code",
      "source": [
        "features = transformed.select('pca').rdd.map(lambda x: np.array(x))"
      ],
      "execution_count": 0,
      "outputs": []
    },
    {
      "metadata": {
        "id": "sym5lTeYmuOb",
        "colab_type": "code",
        "colab": {},
        "outputId": "87946861-e0a8-4dc9-c94e-f4a9b3dceec5"
      },
      "cell_type": "code",
      "source": [
        "gmm = GaussianMixture.train(features, k=2)\n",
        "prd = gmm.predict(features).collect()\n",
        "type(prd)"
      ],
      "execution_count": 0,
      "outputs": [
        {
          "output_type": "execute_result",
          "data": {
            "text/plain": [
              "list"
            ]
          },
          "metadata": {
            "tags": []
          },
          "execution_count": 371
        }
      ]
    },
    {
      "metadata": {
        "id": "Z8g11qyGmuOg",
        "colab_type": "code",
        "colab": {}
      },
      "cell_type": "code",
      "source": [
        "labels = data_new.select('label_idx').collect()\n",
        "labels = data_new.select('label_idx').rdd.map(lambda r: r[0]).collect()"
      ],
      "execution_count": 0,
      "outputs": []
    },
    {
      "metadata": {
        "id": "IZCF9TNfmuOj",
        "colab_type": "code",
        "colab": {},
        "outputId": "56a0d38a-3101-4413-db32-3ea8ce7a569f"
      },
      "cell_type": "code",
      "source": [
        "np.corrcoef(prd,labels)"
      ],
      "execution_count": 0,
      "outputs": [
        {
          "output_type": "execute_result",
          "data": {
            "text/plain": [
              "array([[ 1.       , -0.8660254],\n",
              "       [-0.8660254,  1.       ]])"
            ]
          },
          "metadata": {
            "tags": []
          },
          "execution_count": 373
        }
      ]
    },
    {
      "metadata": {
        "id": "_2VhST7VmuOp",
        "colab_type": "code",
        "colab": {},
        "outputId": "a5064663-0450-4d7b-9fa2-60d1fe832186"
      },
      "cell_type": "code",
      "source": [
        "xs = np.array(features.collect()).squeeze()\n",
        "\n",
        "fig, axes = plt.subplots(1, 2, figsize=(10, 4));\n",
        "axes[0].scatter(xs[:, 0], xs[:,1], c=prd);\n",
        "axes[0].set_title('Predicted');\n",
        "axes[1].scatter(xs[:, 0], xs[:,1], c=labels)\n",
        "axes[1].set_title('Labels');\n",
        "plt.show()"
      ],
      "execution_count": 0,
      "outputs": [
        {
          "output_type": "display_data",
          "data": {
            "image/png": "[encoded data removed]",
            "text/plain": [
              "<Figure size 720x288 with 2 Axes>"
            ]
          },
          "metadata": {
            "tags": []
          }
        }
      ]
    },
    {
      "metadata": {
        "id": "Er6ueN91muOv",
        "colab_type": "code",
        "colab": {},
        "outputId": "81766222-fc07-428f-dbe2-a059968affe4"
      },
      "cell_type": "code",
      "source": [
        "data_new.show(5)"
      ],
      "execution_count": 0,
      "outputs": [
        {
          "output_type": "stream",
          "text": [
            "+--------------------+-------+---------+\n",
            "|        std_features|Species|label_idx|\n",
            "+--------------------+-------+---------+\n",
            "|[-0.4593595521092...| setosa|      2.0|\n",
            "|[-1.6473583937710...| setosa|      2.0|\n",
            "|[-1.6473583937710...| setosa|      2.0|\n",
            "|[-1.6473583937710...| setosa|      2.0|\n",
            "|[-0.4593595521092...| setosa|      2.0|\n",
            "+--------------------+-------+---------+\n",
            "only showing top 5 rows\n",
            "\n"
          ],
          "name": "stdout"
        }
      ]
    },
    {
      "metadata": {
        "id": "5p6TID4qmuOz",
        "colab_type": "code",
        "colab": {},
        "outputId": "78745981-674d-45b3-adab-ce1e860e7845"
      },
      "cell_type": "code",
      "source": [
        "type(data_new),type(transformed),type(data)"
      ],
      "execution_count": 0,
      "outputs": [
        {
          "output_type": "execute_result",
          "data": {
            "text/plain": [
              "(pyspark.sql.dataframe.DataFrame,\n",
              " pyspark.sql.dataframe.DataFrame,\n",
              " pyspark.rdd.RDD)"
            ]
          },
          "metadata": {
            "tags": []
          },
          "execution_count": 376
        }
      ]
    },
    {
      "metadata": {
        "id": "MekL59kJmuO4",
        "colab_type": "code",
        "colab": {}
      },
      "cell_type": "code",
      "source": [
        "data7=sc.textFile('./iris.csv')"
      ],
      "execution_count": 0,
      "outputs": []
    },
    {
      "metadata": {
        "id": "RlArTRYfmuO8",
        "colab_type": "code",
        "colab": {}
      },
      "cell_type": "code",
      "source": [
        "from pyspark.mllib import linalg as mllib_linalg\n",
        "from pyspark.ml import linalg as ml_linalg\n",
        "\n",
        "def as_old(v):\n",
        "    if isinstance(v, ml_linalg.SparseVector):\n",
        "        return mllib_linalg.SparseVector(v.size, v.indices, v.values)\n",
        "    if isinstance(v, ml_linalg.DenseVector):\n",
        "        return mllib_linalg.DenseVector(v.values)\n",
        "    raise ValueError(\"Unsupported type {0}\".format(type(v)))"
      ],
      "execution_count": 0,
      "outputs": []
    },
    {
      "metadata": {
        "id": "ID2AGgSRmuPJ",
        "colab_type": "code",
        "colab": {},
        "outputId": "007d94d5-9b15-4d21-812d-dbf5dc9b9ab9"
      },
      "cell_type": "code",
      "source": [
        "data5= (transformed.select(col(\"label_idx\").alias(\"label\"), col(\"std_features\"))\n",
        "  .rdd\n",
        "  .map(lambda row: LabeledPoint(row.label, as_old(row.std_features))))\n",
        "data5.take(5)"
      ],
      "execution_count": 0,
      "outputs": [
        {
          "output_type": "execute_result",
          "data": {
            "text/plain": [
              "[LabeledPoint(2.0, [-0.459359552109,-1.20368659758,0.663352694696,-1.30168093881]),\n",
              " LabeledPoint(2.0, [-1.64735839377,-1.20368659758,0.663352694696,-1.30168093881]),\n",
              " LabeledPoint(2.0, [-1.64735839377,-1.20368659758,0.663352694696,-1.30168093881]),\n",
              " LabeledPoint(2.0, [-1.64735839377,-1.20368659758,0.663352694696,-1.30168093881]),\n",
              " LabeledPoint(2.0, [-0.459359552109,-1.20368659758,0.663352694696,-1.30168093881])]"
            ]
          },
          "metadata": {
            "tags": []
          },
          "execution_count": 379
        }
      ]
    },
    {
      "metadata": {
        "id": "jNyd_uyrmuPT",
        "colab_type": "code",
        "colab": {},
        "outputId": "42198ba5-2319-403f-c710-616f89dbd08b"
      },
      "cell_type": "code",
      "source": [
        "data4 = data_new.rdd.map(lambda x:  LabeledPoint(x[2],as_old(x[0])))\n",
        "data4"
      ],
      "execution_count": 0,
      "outputs": [
        {
          "output_type": "execute_result",
          "data": {
            "text/plain": [
              "PythonRDD[127] at RDD at PythonRDD.scala:48"
            ]
          },
          "metadata": {
            "tags": []
          },
          "execution_count": 381
        }
      ]
    },
    {
      "metadata": {
        "id": "kFZn1HtzmuPc",
        "colab_type": "code",
        "colab": {}
      },
      "cell_type": "code",
      "source": [
        "training, test = data4.randomSplit([0.8, 0.2], seed=50)"
      ],
      "execution_count": 0,
      "outputs": []
    },
    {
      "metadata": {
        "id": "ceItg4L4muPh",
        "colab_type": "code",
        "colab": {},
        "outputId": "fe7d34a8-52f1-4ac1-93d0-94184b22e69f"
      },
      "cell_type": "code",
      "source": [
        "training.count(),test.count()"
      ],
      "execution_count": 0,
      "outputs": [
        {
          "output_type": "execute_result",
          "data": {
            "text/plain": [
              "(117, 33)"
            ]
          },
          "metadata": {
            "tags": []
          },
          "execution_count": 383
        }
      ]
    },
    {
      "metadata": {
        "id": "koffJo0umuPp",
        "colab_type": "code",
        "colab": {},
        "outputId": "af4a7621-8e31-4061-ef91-f61e1706052f"
      },
      "cell_type": "code",
      "source": [
        "training.toLocalIterator()"
      ],
      "execution_count": 0,
      "outputs": [
        {
          "output_type": "execute_result",
          "data": {
            "text/plain": [
              "<itertools.chain at 0xa5c1fa8c>"
            ]
          },
          "metadata": {
            "tags": []
          },
          "execution_count": 388
        }
      ]
    },
    {
      "metadata": {
        "id": "_ZgmhqJ0muPv",
        "colab_type": "code",
        "colab": {}
      },
      "cell_type": "code",
      "source": [
        "model = LogisticRegressionWithLBFGS.train(sc.parallelize(training.toLocalIterator()), numClasses=3) # works OK"
      ],
      "execution_count": 0,
      "outputs": []
    },
    {
      "metadata": {
        "id": "L6MCl0-AmuP1",
        "colab_type": "code",
        "colab": {},
        "outputId": "98a21f84-6934-464b-da3d-8d2bb09adf31"
      },
      "cell_type": "code",
      "source": [
        "pred = test.map(lambda x: model.predict(x.features))\n",
        "pred.take(15)"
      ],
      "execution_count": 0,
      "outputs": [
        {
          "output_type": "execute_result",
          "data": {
            "text/plain": [
              "[2, 2, 2, 2, 2, 2, 2, 2, 2, 2, 2, 2, 2, 2, 0]"
            ]
          },
          "metadata": {
            "tags": []
          },
          "execution_count": 400
        }
      ]
    },
    {
      "metadata": {
        "id": "zH252_r7muP7",
        "colab_type": "code",
        "colab": {},
        "outputId": "ff7d4454-8846-4aec-e053-e258ef279890"
      },
      "cell_type": "code",
      "source": [
        "y_yhat = test.map(lambda x: (x.label, float(model.predict(x.features))))\n",
        "err = y_yhat.filter(lambda x: x[0] != x[1]).count() / float(test.count())\n",
        "print(\"Error = \" + str(err))"
      ],
      "execution_count": 0,
      "outputs": [
        {
          "output_type": "stream",
          "text": [
            "Error = 0.030303030303030304\n"
          ],
          "name": "stdout"
        }
      ]
    },
    {
      "metadata": {
        "id": "Y0YH3tQRmuQC",
        "colab_type": "code",
        "colab": {},
        "outputId": "3b0489d8-6b35-4767-bb29-d004ed2cb8dc"
      },
      "cell_type": "code",
      "source": [
        "y_yhat.take(5)"
      ],
      "execution_count": 0,
      "outputs": [
        {
          "output_type": "execute_result",
          "data": {
            "text/plain": [
              "[(2.0, 2.0), (2.0, 2.0), (2.0, 2.0), (2.0, 2.0), (2.0, 2.0)]"
            ]
          },
          "metadata": {
            "tags": []
          },
          "execution_count": 415
        }
      ]
    },
    {
      "metadata": {
        "id": "ln690LKsmuQI",
        "colab_type": "code",
        "colab": {},
        "outputId": "479d708d-f7fd-4388-fb2c-952476f1ac92"
      },
      "cell_type": "code",
      "source": [
        "# Instantiate metrics object\n",
        "metrics = BinaryClassificationMetrics(y_yhat)\n",
        "\n",
        "# Area under precision-recall curve\n",
        "print(\"Area under PR = %s\" % metrics.areaUnderPR)\n",
        "\n",
        "# Area under ROC curve\n",
        "print(\"Area under ROC = %s\" % metrics.areaUnderROC)\n"
      ],
      "execution_count": 0,
      "outputs": [
        {
          "output_type": "stream",
          "text": [
            "Area under PR = 0.9951515151515151\n",
            "Area under ROC = 0.98\n"
          ],
          "name": "stdout"
        }
      ]
    },
    {
      "metadata": {
        "id": "_jtFygQLmuQT",
        "colab_type": "code",
        "colab": {},
        "outputId": "d3864e8e-8707-4247-a15b-75e73a50b71d"
      },
      "cell_type": "code",
      "source": [
        "\n",
        "from pyspark.mllib.evaluation import MulticlassMetrics\n",
        "metrics = MulticlassMetrics(y_yhat)\n",
        "\n",
        "# Overall statistics\n",
        "precision = metrics.precision()\n",
        "recall = metrics.recall()\n",
        "f1Score = metrics.fMeasure()\n",
        "print(\"Summary Stats\")\n",
        "print(\"Precision = %s\" % precision)\n",
        "print(\"Recall = %s\" % recall)\n",
        "print(\"F1 Score = %s\" % f1Score)\n"
      ],
      "execution_count": 0,
      "outputs": [
        {
          "output_type": "stream",
          "text": [
            "/media/ratnesh/SONGS/analytics/spark/python/pyspark/mllib/evaluation.py:237: UserWarning: Deprecated in 2.0.0. Use accuracy.\n",
            "  warnings.warn(\"Deprecated in 2.0.0. Use accuracy.\")\n"
          ],
          "name": "stderr"
        },
        {
          "output_type": "stream",
          "text": [
            "Summary Stats\n",
            "Precision = 0.9696969696969697\n",
            "Recall = 0.9696969696969697\n",
            "F1 Score = 0.9696969696969697\n"
          ],
          "name": "stdout"
        },
        {
          "output_type": "stream",
          "text": [
            "/media/ratnesh/SONGS/analytics/spark/python/pyspark/mllib/evaluation.py:249: UserWarning: Deprecated in 2.0.0. Use accuracy.\n",
            "  warnings.warn(\"Deprecated in 2.0.0. Use accuracy.\")\n",
            "/media/ratnesh/SONGS/analytics/spark/python/pyspark/mllib/evaluation.py:262: UserWarning: Deprecated in 2.0.0. Use accuracy.\n",
            "  warnings.warn(\"Deprecated in 2.0.0. Use accuracy.\")\n"
          ],
          "name": "stderr"
        }
      ]
    },
    {
      "metadata": {
        "id": "2jbamY7NmuQb",
        "colab_type": "code",
        "colab": {},
        "outputId": "28c1aaa6-1371-4be0-bb08-081f86e44d58"
      },
      "cell_type": "code",
      "source": [
        "# Statistics by class\n",
        "labels = data_new.rdd.map(lambda lp: lp.label_idx).distinct().collect()\n",
        "for label in sorted(labels):\n",
        "    print(\"Class %s precision = %s\" % (label, metrics.precision(label)))\n",
        "    print(\"Class %s recall = %s\" % (label, metrics.recall(label)))\n",
        "    print(\"Class %s F1 Measure = %s\" % (label, metrics.fMeasure(label, beta=1.0)))\n",
        "\n",
        "# Weighted stats\n",
        "print(\"Weighted recall = %s\" % metrics.weightedRecall)\n",
        "print(\"Weighted precision = %s\" % metrics.weightedPrecision)\n",
        "print(\"Weighted F(1) Score = %s\" % metrics.weightedFMeasure())\n",
        "print(\"Weighted F(0.5) Score = %s\" % metrics.weightedFMeasure(beta=0.5))\n",
        "print(\"Weighted false positive rate = %s\" % metrics.weightedFalsePositiveRate)"
      ],
      "execution_count": 0,
      "outputs": [
        {
          "output_type": "stream",
          "text": [
            "Class 0.0 precision = 0.8888888888888888\n",
            "Class 0.0 recall = 1.0\n",
            "Class 0.0 F1 Measure = 0.9411764705882353\n",
            "Class 1.0 precision = 1.0\n",
            "Class 1.0 recall = 0.9090909090909091\n",
            "Class 1.0 F1 Measure = 0.9523809523809523\n",
            "Class 2.0 precision = 1.0\n",
            "Class 2.0 recall = 1.0\n",
            "Class 2.0 F1 Measure = 1.0\n",
            "Weighted recall = 0.9696969696969697\n",
            "Weighted precision = 0.973063973063973\n",
            "Weighted F(1) Score = 0.9698667345726169\n",
            "Weighted F(0.5) Score = 0.9714254847944688\n",
            "Weighted false positive rate = 0.009696969696969697\n"
          ],
          "name": "stdout"
        }
      ]
    },
    {
      "metadata": {
        "id": "8HDEGnlWmuQl",
        "colab_type": "code",
        "colab": {}
      },
      "cell_type": "code",
      "source": [
        "sc.stop()"
      ],
      "execution_count": 0,
      "outputs": []
    },
    {
      "metadata": {
        "id": "GnlPGlelmuQo",
        "colab_type": "code",
        "colab": {}
      },
      "cell_type": "code",
      "source": [
        ""
      ],
      "execution_count": 0,
      "outputs": []
    }
  ]
}