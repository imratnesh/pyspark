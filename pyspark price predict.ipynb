{
 "cells": [
  {
   "cell_type": "code",
   "execution_count": 145,
   "metadata": {},
   "outputs": [
    {
     "data": {
      "text/plain": [
       "['application_test.csv',\n",
       " 'application_train.csv',\n",
       " 'bureau.csv',\n",
       " 'bureau_balance.csv',\n",
       " 'installments_payments.csv',\n",
       " 'previous_application.csv',\n",
       " 'sample_submission.csv']"
      ]
     },
     "execution_count": 145,
     "metadata": {},
     "output_type": "execute_result"
    }
   ],
   "source": [
    "import os\n",
    "import numpy as np\n",
    "import pandas as pd\n",
    "import spark_sklearn as spk\n",
    "\n",
    "from pyspark.ml.feature import VectorAssembler\n",
    "from pyspark.ml.feature import StandardScaler\n",
    "from pyspark.ml.feature import StringIndexer\n",
    "from pyspark.ml.feature import PCA\n",
    "from pyspark.ml import Pipeline\n",
    "from pyspark.ml.classification import LogisticRegression\n",
    "\n",
    "from pyspark.mllib.regression import LabeledPoint\n",
    "from pyspark.mllib.clustering import GaussianMixture\n",
    "from pyspark.mllib.classification import LogisticRegressionWithLBFGS, LogisticRegressionModel\n",
    "from pyspark.mllib.evaluation import BinaryClassificationMetrics\n",
    "\n",
    "from pyspark.sql import SparkSession, SQLContext\n",
    "import pyspark.sql.functions as F\n",
    "from pyspark.sql.types import DoubleType\n",
    "\n",
    "\n",
    "import matplotlib.pyplot as plt\n",
    "import pyspark \n",
    "os.listdir('./input')"
   ]
  },
  {
   "cell_type": "code",
   "execution_count": 146,
   "metadata": {},
   "outputs": [],
   "source": [
    "from pyspark import SparkContext,SparkConf\n",
    "sc=SparkContext()"
   ]
  },
  {
   "cell_type": "code",
   "execution_count": 147,
   "metadata": {
    "collapsed": true
   },
   "outputs": [],
   "source": [
    "#!wget https://raw.githubusercontent.com/uiuc-cse/data-fa14/gh-pages/data/iris.csv"
   ]
  },
  {
   "cell_type": "code",
   "execution_count": 148,
   "metadata": {
    "collapsed": true
   },
   "outputs": [],
   "source": [
    "data=sc.textFile('./input/application_train.csv')"
   ]
  },
  {
   "cell_type": "code",
   "execution_count": 149,
   "metadata": {},
   "outputs": [
    {
     "data": {
      "text/plain": [
       "pyspark.rdd.RDD"
      ]
     },
     "execution_count": 149,
     "metadata": {},
     "output_type": "execute_result"
    }
   ],
   "source": [
    "type(data)"
   ]
  },
  {
   "cell_type": "code",
   "execution_count": 150,
   "metadata": {},
   "outputs": [
    {
     "data": {
      "text/plain": [
       "['SK_ID_CURR,TARGET,NAME_CONTRACT_TYPE,CODE_GENDER,FLAG_OWN_CAR,FLAG_OWN_REALTY,CNT_CHILDREN,AMT_INCOME_TOTAL,AMT_CREDIT,AMT_ANNUITY,AMT_GOODS_PRICE,NAME_TYPE_SUITE,NAME_INCOME_TYPE,NAME_EDUCATION_TYPE,NAME_FAMILY_STATUS,NAME_HOUSING_TYPE,REGION_POPULATION_RELATIVE,DAYS_BIRTH,DAYS_EMPLOYED,DAYS_REGISTRATION,DAYS_ID_PUBLISH,OWN_CAR_AGE,FLAG_MOBIL,FLAG_EMP_PHONE,FLAG_WORK_PHONE,FLAG_CONT_MOBILE,FLAG_PHONE,FLAG_EMAIL,OCCUPATION_TYPE,CNT_FAM_MEMBERS,REGION_RATING_CLIENT,REGION_RATING_CLIENT_W_CITY,WEEKDAY_APPR_PROCESS_START,HOUR_APPR_PROCESS_START,REG_REGION_NOT_LIVE_REGION,REG_REGION_NOT_WORK_REGION,LIVE_REGION_NOT_WORK_REGION,REG_CITY_NOT_LIVE_CITY,REG_CITY_NOT_WORK_CITY,LIVE_CITY_NOT_WORK_CITY,ORGANIZATION_TYPE,EXT_SOURCE_1,EXT_SOURCE_2,EXT_SOURCE_3,APARTMENTS_AVG,BASEMENTAREA_AVG,YEARS_BEGINEXPLUATATION_AVG,YEARS_BUILD_AVG,COMMONAREA_AVG,ELEVATORS_AVG,ENTRANCES_AVG,FLOORSMAX_AVG,FLOORSMIN_AVG,LANDAREA_AVG,LIVINGAPARTMENTS_AVG,LIVINGAREA_AVG,NONLIVINGAPARTMENTS_AVG,NONLIVINGAREA_AVG,APARTMENTS_MODE,BASEMENTAREA_MODE,YEARS_BEGINEXPLUATATION_MODE,YEARS_BUILD_MODE,COMMONAREA_MODE,ELEVATORS_MODE,ENTRANCES_MODE,FLOORSMAX_MODE,FLOORSMIN_MODE,LANDAREA_MODE,LIVINGAPARTMENTS_MODE,LIVINGAREA_MODE,NONLIVINGAPARTMENTS_MODE,NONLIVINGAREA_MODE,APARTMENTS_MEDI,BASEMENTAREA_MEDI,YEARS_BEGINEXPLUATATION_MEDI,YEARS_BUILD_MEDI,COMMONAREA_MEDI,ELEVATORS_MEDI,ENTRANCES_MEDI,FLOORSMAX_MEDI,FLOORSMIN_MEDI,LANDAREA_MEDI,LIVINGAPARTMENTS_MEDI,LIVINGAREA_MEDI,NONLIVINGAPARTMENTS_MEDI,NONLIVINGAREA_MEDI,FONDKAPREMONT_MODE,HOUSETYPE_MODE,TOTALAREA_MODE,WALLSMATERIAL_MODE,EMERGENCYSTATE_MODE,OBS_30_CNT_SOCIAL_CIRCLE,DEF_30_CNT_SOCIAL_CIRCLE,OBS_60_CNT_SOCIAL_CIRCLE,DEF_60_CNT_SOCIAL_CIRCLE,DAYS_LAST_PHONE_CHANGE,FLAG_DOCUMENT_2,FLAG_DOCUMENT_3,FLAG_DOCUMENT_4,FLAG_DOCUMENT_5,FLAG_DOCUMENT_6,FLAG_DOCUMENT_7,FLAG_DOCUMENT_8,FLAG_DOCUMENT_9,FLAG_DOCUMENT_10,FLAG_DOCUMENT_11,FLAG_DOCUMENT_12,FLAG_DOCUMENT_13,FLAG_DOCUMENT_14,FLAG_DOCUMENT_15,FLAG_DOCUMENT_16,FLAG_DOCUMENT_17,FLAG_DOCUMENT_18,FLAG_DOCUMENT_19,FLAG_DOCUMENT_20,FLAG_DOCUMENT_21,AMT_REQ_CREDIT_BUREAU_HOUR,AMT_REQ_CREDIT_BUREAU_DAY,AMT_REQ_CREDIT_BUREAU_WEEK,AMT_REQ_CREDIT_BUREAU_MON,AMT_REQ_CREDIT_BUREAU_QRT,AMT_REQ_CREDIT_BUREAU_YEAR',\n",
       " '100002,1,Cash loans,M,N,Y,0,202500.0,406597.5,24700.5,351000.0,Unaccompanied,Working,Secondary / secondary special,Single / not married,House / apartment,0.018801,-9461,-637,-3648.0,-2120,,1,1,0,1,1,0,Laborers,1.0,2,2,WEDNESDAY,10,0,0,0,0,0,0,Business Entity Type 3,0.08303696739132256,0.2629485927471776,0.13937578009978951,0.0247,0.0369,0.9722,0.6192,0.0143,0.0,0.069,0.0833,0.125,0.0369,0.0202,0.019,0.0,0.0,0.0252,0.0383,0.9722,0.6341,0.0144,0.0,0.069,0.0833,0.125,0.0377,0.022,0.0198,0.0,0.0,0.025,0.0369,0.9722,0.6243,0.0144,0.0,0.069,0.0833,0.125,0.0375,0.0205,0.0193,0.0,0.0,reg oper account,block of flats,0.0149,\"Stone, brick\",No,2.0,2.0,2.0,2.0,-1134.0,0,1,0,0,0,0,0,0,0,0,0,0,0,0,0,0,0,0,0,0,0.0,0.0,0.0,0.0,0.0,1.0']"
      ]
     },
     "execution_count": 150,
     "metadata": {},
     "output_type": "execute_result"
    }
   ],
   "source": [
    "data.take(2)"
   ]
  },
  {
   "cell_type": "code",
   "execution_count": 151,
   "metadata": {
    "collapsed": true
   },
   "outputs": [],
   "source": [
    "spark= SparkSession.builder \\\n",
    "    .master(\"local\") \\\n",
    "    .appName(\"Kaggele Price\") \\\n",
    "    .getOrCreate()"
   ]
  },
  {
   "cell_type": "code",
   "execution_count": 152,
   "metadata": {
    "collapsed": true
   },
   "outputs": [],
   "source": [
    "#load data as Spark DataFrame\n",
    "tr=spark.read.csv(\"./input/application_train.csv\", header='true', inferSchema='true')"
   ]
  },
  {
   "cell_type": "code",
   "execution_count": 153,
   "metadata": {
    "collapsed": true
   },
   "outputs": [],
   "source": [
    "te=spark.read.csv(\"./input/application_test.csv\", header='true', inferSchema='true')"
   ]
  },
  {
   "cell_type": "code",
   "execution_count": 154,
   "metadata": {},
   "outputs": [
    {
     "data": {
      "text/plain": [
       "307511"
      ]
     },
     "execution_count": 154,
     "metadata": {},
     "output_type": "execute_result"
    }
   ],
   "source": [
    "tr.count()"
   ]
  },
  {
   "cell_type": "code",
   "execution_count": 155,
   "metadata": {
    "collapsed": true
   },
   "outputs": [],
   "source": [
    "#te.show(5)\n",
    "#fn = F.udf(lambda x: x, DoubleType())\n",
    "#te.withColumn('AMT_ANNUITY', fn(te.AMT_ANNUITY))"
   ]
  },
  {
   "cell_type": "code",
   "execution_count": 156,
   "metadata": {},
   "outputs": [
    {
     "name": "stdout",
     "output_type": "stream",
     "text": [
      "root\n",
      " |-- SK_ID_CURR: integer (nullable = true)\n",
      " |-- TARGET: integer (nullable = true)\n",
      " |-- NAME_CONTRACT_TYPE: string (nullable = true)\n",
      " |-- CODE_GENDER: string (nullable = true)\n",
      " |-- FLAG_OWN_CAR: string (nullable = true)\n",
      " |-- FLAG_OWN_REALTY: string (nullable = true)\n",
      " |-- CNT_CHILDREN: integer (nullable = true)\n",
      " |-- AMT_INCOME_TOTAL: double (nullable = true)\n",
      " |-- AMT_CREDIT: double (nullable = true)\n",
      " |-- AMT_ANNUITY: double (nullable = true)\n",
      " |-- AMT_GOODS_PRICE: double (nullable = true)\n",
      " |-- NAME_TYPE_SUITE: string (nullable = true)\n",
      " |-- NAME_INCOME_TYPE: string (nullable = true)\n",
      " |-- NAME_EDUCATION_TYPE: string (nullable = true)\n",
      " |-- NAME_FAMILY_STATUS: string (nullable = true)\n",
      " |-- NAME_HOUSING_TYPE: string (nullable = true)\n",
      " |-- REGION_POPULATION_RELATIVE: double (nullable = true)\n",
      " |-- DAYS_BIRTH: integer (nullable = true)\n",
      " |-- DAYS_EMPLOYED: integer (nullable = true)\n",
      " |-- DAYS_REGISTRATION: double (nullable = true)\n",
      " |-- DAYS_ID_PUBLISH: integer (nullable = true)\n",
      " |-- OWN_CAR_AGE: double (nullable = true)\n",
      " |-- FLAG_MOBIL: integer (nullable = true)\n",
      " |-- FLAG_EMP_PHONE: integer (nullable = true)\n",
      " |-- FLAG_WORK_PHONE: integer (nullable = true)\n",
      " |-- FLAG_CONT_MOBILE: integer (nullable = true)\n",
      " |-- FLAG_PHONE: integer (nullable = true)\n",
      " |-- FLAG_EMAIL: integer (nullable = true)\n",
      " |-- OCCUPATION_TYPE: string (nullable = true)\n",
      " |-- CNT_FAM_MEMBERS: double (nullable = true)\n",
      " |-- REGION_RATING_CLIENT: integer (nullable = true)\n",
      " |-- REGION_RATING_CLIENT_W_CITY: integer (nullable = true)\n",
      " |-- WEEKDAY_APPR_PROCESS_START: string (nullable = true)\n",
      " |-- HOUR_APPR_PROCESS_START: integer (nullable = true)\n",
      " |-- REG_REGION_NOT_LIVE_REGION: integer (nullable = true)\n",
      " |-- REG_REGION_NOT_WORK_REGION: integer (nullable = true)\n",
      " |-- LIVE_REGION_NOT_WORK_REGION: integer (nullable = true)\n",
      " |-- REG_CITY_NOT_LIVE_CITY: integer (nullable = true)\n",
      " |-- REG_CITY_NOT_WORK_CITY: integer (nullable = true)\n",
      " |-- LIVE_CITY_NOT_WORK_CITY: integer (nullable = true)\n",
      " |-- ORGANIZATION_TYPE: string (nullable = true)\n",
      " |-- EXT_SOURCE_1: double (nullable = true)\n",
      " |-- EXT_SOURCE_2: double (nullable = true)\n",
      " |-- EXT_SOURCE_3: double (nullable = true)\n",
      " |-- APARTMENTS_AVG: double (nullable = true)\n",
      " |-- BASEMENTAREA_AVG: double (nullable = true)\n",
      " |-- YEARS_BEGINEXPLUATATION_AVG: double (nullable = true)\n",
      " |-- YEARS_BUILD_AVG: double (nullable = true)\n",
      " |-- COMMONAREA_AVG: double (nullable = true)\n",
      " |-- ELEVATORS_AVG: double (nullable = true)\n",
      " |-- ENTRANCES_AVG: double (nullable = true)\n",
      " |-- FLOORSMAX_AVG: double (nullable = true)\n",
      " |-- FLOORSMIN_AVG: double (nullable = true)\n",
      " |-- LANDAREA_AVG: double (nullable = true)\n",
      " |-- LIVINGAPARTMENTS_AVG: double (nullable = true)\n",
      " |-- LIVINGAREA_AVG: double (nullable = true)\n",
      " |-- NONLIVINGAPARTMENTS_AVG: double (nullable = true)\n",
      " |-- NONLIVINGAREA_AVG: double (nullable = true)\n",
      " |-- APARTMENTS_MODE: double (nullable = true)\n",
      " |-- BASEMENTAREA_MODE: double (nullable = true)\n",
      " |-- YEARS_BEGINEXPLUATATION_MODE: double (nullable = true)\n",
      " |-- YEARS_BUILD_MODE: double (nullable = true)\n",
      " |-- COMMONAREA_MODE: double (nullable = true)\n",
      " |-- ELEVATORS_MODE: double (nullable = true)\n",
      " |-- ENTRANCES_MODE: double (nullable = true)\n",
      " |-- FLOORSMAX_MODE: double (nullable = true)\n",
      " |-- FLOORSMIN_MODE: double (nullable = true)\n",
      " |-- LANDAREA_MODE: double (nullable = true)\n",
      " |-- LIVINGAPARTMENTS_MODE: double (nullable = true)\n",
      " |-- LIVINGAREA_MODE: double (nullable = true)\n",
      " |-- NONLIVINGAPARTMENTS_MODE: double (nullable = true)\n",
      " |-- NONLIVINGAREA_MODE: double (nullable = true)\n",
      " |-- APARTMENTS_MEDI: double (nullable = true)\n",
      " |-- BASEMENTAREA_MEDI: double (nullable = true)\n",
      " |-- YEARS_BEGINEXPLUATATION_MEDI: double (nullable = true)\n",
      " |-- YEARS_BUILD_MEDI: double (nullable = true)\n",
      " |-- COMMONAREA_MEDI: double (nullable = true)\n",
      " |-- ELEVATORS_MEDI: double (nullable = true)\n",
      " |-- ENTRANCES_MEDI: double (nullable = true)\n",
      " |-- FLOORSMAX_MEDI: double (nullable = true)\n",
      " |-- FLOORSMIN_MEDI: double (nullable = true)\n",
      " |-- LANDAREA_MEDI: double (nullable = true)\n",
      " |-- LIVINGAPARTMENTS_MEDI: double (nullable = true)\n",
      " |-- LIVINGAREA_MEDI: double (nullable = true)\n",
      " |-- NONLIVINGAPARTMENTS_MEDI: double (nullable = true)\n",
      " |-- NONLIVINGAREA_MEDI: double (nullable = true)\n",
      " |-- FONDKAPREMONT_MODE: string (nullable = true)\n",
      " |-- HOUSETYPE_MODE: string (nullable = true)\n",
      " |-- TOTALAREA_MODE: double (nullable = true)\n",
      " |-- WALLSMATERIAL_MODE: string (nullable = true)\n",
      " |-- EMERGENCYSTATE_MODE: string (nullable = true)\n",
      " |-- OBS_30_CNT_SOCIAL_CIRCLE: double (nullable = true)\n",
      " |-- DEF_30_CNT_SOCIAL_CIRCLE: double (nullable = true)\n",
      " |-- OBS_60_CNT_SOCIAL_CIRCLE: double (nullable = true)\n",
      " |-- DEF_60_CNT_SOCIAL_CIRCLE: double (nullable = true)\n",
      " |-- DAYS_LAST_PHONE_CHANGE: double (nullable = true)\n",
      " |-- FLAG_DOCUMENT_2: integer (nullable = true)\n",
      " |-- FLAG_DOCUMENT_3: integer (nullable = true)\n",
      " |-- FLAG_DOCUMENT_4: integer (nullable = true)\n",
      " |-- FLAG_DOCUMENT_5: integer (nullable = true)\n",
      " |-- FLAG_DOCUMENT_6: integer (nullable = true)\n",
      " |-- FLAG_DOCUMENT_7: integer (nullable = true)\n",
      " |-- FLAG_DOCUMENT_8: integer (nullable = true)\n",
      " |-- FLAG_DOCUMENT_9: integer (nullable = true)\n",
      " |-- FLAG_DOCUMENT_10: integer (nullable = true)\n",
      " |-- FLAG_DOCUMENT_11: integer (nullable = true)\n",
      " |-- FLAG_DOCUMENT_12: integer (nullable = true)\n",
      " |-- FLAG_DOCUMENT_13: integer (nullable = true)\n",
      " |-- FLAG_DOCUMENT_14: integer (nullable = true)\n",
      " |-- FLAG_DOCUMENT_15: integer (nullable = true)\n",
      " |-- FLAG_DOCUMENT_16: integer (nullable = true)\n",
      " |-- FLAG_DOCUMENT_17: integer (nullable = true)\n",
      " |-- FLAG_DOCUMENT_18: integer (nullable = true)\n",
      " |-- FLAG_DOCUMENT_19: integer (nullable = true)\n",
      " |-- FLAG_DOCUMENT_20: integer (nullable = true)\n",
      " |-- FLAG_DOCUMENT_21: integer (nullable = true)\n",
      " |-- AMT_REQ_CREDIT_BUREAU_HOUR: double (nullable = true)\n",
      " |-- AMT_REQ_CREDIT_BUREAU_DAY: double (nullable = true)\n",
      " |-- AMT_REQ_CREDIT_BUREAU_WEEK: double (nullable = true)\n",
      " |-- AMT_REQ_CREDIT_BUREAU_MON: double (nullable = true)\n",
      " |-- AMT_REQ_CREDIT_BUREAU_QRT: double (nullable = true)\n",
      " |-- AMT_REQ_CREDIT_BUREAU_YEAR: double (nullable = true)\n",
      "\n"
     ]
    }
   ],
   "source": [
    "te.printSchema()"
   ]
  },
  {
   "cell_type": "code",
   "execution_count": 157,
   "metadata": {},
   "outputs": [
    {
     "name": "stdout",
     "output_type": "stream",
     "text": [
      "+-----------------------+\n",
      "|max(NAME_FAMILY_STATUS)|\n",
      "+-----------------------+\n",
      "|                  Widow|\n",
      "+-----------------------+\n",
      "\n"
     ]
    }
   ],
   "source": [
    "tr.select(cols).agg(F.max(cols[14])).show()"
   ]
  },
  {
   "cell_type": "code",
   "execution_count": 158,
   "metadata": {},
   "outputs": [
    {
     "data": {
      "text/plain": [
       "8602"
      ]
     },
     "execution_count": 158,
     "metadata": {},
     "output_type": "execute_result"
    }
   ],
   "source": [
    "tr=tr.dropna()\n",
    "tr.count()"
   ]
  },
  {
   "cell_type": "code",
   "execution_count": 159,
   "metadata": {},
   "outputs": [
    {
     "data": {
      "text/plain": [
       "['NAME_CONTRACT_TYPE',\n",
       " 'CODE_GENDER',\n",
       " 'FLAG_OWN_CAR',\n",
       " 'FLAG_OWN_REALTY',\n",
       " 'NAME_TYPE_SUITE',\n",
       " 'NAME_INCOME_TYPE',\n",
       " 'NAME_EDUCATION_TYPE',\n",
       " 'NAME_FAMILY_STATUS',\n",
       " 'NAME_HOUSING_TYPE',\n",
       " 'OCCUPATION_TYPE',\n",
       " 'WEEKDAY_APPR_PROCESS_START',\n",
       " 'ORGANIZATION_TYPE',\n",
       " 'FONDKAPREMONT_MODE',\n",
       " 'HOUSETYPE_MODE',\n",
       " 'WALLSMATERIAL_MODE',\n",
       " 'EMERGENCYSTATE_MODE']"
      ]
     },
     "execution_count": 159,
     "metadata": {},
     "output_type": "execute_result"
    }
   ],
   "source": [
    "item = tr.dtypes\n",
    "str_cols = [i[0] for i in item if i[1] == 'string' ]\n",
    "str_cols"
   ]
  },
  {
   "cell_type": "code",
   "execution_count": 160,
   "metadata": {},
   "outputs": [],
   "source": [
    "cols =tr.columns\n",
    "indexers = [StringIndexer(inputCol=column, outputCol=column+\"_index\").fit(tr) for column in str_cols]\n",
    "\n",
    "pipeline = Pipeline(stages=indexers)\n",
    "df_tr = pipeline.fit(tr).transform(tr)"
   ]
  },
  {
   "cell_type": "code",
   "execution_count": 161,
   "metadata": {},
   "outputs": [
    {
     "data": {
      "text/plain": [
       "['SK_ID_CURR',\n",
       " 'TARGET',\n",
       " 'CNT_CHILDREN',\n",
       " 'DAYS_BIRTH',\n",
       " 'DAYS_EMPLOYED',\n",
       " 'DAYS_ID_PUBLISH',\n",
       " 'FLAG_MOBIL',\n",
       " 'FLAG_EMP_PHONE',\n",
       " 'FLAG_WORK_PHONE',\n",
       " 'FLAG_CONT_MOBILE',\n",
       " 'FLAG_PHONE',\n",
       " 'FLAG_EMAIL',\n",
       " 'REGION_RATING_CLIENT',\n",
       " 'REGION_RATING_CLIENT_W_CITY',\n",
       " 'HOUR_APPR_PROCESS_START',\n",
       " 'REG_REGION_NOT_LIVE_REGION',\n",
       " 'REG_REGION_NOT_WORK_REGION',\n",
       " 'LIVE_REGION_NOT_WORK_REGION',\n",
       " 'REG_CITY_NOT_LIVE_CITY',\n",
       " 'REG_CITY_NOT_WORK_CITY',\n",
       " 'LIVE_CITY_NOT_WORK_CITY',\n",
       " 'FLAG_DOCUMENT_2',\n",
       " 'FLAG_DOCUMENT_3',\n",
       " 'FLAG_DOCUMENT_4',\n",
       " 'FLAG_DOCUMENT_5',\n",
       " 'FLAG_DOCUMENT_6',\n",
       " 'FLAG_DOCUMENT_7',\n",
       " 'FLAG_DOCUMENT_8',\n",
       " 'FLAG_DOCUMENT_9',\n",
       " 'FLAG_DOCUMENT_10',\n",
       " 'FLAG_DOCUMENT_11',\n",
       " 'FLAG_DOCUMENT_12',\n",
       " 'FLAG_DOCUMENT_13',\n",
       " 'FLAG_DOCUMENT_14',\n",
       " 'FLAG_DOCUMENT_15',\n",
       " 'FLAG_DOCUMENT_16',\n",
       " 'FLAG_DOCUMENT_17',\n",
       " 'FLAG_DOCUMENT_18',\n",
       " 'FLAG_DOCUMENT_19',\n",
       " 'FLAG_DOCUMENT_20',\n",
       " 'FLAG_DOCUMENT_21']"
      ]
     },
     "execution_count": 161,
     "metadata": {},
     "output_type": "execute_result"
    }
   ],
   "source": [
    "int_cols = [i[0] for i in item  if i[1] == 'int']\n",
    "int_cols"
   ]
  },
  {
   "cell_type": "code",
   "execution_count": 162,
   "metadata": {},
   "outputs": [
    {
     "data": {
      "text/plain": [
       "[Row(DAYS_ID_PUBLISH=-4176, OWN_CAR_AGE=22.0, FLAG_MOBIL=1, FLAG_EMP_PHONE=1, FLAG_WORK_PHONE=0, FLAG_CONT_MOBILE=1, FLAG_PHONE=0, FLAG_EMAIL=0, OCCUPATION_TYPE='Laborers', CNT_FAM_MEMBERS=2.0),\n",
       " Row(DAYS_ID_PUBLISH=-1494, OWN_CAR_AGE=8.0, FLAG_MOBIL=1, FLAG_EMP_PHONE=1, FLAG_WORK_PHONE=0, FLAG_CONT_MOBILE=1, FLAG_PHONE=0, FLAG_EMAIL=0, OCCUPATION_TYPE='Laborers', CNT_FAM_MEMBERS=2.0),\n",
       " Row(DAYS_ID_PUBLISH=-2009, OWN_CAR_AGE=4.0, FLAG_MOBIL=1, FLAG_EMP_PHONE=1, FLAG_WORK_PHONE=0, FLAG_CONT_MOBILE=1, FLAG_PHONE=0, FLAG_EMAIL=0, OCCUPATION_TYPE='Managers', CNT_FAM_MEMBERS=2.0),\n",
       " Row(DAYS_ID_PUBLISH=-4529, OWN_CAR_AGE=3.0, FLAG_MOBIL=1, FLAG_EMP_PHONE=1, FLAG_WORK_PHONE=0, FLAG_CONT_MOBILE=1, FLAG_PHONE=1, FLAG_EMAIL=0, OCCUPATION_TYPE='Laborers', CNT_FAM_MEMBERS=2.0)]"
      ]
     },
     "execution_count": 162,
     "metadata": {},
     "output_type": "execute_result"
    }
   ],
   "source": [
    "df_tr.select(cols[20:30]).limit(25).take(4)"
   ]
  },
  {
   "cell_type": "code",
   "execution_count": 163,
   "metadata": {},
   "outputs": [
    {
     "name": "stdout",
     "output_type": "stream",
     "text": [
      "+------------------+-----------+\n",
      "|NAME_CONTRACT_TYPE|CODE_GENDER|\n",
      "+------------------+-----------+\n",
      "|        Cash loans|          M|\n",
      "|        Cash loans|          F|\n",
      "|        Cash loans|          F|\n",
      "|        Cash loans|          M|\n",
      "+------------------+-----------+\n",
      "only showing top 4 rows\n",
      "\n"
     ]
    }
   ],
   "source": [
    "df_tr.select('NAME_CONTRACT_TYPE','CODE_GENDER').show(4)"
   ]
  },
  {
   "cell_type": "code",
   "execution_count": 164,
   "metadata": {},
   "outputs": [],
   "source": [
    "transformer = VectorAssembler(inputCols=int_cols[2:],\n",
    "                              outputCol=\"features\")\n",
    "standardizer = StandardScaler(withMean=True, withStd=True,\n",
    "                              inputCol='features',\n",
    "                              outputCol='std_features')"
   ]
  },
  {
   "cell_type": "code",
   "execution_count": 165,
   "metadata": {},
   "outputs": [],
   "source": [
    "pca = PCA(k=5, inputCol=\"std_features\", outputCol=\"pca\")\n",
    "lr = LogisticRegression(featuresCol='std_features', labelCol='TARGET')\n",
    "\n",
    "pipeline = Pipeline(stages=[transformer, standardizer, pca, lr])\n"
   ]
  },
  {
   "cell_type": "code",
   "execution_count": 166,
   "metadata": {
    "collapsed": true
   },
   "outputs": [],
   "source": [
    "train, validate = df_tr.randomSplit([0.8,0.2],seed=123)"
   ]
  },
  {
   "cell_type": "code",
   "execution_count": 167,
   "metadata": {},
   "outputs": [
    {
     "name": "stdout",
     "output_type": "stream",
     "text": [
      "+----------+------+------------------+-----------+------------+---------------+------------+----------------+----------+-----------+---------------+---------------+--------------------+--------------------+--------------------+-----------------+--------------------------+----------+-------------+-----------------+---------------+-----------+----------+--------------+---------------+----------------+----------+----------+---------------+---------------+--------------------+---------------------------+--------------------------+-----------------------+--------------------------+--------------------------+---------------------------+----------------------+----------------------+-----------------------+--------------------+-------------------+-------------------+-------------------+--------------+----------------+---------------------------+---------------+--------------+-------------+-------------+-------------+-------------+-------------------+--------------------+--------------+-----------------------+-----------------+---------------+-----------------+----------------------------+----------------+---------------+--------------+--------------+--------------+--------------+-------------+---------------------+---------------+------------------------+------------------+---------------+-----------------+----------------------------+----------------+---------------+--------------+--------------+--------------+--------------+-------------+---------------------+---------------+------------------------+------------------+--------------------+--------------+--------------+------------------+-------------------+------------------------+------------------------+------------------------+------------------------+----------------------+---------------+---------------+---------------+---------------+---------------+---------------+---------------+---------------+----------------+----------------+----------------+----------------+----------------+----------------+----------------+----------------+----------------+----------------+----------------+----------------+--------------------------+-------------------------+--------------------------+-------------------------+-------------------------+--------------------------+------------------------+-----------------+------------------+---------------------+---------------------+----------------------+-------------------------+------------------------+-----------------------+---------------------+--------------------------------+-----------------------+------------------------+--------------------+------------------------+-------------------------+\n",
      "|SK_ID_CURR|TARGET|NAME_CONTRACT_TYPE|CODE_GENDER|FLAG_OWN_CAR|FLAG_OWN_REALTY|CNT_CHILDREN|AMT_INCOME_TOTAL|AMT_CREDIT|AMT_ANNUITY|AMT_GOODS_PRICE|NAME_TYPE_SUITE|    NAME_INCOME_TYPE| NAME_EDUCATION_TYPE|  NAME_FAMILY_STATUS|NAME_HOUSING_TYPE|REGION_POPULATION_RELATIVE|DAYS_BIRTH|DAYS_EMPLOYED|DAYS_REGISTRATION|DAYS_ID_PUBLISH|OWN_CAR_AGE|FLAG_MOBIL|FLAG_EMP_PHONE|FLAG_WORK_PHONE|FLAG_CONT_MOBILE|FLAG_PHONE|FLAG_EMAIL|OCCUPATION_TYPE|CNT_FAM_MEMBERS|REGION_RATING_CLIENT|REGION_RATING_CLIENT_W_CITY|WEEKDAY_APPR_PROCESS_START|HOUR_APPR_PROCESS_START|REG_REGION_NOT_LIVE_REGION|REG_REGION_NOT_WORK_REGION|LIVE_REGION_NOT_WORK_REGION|REG_CITY_NOT_LIVE_CITY|REG_CITY_NOT_WORK_CITY|LIVE_CITY_NOT_WORK_CITY|   ORGANIZATION_TYPE|       EXT_SOURCE_1|       EXT_SOURCE_2|       EXT_SOURCE_3|APARTMENTS_AVG|BASEMENTAREA_AVG|YEARS_BEGINEXPLUATATION_AVG|YEARS_BUILD_AVG|COMMONAREA_AVG|ELEVATORS_AVG|ENTRANCES_AVG|FLOORSMAX_AVG|FLOORSMIN_AVG|       LANDAREA_AVG|LIVINGAPARTMENTS_AVG|LIVINGAREA_AVG|NONLIVINGAPARTMENTS_AVG|NONLIVINGAREA_AVG|APARTMENTS_MODE|BASEMENTAREA_MODE|YEARS_BEGINEXPLUATATION_MODE|YEARS_BUILD_MODE|COMMONAREA_MODE|ELEVATORS_MODE|ENTRANCES_MODE|FLOORSMAX_MODE|FLOORSMIN_MODE|LANDAREA_MODE|LIVINGAPARTMENTS_MODE|LIVINGAREA_MODE|NONLIVINGAPARTMENTS_MODE|NONLIVINGAREA_MODE|APARTMENTS_MEDI|BASEMENTAREA_MEDI|YEARS_BEGINEXPLUATATION_MEDI|YEARS_BUILD_MEDI|COMMONAREA_MEDI|ELEVATORS_MEDI|ENTRANCES_MEDI|FLOORSMAX_MEDI|FLOORSMIN_MEDI|LANDAREA_MEDI|LIVINGAPARTMENTS_MEDI|LIVINGAREA_MEDI|NONLIVINGAPARTMENTS_MEDI|NONLIVINGAREA_MEDI|  FONDKAPREMONT_MODE|HOUSETYPE_MODE|TOTALAREA_MODE|WALLSMATERIAL_MODE|EMERGENCYSTATE_MODE|OBS_30_CNT_SOCIAL_CIRCLE|DEF_30_CNT_SOCIAL_CIRCLE|OBS_60_CNT_SOCIAL_CIRCLE|DEF_60_CNT_SOCIAL_CIRCLE|DAYS_LAST_PHONE_CHANGE|FLAG_DOCUMENT_2|FLAG_DOCUMENT_3|FLAG_DOCUMENT_4|FLAG_DOCUMENT_5|FLAG_DOCUMENT_6|FLAG_DOCUMENT_7|FLAG_DOCUMENT_8|FLAG_DOCUMENT_9|FLAG_DOCUMENT_10|FLAG_DOCUMENT_11|FLAG_DOCUMENT_12|FLAG_DOCUMENT_13|FLAG_DOCUMENT_14|FLAG_DOCUMENT_15|FLAG_DOCUMENT_16|FLAG_DOCUMENT_17|FLAG_DOCUMENT_18|FLAG_DOCUMENT_19|FLAG_DOCUMENT_20|FLAG_DOCUMENT_21|AMT_REQ_CREDIT_BUREAU_HOUR|AMT_REQ_CREDIT_BUREAU_DAY|AMT_REQ_CREDIT_BUREAU_WEEK|AMT_REQ_CREDIT_BUREAU_MON|AMT_REQ_CREDIT_BUREAU_QRT|AMT_REQ_CREDIT_BUREAU_YEAR|NAME_CONTRACT_TYPE_index|CODE_GENDER_index|FLAG_OWN_CAR_index|FLAG_OWN_REALTY_index|NAME_TYPE_SUITE_index|NAME_INCOME_TYPE_index|NAME_EDUCATION_TYPE_index|NAME_FAMILY_STATUS_index|NAME_HOUSING_TYPE_index|OCCUPATION_TYPE_index|WEEKDAY_APPR_PROCESS_START_index|ORGANIZATION_TYPE_index|FONDKAPREMONT_MODE_index|HOUSETYPE_MODE_index|WALLSMATERIAL_MODE_index|EMERGENCYSTATE_MODE_index|\n",
      "+----------+------+------------------+-----------+------------+---------------+------------+----------------+----------+-----------+---------------+---------------+--------------------+--------------------+--------------------+-----------------+--------------------------+----------+-------------+-----------------+---------------+-----------+----------+--------------+---------------+----------------+----------+----------+---------------+---------------+--------------------+---------------------------+--------------------------+-----------------------+--------------------------+--------------------------+---------------------------+----------------------+----------------------+-----------------------+--------------------+-------------------+-------------------+-------------------+--------------+----------------+---------------------------+---------------+--------------+-------------+-------------+-------------+-------------+-------------------+--------------------+--------------+-----------------------+-----------------+---------------+-----------------+----------------------------+----------------+---------------+--------------+--------------+--------------+--------------+-------------+---------------------+---------------+------------------------+------------------+---------------+-----------------+----------------------------+----------------+---------------+--------------+--------------+--------------+--------------+-------------+---------------------+---------------+------------------------+------------------+--------------------+--------------+--------------+------------------+-------------------+------------------------+------------------------+------------------------+------------------------+----------------------+---------------+---------------+---------------+---------------+---------------+---------------+---------------+---------------+----------------+----------------+----------------+----------------+----------------+----------------+----------------+----------------+----------------+----------------+----------------+----------------+--------------------------+-------------------------+--------------------------+-------------------------+-------------------------+--------------------------+------------------------+-----------------+------------------+---------------------+---------------------+----------------------+-------------------------+------------------------+-----------------------+---------------------+--------------------------------+-----------------------+------------------------+--------------------+------------------------+-------------------------+\n",
      "|    100083|     0|        Cash loans|          M|           Y|              Y|           0|        103500.0|  573628.5|    24435.0|       463500.0|  Unaccompanied|             Working|Secondary / secon...|             Married|House / apartment|      0.009656999999999999|    -15406|         -892|           -341.0|          -4176|       22.0|         1|             1|              0|               1|         0|         0|       Laborers|            2.0|                   2|                          2|                    MONDAY|                     18|                         0|                         0|                          0|                     0|                     0|                      0|Business Entity T...| 0.2707661633733818| 0.7071263161734994| 0.5971924268337128|        0.1464|          0.1291|                     0.9861|         0.8096|         0.108|         0.04|       0.0345|       0.3333|        0.375|                0.0|              0.1194|        0.0933|                    0.0|              0.0|         0.1492|            0.134|                      0.9861|          0.8171|          0.109|        0.0403|        0.0345|        0.3333|         0.375|          0.0|               0.1304|         0.0972|                     0.0|               0.0|         0.1478|           0.1291|                      0.9861|          0.8121|         0.1087|          0.04|        0.0345|        0.3333|         0.375|          0.0|               0.1214|         0.0949|                     0.0|               0.0|    reg oper account|block of flats|        0.1324|      Stone, brick|                 No|                     2.0|                     1.0|                     2.0|                     1.0|               -2053.0|              0|              1|              0|              0|              0|              0|              0|              0|               0|               0|               0|               0|               0|               0|               0|               0|               0|               0|               0|               0|                       0.0|                      0.0|                       0.0|                      0.0|                      0.0|                       3.0|                     0.0|              0.0|               0.0|                  0.0|                  0.0|                   0.0|                      0.0|                     0.0|                    0.0|                  0.0|                             0.0|                    0.0|                     0.0|                 0.0|                     1.0|                      0.0|\n",
      "|    100295|     1|        Cash loans|          M|           Y|              N|           1|        225000.0| 1019205.0|    31032.0|       774000.0|  Unaccompanied|Commercial associate|Secondary / secon...|Single / not married|House / apartment|                  0.072508|    -11356|         -602|           -335.0|          -3224|        9.0|         1|             1|              0|               1|         0|         0|       Laborers|            2.0|                   1|                          1|                    MONDAY|                     14|                         1|                         0|                          1|                     0|                     0|                      0|Business Entity T...|0.26200511555191136|0.30239381716682984| 0.4632753280912678|        0.2402|          0.1098|                     0.9916|         0.8844|        0.4682|          0.4|       0.1724|       0.5417|          0.5|             0.0223|              0.1942|         0.227|                 0.0077|           0.0075|         0.2447|           0.1139|                      0.9916|          0.8889|         0.4724|        0.4028|        0.1724|        0.5417|           0.5|       0.0228|               0.2121|         0.2365|                  0.0078|             0.008|         0.2425|           0.1098|                      0.9916|          0.8859|         0.4711|           0.4|        0.1724|        0.5417|           0.5|       0.0227|               0.1975|          0.231|                  0.0078|            0.0077|    reg oper account|block of flats|        0.1874|             Panel|                 No|                     3.0|                     0.0|                     3.0|                     0.0|                 -14.0|              0|              1|              0|              0|              0|              0|              0|              0|               0|               0|               0|               0|               0|               0|               0|               0|               1|               0|               0|               0|                       0.0|                      0.0|                       0.0|                      6.0|                      0.0|                       1.0|                     0.0|              0.0|               0.0|                  1.0|                  0.0|                   1.0|                      0.0|                     1.0|                    0.0|                  0.0|                             0.0|                    0.0|                     0.0|                 0.0|                     0.0|                      0.0|\n",
      "|    100341|     0|        Cash loans|          M|           Y|              Y|           0|         76500.0|  545040.0|    20677.5|       450000.0|  Unaccompanied|             Working|Secondary / secon...|               Widow|House / apartment|                  0.031329|    -20348|        -7115|          -1799.0|          -2780|       28.0|         1|             1|              0|               1|         0|         0|       Laborers|            1.0|                   2|                          2|                   TUESDAY|                     10|                         0|                         0|                          0|                     0|                     0|                      0|    Industry: type 2|  0.660390355516301| 0.6473727821815991|0.31547215492577346|        0.0485|          0.0328|                     0.9816|         0.7484|        0.0216|          0.0|       0.0345|       0.1667|       0.2083|              0.012|              0.0395|        0.0218|                    0.0|              0.0|         0.0494|            0.034|                      0.9816|          0.7583|         0.0218|           0.0|        0.0345|        0.1667|        0.2083|       0.0122|               0.0432|         0.0228|                     0.0|               0.0|         0.0489|           0.0328|                      0.9816|          0.7518|         0.0217|           0.0|        0.0345|        0.1667|        0.2083|       0.0122|               0.0402|         0.0222|                     0.0|               0.0|    reg oper account|block of flats|         0.041|      Stone, brick|                 No|                     0.0|                     0.0|                     0.0|                     0.0|                   0.0|              0|              1|              0|              0|              0|              0|              0|              0|               0|               0|               0|               0|               0|               0|               0|               0|               0|               0|               0|               0|                       0.0|                      0.0|                       0.0|                      0.0|                      0.0|                       1.0|                     0.0|              0.0|               0.0|                  0.0|                  0.0|                   0.0|                      0.0|                     4.0|                    0.0|                  0.0|                             2.0|                   40.0|                     0.0|                 0.0|                     1.0|                      0.0|\n",
      "|    100343|     0|        Cash loans|          M|           Y|              Y|           0|        315000.0|   90000.0|     4504.5|        90000.0|  Unaccompanied|             Working|Secondary / secon...|Single / not married|     With parents|                    0.0228|    -10935|         -422|          -5251.0|          -3364|        2.0|         1|             1|              0|               1|         1|         0|        Drivers|            1.0|                   2|                          2|                  SATURDAY|                     11|                         0|                         0|                          0|                     0|                     0|                      0|Business Entity T...| 0.2598232457059673| 0.5819802398826008| 0.5370699579791587|        0.2959|          0.1433|                     0.9871|         0.8232|        0.0706|         0.32|       0.2759|       0.3333|        0.375|0.14400000000000002|              0.2404|        0.3213|                 0.0039|           0.0086|         0.3015|           0.1487|                      0.9871|          0.8301|         0.0712|        0.3222|        0.2759|        0.3333|         0.375|       0.1473|               0.2626|         0.3348|                  0.0039|            0.0091|         0.2987|           0.1433|                      0.9871|          0.8256|          0.071|          0.32|        0.2759|        0.3333|         0.375|       0.1465|               0.2446|         0.3271|                  0.0039|            0.0087|    org spec account|block of flats|        0.2932|             Panel|                 No|                     2.0|                     0.0|                     2.0|                     0.0|               -1016.0|              0|              0|              0|              0|              0|              0|              1|              0|               0|               0|               0|               0|               0|               0|               0|               0|               0|               0|               0|               0|                       0.0|                      0.0|                       0.0|                      0.0|                      0.0|                       1.0|                     0.0|              0.0|               0.0|                  0.0|                  0.0|                   0.0|                      0.0|                     1.0|                    1.0|                  4.0|                             5.0|                    0.0|                     3.0|                 0.0|                     0.0|                      0.0|\n",
      "|    100363|     0|        Cash loans|          F|           Y|              Y|           1|        360000.0|  493497.0|    48942.0|       454500.0|  Unaccompanied|Commercial associate|    Higher education|             Married|House / apartment|                  0.006629|    -14882|         -436|          -1140.0|          -4606|        6.0|         1|             1|              0|               1|         0|         1|     Core staff|            3.0|                   2|                          2|                    MONDAY|                     11|                         0|                         0|                          0|                     0|                     0|                      0|                Bank| 0.7354428830169121|  0.462204930913421| 0.5406544504453575|        0.0784|             0.0|                      0.995|          0.932|        0.0194|         0.08|        0.069|         0.25|       0.0417|             0.0979|               0.063|        0.1019|                 0.0618|           0.0544|         0.0798|              0.0|                       0.995|          0.9347|         0.0195|        0.0806|         0.069|          0.25|        0.0417|       0.1001|               0.0689|         0.1062|                  0.0623|            0.0576|         0.0791|              0.0|                       0.995|          0.9329|         0.0195|          0.08|         0.069|          0.25|        0.0417|       0.0996|               0.0641|         0.1037|                  0.0621|            0.0556|reg oper spec acc...|block of flats|         0.097|             Block|                 No|                     0.0|                     0.0|                     0.0|                     0.0|                -563.0|              0|              1|              0|              0|              0|              0|              0|              0|               0|               0|               0|               0|               0|               0|               0|               0|               0|               0|               0|               0|                       1.0|                      0.0|                       0.0|                      0.0|                      0.0|                       1.0|                     0.0|              1.0|               0.0|                  0.0|                  0.0|                   1.0|                      1.0|                     0.0|                    0.0|                  2.0|                             0.0|                   14.0|                     1.0|                 0.0|                     2.0|                      0.0|\n",
      "+----------+------+------------------+-----------+------------+---------------+------------+----------------+----------+-----------+---------------+---------------+--------------------+--------------------+--------------------+-----------------+--------------------------+----------+-------------+-----------------+---------------+-----------+----------+--------------+---------------+----------------+----------+----------+---------------+---------------+--------------------+---------------------------+--------------------------+-----------------------+--------------------------+--------------------------+---------------------------+----------------------+----------------------+-----------------------+--------------------+-------------------+-------------------+-------------------+--------------+----------------+---------------------------+---------------+--------------+-------------+-------------+-------------+-------------+-------------------+--------------------+--------------+-----------------------+-----------------+---------------+-----------------+----------------------------+----------------+---------------+--------------+--------------+--------------+--------------+-------------+---------------------+---------------+------------------------+------------------+---------------+-----------------+----------------------------+----------------+---------------+--------------+--------------+--------------+--------------+-------------+---------------------+---------------+------------------------+------------------+--------------------+--------------+--------------+------------------+-------------------+------------------------+------------------------+------------------------+------------------------+----------------------+---------------+---------------+---------------+---------------+---------------+---------------+---------------+---------------+----------------+----------------+----------------+----------------+----------------+----------------+----------------+----------------+----------------+----------------+----------------+----------------+--------------------------+-------------------------+--------------------------+-------------------------+-------------------------+--------------------------+------------------------+-----------------+------------------+---------------------+---------------------+----------------------+-------------------------+------------------------+-----------------------+---------------------+--------------------------------+-----------------------+------------------------+--------------------+------------------------+-------------------------+\n",
      "only showing top 5 rows\n",
      "\n"
     ]
    }
   ],
   "source": [
    "train.show(5)"
   ]
  },
  {
   "cell_type": "code",
   "execution_count": 168,
   "metadata": {},
   "outputs": [],
   "source": [
    "model = pipeline.fit(train)"
   ]
  },
  {
   "cell_type": "code",
   "execution_count": 169,
   "metadata": {
    "collapsed": true
   },
   "outputs": [],
   "source": [
    "val_prd = model.transform(validate)"
   ]
  },
  {
   "cell_type": "code",
   "execution_count": 170,
   "metadata": {},
   "outputs": [
    {
     "name": "stdout",
     "output_type": "stream",
     "text": [
      "+------+----------+\n",
      "|TARGET|prediction|\n",
      "+------+----------+\n",
      "|     0|       0.0|\n",
      "|     0|       0.0|\n",
      "|     0|       0.0|\n",
      "|     0|       0.0|\n",
      "|     0|       0.0|\n",
      "+------+----------+\n",
      "only showing top 5 rows\n",
      "\n"
     ]
    }
   ],
   "source": [
    "val_prd.select('TARGET','prediction').show(5)"
   ]
  },
  {
   "cell_type": "code",
   "execution_count": 171,
   "metadata": {},
   "outputs": [
    {
     "name": "stdout",
     "output_type": "stream",
     "text": [
      "root\n",
      " |-- SK_ID_CURR: integer (nullable = true)\n",
      " |-- TARGET: integer (nullable = true)\n",
      " |-- NAME_CONTRACT_TYPE: string (nullable = true)\n",
      " |-- CODE_GENDER: string (nullable = true)\n",
      " |-- FLAG_OWN_CAR: string (nullable = true)\n",
      " |-- FLAG_OWN_REALTY: string (nullable = true)\n",
      " |-- CNT_CHILDREN: integer (nullable = true)\n",
      " |-- AMT_INCOME_TOTAL: double (nullable = true)\n",
      " |-- AMT_CREDIT: double (nullable = true)\n",
      " |-- AMT_ANNUITY: double (nullable = true)\n",
      " |-- AMT_GOODS_PRICE: double (nullable = true)\n",
      " |-- NAME_TYPE_SUITE: string (nullable = true)\n",
      " |-- NAME_INCOME_TYPE: string (nullable = true)\n",
      " |-- NAME_EDUCATION_TYPE: string (nullable = true)\n",
      " |-- NAME_FAMILY_STATUS: string (nullable = true)\n",
      " |-- NAME_HOUSING_TYPE: string (nullable = true)\n",
      " |-- REGION_POPULATION_RELATIVE: double (nullable = true)\n",
      " |-- DAYS_BIRTH: integer (nullable = true)\n",
      " |-- DAYS_EMPLOYED: integer (nullable = true)\n",
      " |-- DAYS_REGISTRATION: double (nullable = true)\n",
      " |-- DAYS_ID_PUBLISH: integer (nullable = true)\n",
      " |-- OWN_CAR_AGE: double (nullable = true)\n",
      " |-- FLAG_MOBIL: integer (nullable = true)\n",
      " |-- FLAG_EMP_PHONE: integer (nullable = true)\n",
      " |-- FLAG_WORK_PHONE: integer (nullable = true)\n",
      " |-- FLAG_CONT_MOBILE: integer (nullable = true)\n",
      " |-- FLAG_PHONE: integer (nullable = true)\n",
      " |-- FLAG_EMAIL: integer (nullable = true)\n",
      " |-- OCCUPATION_TYPE: string (nullable = true)\n",
      " |-- CNT_FAM_MEMBERS: double (nullable = true)\n",
      " |-- REGION_RATING_CLIENT: integer (nullable = true)\n",
      " |-- REGION_RATING_CLIENT_W_CITY: integer (nullable = true)\n",
      " |-- WEEKDAY_APPR_PROCESS_START: string (nullable = true)\n",
      " |-- HOUR_APPR_PROCESS_START: integer (nullable = true)\n",
      " |-- REG_REGION_NOT_LIVE_REGION: integer (nullable = true)\n",
      " |-- REG_REGION_NOT_WORK_REGION: integer (nullable = true)\n",
      " |-- LIVE_REGION_NOT_WORK_REGION: integer (nullable = true)\n",
      " |-- REG_CITY_NOT_LIVE_CITY: integer (nullable = true)\n",
      " |-- REG_CITY_NOT_WORK_CITY: integer (nullable = true)\n",
      " |-- LIVE_CITY_NOT_WORK_CITY: integer (nullable = true)\n",
      " |-- ORGANIZATION_TYPE: string (nullable = true)\n",
      " |-- EXT_SOURCE_1: double (nullable = true)\n",
      " |-- EXT_SOURCE_2: double (nullable = true)\n",
      " |-- EXT_SOURCE_3: double (nullable = true)\n",
      " |-- APARTMENTS_AVG: double (nullable = true)\n",
      " |-- BASEMENTAREA_AVG: double (nullable = true)\n",
      " |-- YEARS_BEGINEXPLUATATION_AVG: double (nullable = true)\n",
      " |-- YEARS_BUILD_AVG: double (nullable = true)\n",
      " |-- COMMONAREA_AVG: double (nullable = true)\n",
      " |-- ELEVATORS_AVG: double (nullable = true)\n",
      " |-- ENTRANCES_AVG: double (nullable = true)\n",
      " |-- FLOORSMAX_AVG: double (nullable = true)\n",
      " |-- FLOORSMIN_AVG: double (nullable = true)\n",
      " |-- LANDAREA_AVG: double (nullable = true)\n",
      " |-- LIVINGAPARTMENTS_AVG: double (nullable = true)\n",
      " |-- LIVINGAREA_AVG: double (nullable = true)\n",
      " |-- NONLIVINGAPARTMENTS_AVG: double (nullable = true)\n",
      " |-- NONLIVINGAREA_AVG: double (nullable = true)\n",
      " |-- APARTMENTS_MODE: double (nullable = true)\n",
      " |-- BASEMENTAREA_MODE: double (nullable = true)\n",
      " |-- YEARS_BEGINEXPLUATATION_MODE: double (nullable = true)\n",
      " |-- YEARS_BUILD_MODE: double (nullable = true)\n",
      " |-- COMMONAREA_MODE: double (nullable = true)\n",
      " |-- ELEVATORS_MODE: double (nullable = true)\n",
      " |-- ENTRANCES_MODE: double (nullable = true)\n",
      " |-- FLOORSMAX_MODE: double (nullable = true)\n",
      " |-- FLOORSMIN_MODE: double (nullable = true)\n",
      " |-- LANDAREA_MODE: double (nullable = true)\n",
      " |-- LIVINGAPARTMENTS_MODE: double (nullable = true)\n",
      " |-- LIVINGAREA_MODE: double (nullable = true)\n",
      " |-- NONLIVINGAPARTMENTS_MODE: double (nullable = true)\n",
      " |-- NONLIVINGAREA_MODE: double (nullable = true)\n",
      " |-- APARTMENTS_MEDI: double (nullable = true)\n",
      " |-- BASEMENTAREA_MEDI: double (nullable = true)\n",
      " |-- YEARS_BEGINEXPLUATATION_MEDI: double (nullable = true)\n",
      " |-- YEARS_BUILD_MEDI: double (nullable = true)\n",
      " |-- COMMONAREA_MEDI: double (nullable = true)\n",
      " |-- ELEVATORS_MEDI: double (nullable = true)\n",
      " |-- ENTRANCES_MEDI: double (nullable = true)\n",
      " |-- FLOORSMAX_MEDI: double (nullable = true)\n",
      " |-- FLOORSMIN_MEDI: double (nullable = true)\n",
      " |-- LANDAREA_MEDI: double (nullable = true)\n",
      " |-- LIVINGAPARTMENTS_MEDI: double (nullable = true)\n",
      " |-- LIVINGAREA_MEDI: double (nullable = true)\n",
      " |-- NONLIVINGAPARTMENTS_MEDI: double (nullable = true)\n",
      " |-- NONLIVINGAREA_MEDI: double (nullable = true)\n",
      " |-- FONDKAPREMONT_MODE: string (nullable = true)\n",
      " |-- HOUSETYPE_MODE: string (nullable = true)\n",
      " |-- TOTALAREA_MODE: double (nullable = true)\n",
      " |-- WALLSMATERIAL_MODE: string (nullable = true)\n",
      " |-- EMERGENCYSTATE_MODE: string (nullable = true)\n",
      " |-- OBS_30_CNT_SOCIAL_CIRCLE: double (nullable = true)\n",
      " |-- DEF_30_CNT_SOCIAL_CIRCLE: double (nullable = true)\n",
      " |-- OBS_60_CNT_SOCIAL_CIRCLE: double (nullable = true)\n",
      " |-- DEF_60_CNT_SOCIAL_CIRCLE: double (nullable = true)\n",
      " |-- DAYS_LAST_PHONE_CHANGE: double (nullable = true)\n",
      " |-- FLAG_DOCUMENT_2: integer (nullable = true)\n",
      " |-- FLAG_DOCUMENT_3: integer (nullable = true)\n",
      " |-- FLAG_DOCUMENT_4: integer (nullable = true)\n",
      " |-- FLAG_DOCUMENT_5: integer (nullable = true)\n",
      " |-- FLAG_DOCUMENT_6: integer (nullable = true)\n",
      " |-- FLAG_DOCUMENT_7: integer (nullable = true)\n",
      " |-- FLAG_DOCUMENT_8: integer (nullable = true)\n",
      " |-- FLAG_DOCUMENT_9: integer (nullable = true)\n",
      " |-- FLAG_DOCUMENT_10: integer (nullable = true)\n",
      " |-- FLAG_DOCUMENT_11: integer (nullable = true)\n",
      " |-- FLAG_DOCUMENT_12: integer (nullable = true)\n",
      " |-- FLAG_DOCUMENT_13: integer (nullable = true)\n",
      " |-- FLAG_DOCUMENT_14: integer (nullable = true)\n",
      " |-- FLAG_DOCUMENT_15: integer (nullable = true)\n",
      " |-- FLAG_DOCUMENT_16: integer (nullable = true)\n",
      " |-- FLAG_DOCUMENT_17: integer (nullable = true)\n",
      " |-- FLAG_DOCUMENT_18: integer (nullable = true)\n",
      " |-- FLAG_DOCUMENT_19: integer (nullable = true)\n",
      " |-- FLAG_DOCUMENT_20: integer (nullable = true)\n",
      " |-- FLAG_DOCUMENT_21: integer (nullable = true)\n",
      " |-- AMT_REQ_CREDIT_BUREAU_HOUR: double (nullable = true)\n",
      " |-- AMT_REQ_CREDIT_BUREAU_DAY: double (nullable = true)\n",
      " |-- AMT_REQ_CREDIT_BUREAU_WEEK: double (nullable = true)\n",
      " |-- AMT_REQ_CREDIT_BUREAU_MON: double (nullable = true)\n",
      " |-- AMT_REQ_CREDIT_BUREAU_QRT: double (nullable = true)\n",
      " |-- AMT_REQ_CREDIT_BUREAU_YEAR: double (nullable = true)\n",
      " |-- NAME_CONTRACT_TYPE_index: double (nullable = true)\n",
      " |-- CODE_GENDER_index: double (nullable = true)\n",
      " |-- FLAG_OWN_CAR_index: double (nullable = true)\n",
      " |-- FLAG_OWN_REALTY_index: double (nullable = true)\n",
      " |-- NAME_TYPE_SUITE_index: double (nullable = true)\n",
      " |-- NAME_INCOME_TYPE_index: double (nullable = true)\n",
      " |-- NAME_EDUCATION_TYPE_index: double (nullable = true)\n",
      " |-- NAME_FAMILY_STATUS_index: double (nullable = true)\n",
      " |-- NAME_HOUSING_TYPE_index: double (nullable = true)\n",
      " |-- OCCUPATION_TYPE_index: double (nullable = true)\n",
      " |-- WEEKDAY_APPR_PROCESS_START_index: double (nullable = true)\n",
      " |-- ORGANIZATION_TYPE_index: double (nullable = true)\n",
      " |-- FONDKAPREMONT_MODE_index: double (nullable = true)\n",
      " |-- HOUSETYPE_MODE_index: double (nullable = true)\n",
      " |-- WALLSMATERIAL_MODE_index: double (nullable = true)\n",
      " |-- EMERGENCYSTATE_MODE_index: double (nullable = true)\n",
      "\n"
     ]
    }
   ],
   "source": [
    "validate.printSchema()"
   ]
  },
  {
   "cell_type": "code",
   "execution_count": 172,
   "metadata": {
    "collapsed": true
   },
   "outputs": [],
   "source": [
    "df_te = model.transform(te)"
   ]
  },
  {
   "cell_type": "code",
   "execution_count": 173,
   "metadata": {},
   "outputs": [
    {
     "data": {
      "text/plain": [
       "48744"
      ]
     },
     "execution_count": 173,
     "metadata": {},
     "output_type": "execute_result"
    }
   ],
   "source": [
    "te.count()"
   ]
  },
  {
   "cell_type": "code",
   "execution_count": 174,
   "metadata": {},
   "outputs": [
    {
     "name": "stdout",
     "output_type": "stream",
     "text": [
      "+----------+-----------------+\n",
      "|prediction|count(prediction)|\n",
      "+----------+-----------------+\n",
      "|       0.0|            39470|\n",
      "|       1.0|             9274|\n",
      "+----------+-----------------+\n",
      "\n"
     ]
    }
   ],
   "source": [
    "df_te.groupby('prediction').agg(F.count('prediction')).show()"
   ]
  },
  {
   "cell_type": "code",
   "execution_count": null,
   "metadata": {
    "collapsed": true
   },
   "outputs": [],
   "source": []
  },
  {
   "cell_type": "code",
   "execution_count": 175,
   "metadata": {},
   "outputs": [],
   "source": [
    "#gmm = GaussianMixture.train(features, k=2)\n",
    "#prd = gmm.predict(features).collect()\n",
    "#type(prd)"
   ]
  },
  {
   "cell_type": "code",
   "execution_count": 176,
   "metadata": {
    "collapsed": true
   },
   "outputs": [],
   "source": [
    "labels = val_prd.select('TARGET').collect()\n",
    "prd = val_prd.select('prediction').collect()\n",
    "#labels = val_prd.select('TARGET').rdd.map(lambda r: r[0]).collect()"
   ]
  },
  {
   "cell_type": "code",
   "execution_count": 177,
   "metadata": {},
   "outputs": [
    {
     "name": "stderr",
     "output_type": "stream",
     "text": [
      "/home/ratnesh/anaconda3/lib/python3.6/site-packages/numpy/lib/function_base.py:3154: RuntimeWarning: Degrees of freedom <= 0 for slice\n",
      "  c = cov(x, y, rowvar)\n",
      "/home/ratnesh/anaconda3/lib/python3.6/site-packages/numpy/lib/function_base.py:3088: RuntimeWarning: divide by zero encountered in double_scalars\n",
      "  c *= 1. / np.float64(fact)\n",
      "/home/ratnesh/anaconda3/lib/python3.6/site-packages/numpy/lib/function_base.py:3088: RuntimeWarning: invalid value encountered in multiply\n",
      "  c *= 1. / np.float64(fact)\n"
     ]
    },
    {
     "data": {
      "text/plain": [
       "array([[ nan,  nan,  nan, ...,  nan,  nan,  nan],\n",
       "       [ nan,  nan,  nan, ...,  nan,  nan,  nan],\n",
       "       [ nan,  nan,  nan, ...,  nan,  nan,  nan],\n",
       "       ..., \n",
       "       [ nan,  nan,  nan, ...,  nan,  nan,  nan],\n",
       "       [ nan,  nan,  nan, ...,  nan,  nan,  nan],\n",
       "       [ nan,  nan,  nan, ...,  nan,  nan,  nan]])"
      ]
     },
     "execution_count": 177,
     "metadata": {},
     "output_type": "execute_result"
    }
   ],
   "source": [
    "np.corrcoef(prd,labels)"
   ]
  },
  {
   "cell_type": "code",
   "execution_count": 178,
   "metadata": {},
   "outputs": [
    {
     "name": "stdout",
     "output_type": "stream",
     "text": [
      "Error = 0.06053683609366076\n"
     ]
    }
   ],
   "source": [
    "y_yhat = val_prd.rdd.map(lambda x: (float(x.TARGET), x.prediction))\n",
    "err = y_yhat.filter(lambda x: x[0] != x[1]).count() / float(val_prd.count())\n",
    "print(\"Error = \" + str(err))"
   ]
  },
  {
   "cell_type": "code",
   "execution_count": 179,
   "metadata": {},
   "outputs": [
    {
     "data": {
      "text/plain": [
       "[Row(SK_ID_CURR=100145, TARGET=0, NAME_CONTRACT_TYPE='Cash loans', CODE_GENDER='F', FLAG_OWN_CAR='Y', FLAG_OWN_REALTY='Y', CNT_CHILDREN=1, AMT_INCOME_TOTAL=202500.0, AMT_CREDIT=260725.5, AMT_ANNUITY=16789.5, AMT_GOODS_PRICE=198000.0, NAME_TYPE_SUITE='Family', NAME_INCOME_TYPE='Working', NAME_EDUCATION_TYPE='Secondary / secondary special', NAME_FAMILY_STATUS='Separated', NAME_HOUSING_TYPE='House / apartment', REGION_POPULATION_RELATIVE=0.01885, DAYS_BIRTH=-16282, DAYS_EMPLOYED=-4375, DAYS_REGISTRATION=-762.0, DAYS_ID_PUBLISH=-1494, OWN_CAR_AGE=8.0, FLAG_MOBIL=1, FLAG_EMP_PHONE=1, FLAG_WORK_PHONE=0, FLAG_CONT_MOBILE=1, FLAG_PHONE=0, FLAG_EMAIL=0, OCCUPATION_TYPE='Laborers', CNT_FAM_MEMBERS=2.0, REGION_RATING_CLIENT=2, REGION_RATING_CLIENT_W_CITY=2, WEEKDAY_APPR_PROCESS_START='TUESDAY', HOUR_APPR_PROCESS_START=11, REG_REGION_NOT_LIVE_REGION=0, REG_REGION_NOT_WORK_REGION=0, LIVE_REGION_NOT_WORK_REGION=0, REG_CITY_NOT_LIVE_CITY=0, REG_CITY_NOT_WORK_CITY=0, LIVE_CITY_NOT_WORK_CITY=0, ORGANIZATION_TYPE='Self-employed', EXT_SOURCE_1=0.6470448716896019, EXT_SOURCE_2=0.7464864055627681, EXT_SOURCE_3=0.7394117535524816, APARTMENTS_AVG=0.0928, BASEMENTAREA_AVG=0.1, YEARS_BEGINEXPLUATATION_AVG=0.9801, YEARS_BUILD_AVG=0.728, COMMONAREA_AVG=0.0463, ELEVATORS_AVG=0.0, ENTRANCES_AVG=0.2069, FLOORSMAX_AVG=0.1667, FLOORSMIN_AVG=0.2083, LANDAREA_AVG=0.0437, LIVINGAPARTMENTS_AVG=0.0756, LIVINGAREA_AVG=0.0903, NONLIVINGAPARTMENTS_AVG=0.0, NONLIVINGAREA_AVG=0.0, APARTMENTS_MODE=0.0945, BASEMENTAREA_MODE=0.1038, YEARS_BEGINEXPLUATATION_MODE=0.9801, YEARS_BUILD_MODE=0.7387, COMMONAREA_MODE=0.0467, ELEVATORS_MODE=0.0, ENTRANCES_MODE=0.2069, FLOORSMAX_MODE=0.1667, FLOORSMIN_MODE=0.2083, LANDAREA_MODE=0.0447, LIVINGAPARTMENTS_MODE=0.0826, LIVINGAREA_MODE=0.0941, NONLIVINGAPARTMENTS_MODE=0.0, NONLIVINGAREA_MODE=0.0, APARTMENTS_MEDI=0.0937, BASEMENTAREA_MEDI=0.1, YEARS_BEGINEXPLUATATION_MEDI=0.9801, YEARS_BUILD_MEDI=0.7316, COMMONAREA_MEDI=0.0466, ELEVATORS_MEDI=0.0, ENTRANCES_MEDI=0.2069, FLOORSMAX_MEDI=0.1667, FLOORSMIN_MEDI=0.2083, LANDAREA_MEDI=0.0445, LIVINGAPARTMENTS_MEDI=0.077, LIVINGAREA_MEDI=0.0919, NONLIVINGAPARTMENTS_MEDI=0.0, NONLIVINGAREA_MEDI=0.0, FONDKAPREMONT_MODE='reg oper spec account', HOUSETYPE_MODE='block of flats', TOTALAREA_MODE=0.071, WALLSMATERIAL_MODE='Panel', EMERGENCYSTATE_MODE='No', OBS_30_CNT_SOCIAL_CIRCLE=6.0, DEF_30_CNT_SOCIAL_CIRCLE=0.0, OBS_60_CNT_SOCIAL_CIRCLE=6.0, DEF_60_CNT_SOCIAL_CIRCLE=0.0, DAYS_LAST_PHONE_CHANGE=-1782.0, FLAG_DOCUMENT_2=0, FLAG_DOCUMENT_3=1, FLAG_DOCUMENT_4=0, FLAG_DOCUMENT_5=0, FLAG_DOCUMENT_6=0, FLAG_DOCUMENT_7=0, FLAG_DOCUMENT_8=0, FLAG_DOCUMENT_9=0, FLAG_DOCUMENT_10=0, FLAG_DOCUMENT_11=0, FLAG_DOCUMENT_12=0, FLAG_DOCUMENT_13=0, FLAG_DOCUMENT_14=0, FLAG_DOCUMENT_15=0, FLAG_DOCUMENT_16=0, FLAG_DOCUMENT_17=0, FLAG_DOCUMENT_18=0, FLAG_DOCUMENT_19=0, FLAG_DOCUMENT_20=0, FLAG_DOCUMENT_21=0, AMT_REQ_CREDIT_BUREAU_HOUR=0.0, AMT_REQ_CREDIT_BUREAU_DAY=0.0, AMT_REQ_CREDIT_BUREAU_WEEK=0.0, AMT_REQ_CREDIT_BUREAU_MON=0.0, AMT_REQ_CREDIT_BUREAU_QRT=0.0, AMT_REQ_CREDIT_BUREAU_YEAR=3.0, NAME_CONTRACT_TYPE_index=0.0, CODE_GENDER_index=1.0, FLAG_OWN_CAR_index=0.0, FLAG_OWN_REALTY_index=0.0, NAME_TYPE_SUITE_index=1.0, NAME_INCOME_TYPE_index=0.0, NAME_EDUCATION_TYPE_index=0.0, NAME_FAMILY_STATUS_index=3.0, NAME_HOUSING_TYPE_index=0.0, OCCUPATION_TYPE_index=0.0, WEEKDAY_APPR_PROCESS_START_index=2.0, ORGANIZATION_TYPE_index=1.0, FONDKAPREMONT_MODE_index=1.0, HOUSETYPE_MODE_index=0.0, WALLSMATERIAL_MODE_index=0.0, EMERGENCYSTATE_MODE_index=0.0, features=SparseVector(39, {0: 1.0, 1: -16282.0, 2: -4375.0, 3: -1494.0, 4: 1.0, 5: 1.0, 7: 1.0, 10: 2.0, 11: 2.0, 12: 11.0, 20: 1.0}), std_features=DenseVector([0.5066, -0.6424, -1.0063, 0.9838, 0.0, 0.0171, -0.5145, 0.0568, -0.6808, -0.3804, 0.0049, 0.1065, -0.3713, -0.1211, -0.2549, -0.2379, -0.1978, -0.4163, -0.3918, 0.0, 0.7235, 0.0, -0.116, -0.0663, -0.0209, -0.5047, -0.0717, -0.0121, -0.0831, 0.0, -0.1205, -0.0685, -0.0706, -0.1016, -0.0121, -0.1016, -0.0209, -0.027, -0.0171]), pca=DenseVector([-1.0337, -0.1225, -0.8172, -0.4739, -0.7039]), rawPrediction=DenseVector([2.9906, -2.9906]), probability=DenseVector([0.9521, 0.0479]), prediction=0.0),\n",
       " Row(SK_ID_CURR=100179, TARGET=0, NAME_CONTRACT_TYPE='Cash loans', CODE_GENDER='F', FLAG_OWN_CAR='Y', FLAG_OWN_REALTY='N', CNT_CHILDREN=0, AMT_INCOME_TOTAL=202500.0, AMT_CREDIT=675000.0, AMT_ANNUITY=53329.5, AMT_GOODS_PRICE=675000.0, NAME_TYPE_SUITE='Unaccompanied', NAME_INCOME_TYPE='Commercial associate', NAME_EDUCATION_TYPE='Higher education', NAME_FAMILY_STATUS='Married', NAME_HOUSING_TYPE='House / apartment', REGION_POPULATION_RELATIVE=0.031329, DAYS_BIRTH=-11375, DAYS_EMPLOYED=-2311, DAYS_REGISTRATION=-180.0, DAYS_ID_PUBLISH=-2009, OWN_CAR_AGE=4.0, FLAG_MOBIL=1, FLAG_EMP_PHONE=1, FLAG_WORK_PHONE=0, FLAG_CONT_MOBILE=1, FLAG_PHONE=0, FLAG_EMAIL=0, OCCUPATION_TYPE='Managers', CNT_FAM_MEMBERS=2.0, REGION_RATING_CLIENT=2, REGION_RATING_CLIENT_W_CITY=2, WEEKDAY_APPR_PROCESS_START='MONDAY', HOUR_APPR_PROCESS_START=13, REG_REGION_NOT_LIVE_REGION=0, REG_REGION_NOT_WORK_REGION=0, LIVE_REGION_NOT_WORK_REGION=0, REG_CITY_NOT_LIVE_CITY=0, REG_CITY_NOT_WORK_CITY=0, LIVE_CITY_NOT_WORK_CITY=0, ORGANIZATION_TYPE='Trade: type 7', EXT_SOURCE_1=0.6748315126672113, EXT_SOURCE_2=0.6161564242321512, EXT_SOURCE_3=0.6738300778602003, APARTMENTS_AVG=0.5845, BASEMENTAREA_AVG=0.457, YEARS_BEGINEXPLUATATION_AVG=0.9945, YEARS_BUILD_AVG=0.9252, COMMONAREA_AVG=0.3468, ELEVATORS_AVG=0.6, ENTRANCES_AVG=0.2414, FLOORSMAX_AVG=0.9167, FLOORSMIN_AVG=0.5, LANDAREA_AVG=0.2847, LIVINGAPARTMENTS_AVG=0.4287, LIVINGAREA_AVG=0.7187, NONLIVINGAPARTMENTS_AVG=0.2201, NONLIVINGAREA_AVG=0.7729, APARTMENTS_MODE=0.5956, BASEMENTAREA_MODE=0.4742, YEARS_BEGINEXPLUATATION_MODE=0.9945, YEARS_BUILD_MODE=0.9281, COMMONAREA_MODE=0.35, ELEVATORS_MODE=0.6042, ENTRANCES_MODE=0.2414, FLOORSMAX_MODE=0.9167, FLOORSMIN_MODE=0.5, LANDAREA_MODE=0.2912, LIVINGAPARTMENTS_MODE=0.4683, LIVINGAREA_MODE=0.7488, NONLIVINGAPARTMENTS_MODE=0.2218, NONLIVINGAREA_MODE=0.8183, APARTMENTS_MEDI=0.5902, BASEMENTAREA_MEDI=0.457, YEARS_BEGINEXPLUATATION_MEDI=0.9945, YEARS_BUILD_MEDI=0.9262, COMMONAREA_MEDI=0.349, ELEVATORS_MEDI=0.6, ENTRANCES_MEDI=0.2414, FLOORSMAX_MEDI=0.9167, FLOORSMIN_MEDI=0.5, LANDAREA_MEDI=0.2896, LIVINGAPARTMENTS_MEDI=0.4361, LIVINGAREA_MEDI=0.7317, NONLIVINGAPARTMENTS_MEDI=0.2213, NONLIVINGAREA_MEDI=0.7892, FONDKAPREMONT_MODE='reg oper account', HOUSETYPE_MODE='block of flats', TOTALAREA_MODE=0.7334, WALLSMATERIAL_MODE='Monolithic', EMERGENCYSTATE_MODE='No', OBS_30_CNT_SOCIAL_CIRCLE=0.0, DEF_30_CNT_SOCIAL_CIRCLE=0.0, OBS_60_CNT_SOCIAL_CIRCLE=0.0, DEF_60_CNT_SOCIAL_CIRCLE=0.0, DAYS_LAST_PHONE_CHANGE=-1792.0, FLAG_DOCUMENT_2=0, FLAG_DOCUMENT_3=0, FLAG_DOCUMENT_4=0, FLAG_DOCUMENT_5=0, FLAG_DOCUMENT_6=0, FLAG_DOCUMENT_7=0, FLAG_DOCUMENT_8=1, FLAG_DOCUMENT_9=0, FLAG_DOCUMENT_10=0, FLAG_DOCUMENT_11=0, FLAG_DOCUMENT_12=0, FLAG_DOCUMENT_13=0, FLAG_DOCUMENT_14=0, FLAG_DOCUMENT_15=0, FLAG_DOCUMENT_16=0, FLAG_DOCUMENT_17=0, FLAG_DOCUMENT_18=0, FLAG_DOCUMENT_19=0, FLAG_DOCUMENT_20=0, FLAG_DOCUMENT_21=0, AMT_REQ_CREDIT_BUREAU_HOUR=0.0, AMT_REQ_CREDIT_BUREAU_DAY=0.0, AMT_REQ_CREDIT_BUREAU_WEEK=0.0, AMT_REQ_CREDIT_BUREAU_MON=1.0, AMT_REQ_CREDIT_BUREAU_QRT=0.0, AMT_REQ_CREDIT_BUREAU_YEAR=4.0, NAME_CONTRACT_TYPE_index=0.0, CODE_GENDER_index=1.0, FLAG_OWN_CAR_index=0.0, FLAG_OWN_REALTY_index=1.0, NAME_TYPE_SUITE_index=0.0, NAME_INCOME_TYPE_index=1.0, NAME_EDUCATION_TYPE_index=1.0, NAME_FAMILY_STATUS_index=0.0, NAME_HOUSING_TYPE_index=0.0, OCCUPATION_TYPE_index=1.0, WEEKDAY_APPR_PROCESS_START_index=0.0, ORGANIZATION_TYPE_index=8.0, FONDKAPREMONT_MODE_index=0.0, HOUSETYPE_MODE_index=0.0, WALLSMATERIAL_MODE_index=4.0, EMERGENCYSTATE_MODE_index=0.0, features=SparseVector(39, {1: -11375.0, 2: -2311.0, 3: -2009.0, 4: 1.0, 5: 1.0, 7: 1.0, 10: 2.0, 11: 2.0, 12: 13.0, 25: 1.0}), std_features=DenseVector([-0.7808, 0.8688, -0.0105, 0.6443, 0.0, 0.0171, -0.5145, 0.0568, -0.6808, -0.3804, 0.0049, 0.1065, 0.222, -0.1211, -0.2549, -0.2379, -0.1978, -0.4163, -0.3918, 0.0, -1.3821, 0.0, -0.116, -0.0663, -0.0209, 1.9811, -0.0717, -0.0121, -0.0831, 0.0, -0.1205, -0.0685, -0.0706, -0.1016, -0.0121, -0.1016, -0.0209, -0.027, -0.0171]), pca=DenseVector([-0.0921, 1.1334, 2.0433, -0.7994, 0.0443]), rawPrediction=DenseVector([2.5996, -2.5996]), probability=DenseVector([0.9308, 0.0692]), prediction=0.0),\n",
       " Row(SK_ID_CURR=100190, TARGET=0, NAME_CONTRACT_TYPE='Cash loans', CODE_GENDER='M', FLAG_OWN_CAR='Y', FLAG_OWN_REALTY='N', CNT_CHILDREN=0, AMT_INCOME_TOTAL=162000.0, AMT_CREDIT=263686.5, AMT_ANNUITY=24781.5, AMT_GOODS_PRICE=238500.0, NAME_TYPE_SUITE='Unaccompanied', NAME_INCOME_TYPE='Commercial associate', NAME_EDUCATION_TYPE='Higher education', NAME_FAMILY_STATUS='Married', NAME_HOUSING_TYPE='House / apartment', REGION_POPULATION_RELATIVE=0.022625, DAYS_BIRTH=-13972, DAYS_EMPLOYED=-4472, DAYS_REGISTRATION=-464.0, DAYS_ID_PUBLISH=-4529, OWN_CAR_AGE=3.0, FLAG_MOBIL=1, FLAG_EMP_PHONE=1, FLAG_WORK_PHONE=0, FLAG_CONT_MOBILE=1, FLAG_PHONE=1, FLAG_EMAIL=0, OCCUPATION_TYPE='Laborers', CNT_FAM_MEMBERS=2.0, REGION_RATING_CLIENT=2, REGION_RATING_CLIENT_W_CITY=2, WEEKDAY_APPR_PROCESS_START='THURSDAY', HOUR_APPR_PROCESS_START=16, REG_REGION_NOT_LIVE_REGION=0, REG_REGION_NOT_WORK_REGION=0, LIVE_REGION_NOT_WORK_REGION=0, REG_CITY_NOT_LIVE_CITY=0, REG_CITY_NOT_WORK_CITY=0, LIVE_CITY_NOT_WORK_CITY=0, ORGANIZATION_TYPE='Government', EXT_SOURCE_1=0.5349985744410304, EXT_SOURCE_2=0.5858586300023704, EXT_SOURCE_3=0.7886807751817684, APARTMENTS_AVG=0.3093, BASEMENTAREA_AVG=0.1973, YEARS_BEGINEXPLUATATION_AVG=0.9891, YEARS_BUILD_AVG=0.8504, COMMONAREA_AVG=0.0, ELEVATORS_AVG=0.4, ENTRANCES_AVG=0.2414, FLOORSMAX_AVG=0.4583, FLOORSMIN_AVG=0.5, LANDAREA_AVG=0.4101, LIVINGAPARTMENTS_AVG=0.2522, LIVINGAREA_AVG=0.3564, NONLIVINGAPARTMENTS_AVG=0.0, NONLIVINGAREA_AVG=0.0168, APARTMENTS_MODE=0.3151, BASEMENTAREA_MODE=0.2047, YEARS_BEGINEXPLUATATION_MODE=0.9891, YEARS_BUILD_MODE=0.8563, COMMONAREA_MODE=0.0, ELEVATORS_MODE=0.4028, ENTRANCES_MODE=0.2414, FLOORSMAX_MODE=0.4583, FLOORSMIN_MODE=0.5, LANDAREA_MODE=0.4195, LIVINGAPARTMENTS_MODE=0.2755, LIVINGAREA_MODE=0.3713, NONLIVINGAPARTMENTS_MODE=0.0, NONLIVINGAREA_MODE=0.0178, APARTMENTS_MEDI=0.3123, BASEMENTAREA_MEDI=0.1973, YEARS_BEGINEXPLUATATION_MEDI=0.9891, YEARS_BUILD_MEDI=0.8524, COMMONAREA_MEDI=0.0, ELEVATORS_MEDI=0.4, ENTRANCES_MEDI=0.2414, FLOORSMAX_MEDI=0.4583, FLOORSMIN_MEDI=0.5, LANDAREA_MEDI=0.4173, LIVINGAPARTMENTS_MEDI=0.2565, LIVINGAREA_MEDI=0.3628, NONLIVINGAPARTMENTS_MEDI=0.0, NONLIVINGAREA_MEDI=0.0172, FONDKAPREMONT_MODE='reg oper account', HOUSETYPE_MODE='block of flats', TOTALAREA_MODE=0.4064, WALLSMATERIAL_MODE='Panel', EMERGENCYSTATE_MODE='No', OBS_30_CNT_SOCIAL_CIRCLE=5.0, DEF_30_CNT_SOCIAL_CIRCLE=0.0, OBS_60_CNT_SOCIAL_CIRCLE=5.0, DEF_60_CNT_SOCIAL_CIRCLE=0.0, DAYS_LAST_PHONE_CHANGE=-1161.0, FLAG_DOCUMENT_2=0, FLAG_DOCUMENT_3=1, FLAG_DOCUMENT_4=0, FLAG_DOCUMENT_5=0, FLAG_DOCUMENT_6=0, FLAG_DOCUMENT_7=0, FLAG_DOCUMENT_8=0, FLAG_DOCUMENT_9=0, FLAG_DOCUMENT_10=0, FLAG_DOCUMENT_11=0, FLAG_DOCUMENT_12=0, FLAG_DOCUMENT_13=0, FLAG_DOCUMENT_14=0, FLAG_DOCUMENT_15=0, FLAG_DOCUMENT_16=0, FLAG_DOCUMENT_17=0, FLAG_DOCUMENT_18=0, FLAG_DOCUMENT_19=0, FLAG_DOCUMENT_20=0, FLAG_DOCUMENT_21=0, AMT_REQ_CREDIT_BUREAU_HOUR=0.0, AMT_REQ_CREDIT_BUREAU_DAY=0.0, AMT_REQ_CREDIT_BUREAU_WEEK=0.0, AMT_REQ_CREDIT_BUREAU_MON=0.0, AMT_REQ_CREDIT_BUREAU_QRT=0.0, AMT_REQ_CREDIT_BUREAU_YEAR=3.0, NAME_CONTRACT_TYPE_index=0.0, CODE_GENDER_index=0.0, FLAG_OWN_CAR_index=0.0, FLAG_OWN_REALTY_index=1.0, NAME_TYPE_SUITE_index=0.0, NAME_INCOME_TYPE_index=1.0, NAME_EDUCATION_TYPE_index=1.0, NAME_FAMILY_STATUS_index=0.0, NAME_HOUSING_TYPE_index=0.0, OCCUPATION_TYPE_index=0.0, WEEKDAY_APPR_PROCESS_START_index=3.0, ORGANIZATION_TYPE_index=4.0, FONDKAPREMONT_MODE_index=0.0, HOUSETYPE_MODE_index=0.0, WALLSMATERIAL_MODE_index=0.0, EMERGENCYSTATE_MODE_index=0.0, features=SparseVector(39, {1: -13972.0, 2: -4472.0, 3: -4529.0, 4: 1.0, 5: 1.0, 7: 1.0, 8: 1.0, 10: 2.0, 11: 2.0, 12: 16.0, 20: 1.0}), std_features=DenseVector([-0.7808, 0.069, -1.0531, -1.0171, 0.0, 0.0171, -0.5145, 0.0568, 1.4686, -0.3804, 0.0049, 0.1065, 1.112, -0.1211, -0.2549, -0.2379, -0.1978, -0.4163, -0.3918, 0.0, 0.7235, 0.0, -0.116, -0.0663, -0.0209, -0.5047, -0.0717, -0.0121, -0.0831, 0.0, -0.1205, -0.0685, -0.0706, -0.1016, -0.0121, -0.1016, -0.0209, -0.027, -0.0171]), pca=DenseVector([-0.7478, 0.4485, -1.1833, 0.8952, -0.3435]), rawPrediction=DenseVector([2.9254, -2.9254]), probability=DenseVector([0.9491, 0.0509]), prediction=0.0),\n",
       " Row(SK_ID_CURR=100371, TARGET=0, NAME_CONTRACT_TYPE='Cash loans', CODE_GENDER='F', FLAG_OWN_CAR='Y', FLAG_OWN_REALTY='Y', CNT_CHILDREN=1, AMT_INCOME_TOTAL=450000.0, AMT_CREDIT=808650.0, AMT_ANNUITY=31464.0, AMT_GOODS_PRICE=675000.0, NAME_TYPE_SUITE='Unaccompanied', NAME_INCOME_TYPE='Commercial associate', NAME_EDUCATION_TYPE='Higher education', NAME_FAMILY_STATUS='Civil marriage', NAME_HOUSING_TYPE='House / apartment', REGION_POPULATION_RELATIVE=0.072508, DAYS_BIRTH=-14768, DAYS_EMPLOYED=-426, DAYS_REGISTRATION=-3241.0, DAYS_ID_PUBLISH=-3409, OWN_CAR_AGE=1.0, FLAG_MOBIL=1, FLAG_EMP_PHONE=1, FLAG_WORK_PHONE=0, FLAG_CONT_MOBILE=1, FLAG_PHONE=1, FLAG_EMAIL=1, OCCUPATION_TYPE='Core staff', CNT_FAM_MEMBERS=3.0, REGION_RATING_CLIENT=1, REGION_RATING_CLIENT_W_CITY=1, WEEKDAY_APPR_PROCESS_START='WEDNESDAY', HOUR_APPR_PROCESS_START=13, REG_REGION_NOT_LIVE_REGION=1, REG_REGION_NOT_WORK_REGION=1, LIVE_REGION_NOT_WORK_REGION=0, REG_CITY_NOT_LIVE_CITY=0, REG_CITY_NOT_WORK_CITY=0, LIVE_CITY_NOT_WORK_CITY=0, ORGANIZATION_TYPE='Kindergarten', EXT_SOURCE_1=0.8488032279999198, EXT_SOURCE_2=0.6156753285811992, EXT_SOURCE_3=0.524496446363472, APARTMENTS_AVG=0.4572, BASEMENTAREA_AVG=0.1461, YEARS_BEGINEXPLUATATION_AVG=0.9945, YEARS_BUILD_AVG=0.9252, COMMONAREA_AVG=0.0, ELEVATORS_AVG=0.44, ENTRANCES_AVG=0.1897, FLOORSMAX_AVG=0.6667, FLOORSMIN_AVG=0.0, LANDAREA_AVG=0.0, LIVINGAPARTMENTS_AVG=0.3728, LIVINGAREA_AVG=0.4587, NONLIVINGAPARTMENTS_AVG=0.0, NONLIVINGAREA_AVG=0.0534, APARTMENTS_MODE=0.1429, BASEMENTAREA_MODE=0.0534, YEARS_BEGINEXPLUATATION_MODE=0.9945, YEARS_BUILD_MODE=0.9281, COMMONAREA_MODE=0.0, ELEVATORS_MODE=0.1611, ENTRANCES_MODE=0.069, FLOORSMAX_MODE=0.6667, FLOORSMIN_MODE=0.0, LANDAREA_MODE=0.0, LIVINGAPARTMENTS_MODE=0.1249, LIVINGAREA_MODE=0.1794, NONLIVINGAPARTMENTS_MODE=0.0, NONLIVINGAREA_MODE=0.0051, APARTMENTS_MEDI=0.4616, BASEMENTAREA_MEDI=0.1461, YEARS_BEGINEXPLUATATION_MEDI=0.9945, YEARS_BUILD_MEDI=0.9262, COMMONAREA_MEDI=0.0, ELEVATORS_MEDI=0.44, ENTRANCES_MEDI=0.1897, FLOORSMAX_MEDI=0.6667, FLOORSMIN_MEDI=0.0, LANDAREA_MEDI=0.0, LIVINGAPARTMENTS_MEDI=0.3792, LIVINGAREA_MEDI=0.4669, NONLIVINGAPARTMENTS_MEDI=0.0, NONLIVINGAREA_MEDI=0.0545, FONDKAPREMONT_MODE='reg oper spec account', HOUSETYPE_MODE='block of flats', TOTALAREA_MODE=0.6093, WALLSMATERIAL_MODE='Panel', EMERGENCYSTATE_MODE='No', OBS_30_CNT_SOCIAL_CIRCLE=0.0, DEF_30_CNT_SOCIAL_CIRCLE=0.0, OBS_60_CNT_SOCIAL_CIRCLE=0.0, DEF_60_CNT_SOCIAL_CIRCLE=0.0, DAYS_LAST_PHONE_CHANGE=0.0, FLAG_DOCUMENT_2=0, FLAG_DOCUMENT_3=0, FLAG_DOCUMENT_4=0, FLAG_DOCUMENT_5=0, FLAG_DOCUMENT_6=0, FLAG_DOCUMENT_7=0, FLAG_DOCUMENT_8=1, FLAG_DOCUMENT_9=0, FLAG_DOCUMENT_10=0, FLAG_DOCUMENT_11=0, FLAG_DOCUMENT_12=0, FLAG_DOCUMENT_13=0, FLAG_DOCUMENT_14=0, FLAG_DOCUMENT_15=0, FLAG_DOCUMENT_16=0, FLAG_DOCUMENT_17=0, FLAG_DOCUMENT_18=0, FLAG_DOCUMENT_19=0, FLAG_DOCUMENT_20=0, FLAG_DOCUMENT_21=0, AMT_REQ_CREDIT_BUREAU_HOUR=0.0, AMT_REQ_CREDIT_BUREAU_DAY=0.0, AMT_REQ_CREDIT_BUREAU_WEEK=0.0, AMT_REQ_CREDIT_BUREAU_MON=0.0, AMT_REQ_CREDIT_BUREAU_QRT=0.0, AMT_REQ_CREDIT_BUREAU_YEAR=0.0, NAME_CONTRACT_TYPE_index=0.0, CODE_GENDER_index=1.0, FLAG_OWN_CAR_index=0.0, FLAG_OWN_REALTY_index=0.0, NAME_TYPE_SUITE_index=0.0, NAME_INCOME_TYPE_index=1.0, NAME_EDUCATION_TYPE_index=1.0, NAME_FAMILY_STATUS_index=2.0, NAME_HOUSING_TYPE_index=0.0, OCCUPATION_TYPE_index=2.0, WEEKDAY_APPR_PROCESS_START_index=1.0, ORGANIZATION_TYPE_index=12.0, FONDKAPREMONT_MODE_index=1.0, HOUSETYPE_MODE_index=0.0, WALLSMATERIAL_MODE_index=0.0, EMERGENCYSTATE_MODE_index=0.0, features=SparseVector(39, {0: 1.0, 1: -14768.0, 2: -426.0, 3: -3409.0, 4: 1.0, 5: 1.0, 7: 1.0, 8: 1.0, 9: 1.0, 10: 1.0, 11: 1.0, 12: 13.0, 13: 1.0, 14: 1.0, 25: 1.0}), std_features=DenseVector([0.5066, -0.1761, 0.8989, -0.2787, 0.0, 0.0171, -0.5145, 0.0568, 1.4686, 2.6287, -1.7698, -1.7137, 0.222, 8.2578, 3.9227, -0.2379, -0.1978, -0.4163, -0.3918, 0.0, -1.3821, 0.0, -0.116, -0.0663, -0.0209, 1.9811, -0.0717, -0.0121, -0.0831, 0.0, -0.1205, -0.0685, -0.0706, -0.1016, -0.0121, -0.1016, -0.0209, -0.027, -0.0171]), pca=DenseVector([4.9198, 1.9493, 0.334, 0.1551, 0.6311]), rawPrediction=DenseVector([4.2803, -4.2803]), probability=DenseVector([0.9864, 0.0136]), prediction=0.0),\n",
       " Row(SK_ID_CURR=100389, TARGET=0, NAME_CONTRACT_TYPE='Cash loans', CODE_GENDER='M', FLAG_OWN_CAR='Y', FLAG_OWN_REALTY='Y', CNT_CHILDREN=0, AMT_INCOME_TOTAL=247500.0, AMT_CREDIT=1971072.0, AMT_ANNUITY=68643.0, AMT_GOODS_PRICE=1800000.0, NAME_TYPE_SUITE='Unaccompanied', NAME_INCOME_TYPE='Working', NAME_EDUCATION_TYPE='Higher education', NAME_FAMILY_STATUS='Married', NAME_HOUSING_TYPE='House / apartment', REGION_POPULATION_RELATIVE=0.006207, DAYS_BIRTH=-14216, DAYS_EMPLOYED=-365, DAYS_REGISTRATION=-3183.0, DAYS_ID_PUBLISH=-4423, OWN_CAR_AGE=13.0, FLAG_MOBIL=1, FLAG_EMP_PHONE=1, FLAG_WORK_PHONE=1, FLAG_CONT_MOBILE=1, FLAG_PHONE=0, FLAG_EMAIL=0, OCCUPATION_TYPE='Core staff', CNT_FAM_MEMBERS=2.0, REGION_RATING_CLIENT=2, REGION_RATING_CLIENT_W_CITY=2, WEEKDAY_APPR_PROCESS_START='WEDNESDAY', HOUR_APPR_PROCESS_START=14, REG_REGION_NOT_LIVE_REGION=0, REG_REGION_NOT_WORK_REGION=0, LIVE_REGION_NOT_WORK_REGION=0, REG_CITY_NOT_LIVE_CITY=0, REG_CITY_NOT_WORK_CITY=0, LIVE_CITY_NOT_WORK_CITY=0, ORGANIZATION_TYPE='Self-employed', EXT_SOURCE_1=0.5585815844555191, EXT_SOURCE_2=0.748204082783147, EXT_SOURCE_3=0.7394117535524816, APARTMENTS_AVG=0.2227, BASEMENTAREA_AVG=0.0355, YEARS_BEGINEXPLUATATION_AVG=0.9816, YEARS_BUILD_AVG=0.7484, COMMONAREA_AVG=0.0018, ELEVATORS_AVG=0.24, ENTRANCES_AVG=0.2069, FLOORSMAX_AVG=0.3333, FLOORSMIN_AVG=0.375, LANDAREA_AVG=0.0877, LIVINGAPARTMENTS_AVG=0.1807, LIVINGAREA_AVG=0.2295, NONLIVINGAPARTMENTS_AVG=0.0039, NONLIVINGAREA_AVG=0.0906, APARTMENTS_MODE=0.2269, BASEMENTAREA_MODE=0.0368, YEARS_BEGINEXPLUATATION_MODE=0.9816, YEARS_BUILD_MODE=0.7583, COMMONAREA_MODE=0.0018, ELEVATORS_MODE=0.2417, ENTRANCES_MODE=0.2069, FLOORSMAX_MODE=0.3333, FLOORSMIN_MODE=0.375, LANDAREA_MODE=0.0897, LIVINGAPARTMENTS_MODE=0.1974, LIVINGAREA_MODE=0.2392, NONLIVINGAPARTMENTS_MODE=0.0039, NONLIVINGAREA_MODE=0.0959, APARTMENTS_MEDI=0.2248, BASEMENTAREA_MEDI=0.0355, YEARS_BEGINEXPLUATATION_MEDI=0.9816, YEARS_BUILD_MEDI=0.7518, COMMONAREA_MEDI=0.0018, ELEVATORS_MEDI=0.24, ENTRANCES_MEDI=0.2069, FLOORSMAX_MEDI=0.3333, FLOORSMIN_MEDI=0.375, LANDAREA_MEDI=0.0892, LIVINGAPARTMENTS_MEDI=0.1838, LIVINGAREA_MEDI=0.2337, NONLIVINGAPARTMENTS_MEDI=0.0039, NONLIVINGAREA_MEDI=0.0925, FONDKAPREMONT_MODE='reg oper account', HOUSETYPE_MODE='block of flats', TOTALAREA_MODE=0.2002, WALLSMATERIAL_MODE='Panel', EMERGENCYSTATE_MODE='No', OBS_30_CNT_SOCIAL_CIRCLE=0.0, DEF_30_CNT_SOCIAL_CIRCLE=0.0, OBS_60_CNT_SOCIAL_CIRCLE=0.0, DEF_60_CNT_SOCIAL_CIRCLE=0.0, DAYS_LAST_PHONE_CHANGE=-2421.0, FLAG_DOCUMENT_2=0, FLAG_DOCUMENT_3=1, FLAG_DOCUMENT_4=0, FLAG_DOCUMENT_5=0, FLAG_DOCUMENT_6=0, FLAG_DOCUMENT_7=0, FLAG_DOCUMENT_8=0, FLAG_DOCUMENT_9=0, FLAG_DOCUMENT_10=0, FLAG_DOCUMENT_11=0, FLAG_DOCUMENT_12=0, FLAG_DOCUMENT_13=0, FLAG_DOCUMENT_14=0, FLAG_DOCUMENT_15=0, FLAG_DOCUMENT_16=0, FLAG_DOCUMENT_17=0, FLAG_DOCUMENT_18=0, FLAG_DOCUMENT_19=0, FLAG_DOCUMENT_20=0, FLAG_DOCUMENT_21=0, AMT_REQ_CREDIT_BUREAU_HOUR=0.0, AMT_REQ_CREDIT_BUREAU_DAY=0.0, AMT_REQ_CREDIT_BUREAU_WEEK=0.0, AMT_REQ_CREDIT_BUREAU_MON=0.0, AMT_REQ_CREDIT_BUREAU_QRT=0.0, AMT_REQ_CREDIT_BUREAU_YEAR=1.0, NAME_CONTRACT_TYPE_index=0.0, CODE_GENDER_index=0.0, FLAG_OWN_CAR_index=0.0, FLAG_OWN_REALTY_index=0.0, NAME_TYPE_SUITE_index=0.0, NAME_INCOME_TYPE_index=0.0, NAME_EDUCATION_TYPE_index=1.0, NAME_FAMILY_STATUS_index=0.0, NAME_HOUSING_TYPE_index=0.0, OCCUPATION_TYPE_index=2.0, WEEKDAY_APPR_PROCESS_START_index=1.0, ORGANIZATION_TYPE_index=1.0, FONDKAPREMONT_MODE_index=0.0, HOUSETYPE_MODE_index=0.0, WALLSMATERIAL_MODE_index=0.0, EMERGENCYSTATE_MODE_index=0.0, features=SparseVector(39, {1: -14216.0, 2: -365.0, 3: -4423.0, 4: 1.0, 5: 1.0, 6: 1.0, 7: 1.0, 10: 2.0, 11: 2.0, 12: 14.0, 20: 1.0}), std_features=DenseVector([-0.7808, -0.0061, 0.9283, -0.9472, 0.0, 0.0171, 1.9434, 0.0568, -0.6808, -0.3804, 0.0049, 0.1065, 0.5187, -0.1211, -0.2549, -0.2379, -0.1978, -0.4163, -0.3918, 0.0, 0.7235, 0.0, -0.116, -0.0663, -0.0209, -0.5047, -0.0717, -0.0121, -0.0831, 0.0, -0.1205, -0.0685, -0.0706, -0.1016, -0.0121, -0.1016, -0.0209, -0.027, -0.0171]), pca=DenseVector([-0.5437, -0.1457, -0.6944, 0.7549, 0.7876]), rawPrediction=DenseVector([2.2017, -2.2017]), probability=DenseVector([0.9004, 0.0996]), prediction=0.0)]"
      ]
     },
     "execution_count": 179,
     "metadata": {},
     "output_type": "execute_result"
    }
   ],
   "source": [
    "val_prd.take(5)"
   ]
  },
  {
   "cell_type": "code",
   "execution_count": 180,
   "metadata": {},
   "outputs": [
    {
     "name": "stdout",
     "output_type": "stream",
     "text": [
      "Area under PR = 0.0\n",
      "Area under ROC = 0.0\n"
     ]
    }
   ],
   "source": [
    "# Instantiate metrics object\n",
    "metrics = BinaryClassificationMetrics(y_yhat)\n",
    "\n",
    "# Area under precision-recall curve\n",
    "print(\"Area under PR = %s\" % metrics.areaUnderPR)\n",
    "\n",
    "# Area under ROC curve\n",
    "print(\"Area under ROC = %s\" % metrics.areaUnderROC)\n"
   ]
  },
  {
   "cell_type": "code",
   "execution_count": 183,
   "metadata": {},
   "outputs": [
    {
     "name": "stderr",
     "output_type": "stream",
     "text": [
      "/media/ratnesh/SONGS/analytics/spark/python/pyspark/mllib/evaluation.py:237: UserWarning: Deprecated in 2.0.0. Use accuracy.\n",
      "  warnings.warn(\"Deprecated in 2.0.0. Use accuracy.\")\n"
     ]
    },
    {
     "name": "stdout",
     "output_type": "stream",
     "text": [
      "Summary Stats\n",
      "Precision = 0.9394631639063392\n",
      "Recall = 0.9394631639063392\n",
      "F1 Score = 0.9394631639063392\n"
     ]
    },
    {
     "name": "stderr",
     "output_type": "stream",
     "text": [
      "/media/ratnesh/SONGS/analytics/spark/python/pyspark/mllib/evaluation.py:249: UserWarning: Deprecated in 2.0.0. Use accuracy.\n",
      "  warnings.warn(\"Deprecated in 2.0.0. Use accuracy.\")\n",
      "/media/ratnesh/SONGS/analytics/spark/python/pyspark/mllib/evaluation.py:262: UserWarning: Deprecated in 2.0.0. Use accuracy.\n",
      "  warnings.warn(\"Deprecated in 2.0.0. Use accuracy.\")\n"
     ]
    }
   ],
   "source": [
    "\n",
    "from pyspark.mllib.evaluation import MulticlassMetrics\n",
    "metrics = MulticlassMetrics(y_yhat)\n",
    "\n",
    "# Overall statistics\n",
    "precision = metrics.precision()\n",
    "recall = metrics.recall()\n",
    "f1Score = metrics.fMeasure()\n",
    "print(\"Summary Stats\")\n",
    "print(\"Precision = %s\" % precision)\n",
    "print(\"Recall = %s\" % recall)\n",
    "print(\"F1 Score = %s\" % f1Score)\n"
   ]
  },
  {
   "cell_type": "code",
   "execution_count": 184,
   "metadata": {},
   "outputs": [
    {
     "name": "stdout",
     "output_type": "stream",
     "text": [
      "Weighted recall = 0.9394631639063392\n",
      "Weighted precision = 1.0\n",
      "Weighted F(1) Score = 0.9687868080094229\n",
      "Weighted F(0.5) Score = 0.9872764374024728\n",
      "Weighted false positive rate = nan\n"
     ]
    }
   ],
   "source": [
    "# Statistics by class\n",
    "labels = val_prd.rdd.map(lambda lp: float(lp.TARGET)).distinct().collect()\n",
    "\n",
    "# Weighted stats\n",
    "print(\"Weighted recall = %s\" % metrics.weightedRecall)\n",
    "print(\"Weighted precision = %s\" % metrics.weightedPrecision)\n",
    "print(\"Weighted F(1) Score = %s\" % metrics.weightedFMeasure())\n",
    "print(\"Weighted F(0.5) Score = %s\" % metrics.weightedFMeasure(beta=0.5))\n",
    "print(\"Weighted false positive rate = %s\" % metrics.weightedFalsePositiveRate)"
   ]
  },
  {
   "cell_type": "code",
   "execution_count": 189,
   "metadata": {},
   "outputs": [
    {
     "name": "stdout",
     "output_type": "stream",
     "text": [
      "[0.0, 1.0]\n",
      "Class 0.0 F1 Measure = 0.9687868080094229\n"
     ]
    },
    {
     "ename": "Py4JJavaError",
     "evalue": "An error occurred while calling o3910.fMeasure.\n: java.util.NoSuchElementException: key not found: 1.0\n\tat scala.collection.MapLike$class.default(MapLike.scala:228)\n\tat scala.collection.AbstractMap.default(Map.scala:59)\n\tat scala.collection.mutable.HashMap.apply(HashMap.scala:65)\n\tat org.apache.spark.mllib.evaluation.MulticlassMetrics.precision(MulticlassMetrics.scala:105)\n\tat org.apache.spark.mllib.evaluation.MulticlassMetrics.fMeasure(MulticlassMetrics.scala:124)\n\tat sun.reflect.NativeMethodAccessorImpl.invoke0(Native Method)\n\tat sun.reflect.NativeMethodAccessorImpl.invoke(NativeMethodAccessorImpl.java:62)\n\tat sun.reflect.DelegatingMethodAccessorImpl.invoke(DelegatingMethodAccessorImpl.java:43)\n\tat java.lang.reflect.Method.invoke(Method.java:498)\n\tat py4j.reflection.MethodInvoker.invoke(MethodInvoker.java:244)\n\tat py4j.reflection.ReflectionEngine.invoke(ReflectionEngine.java:357)\n\tat py4j.Gateway.invoke(Gateway.java:280)\n\tat py4j.commands.AbstractCommand.invokeMethod(AbstractCommand.java:132)\n\tat py4j.commands.CallCommand.execute(CallCommand.java:79)\n\tat py4j.GatewayConnection.run(GatewayConnection.java:214)\n\tat java.lang.Thread.run(Thread.java:748)\n",
     "output_type": "error",
     "traceback": [
      "\u001b[0;31m---------------------------------------------------------------------------\u001b[0m",
      "\u001b[0;31mPy4JJavaError\u001b[0m                             Traceback (most recent call last)",
      "\u001b[0;32m<ipython-input-189-c17ab0922e07>\u001b[0m in \u001b[0;36m<module>\u001b[0;34m()\u001b[0m\n\u001b[1;32m      4\u001b[0m     \u001b[0;31m#print(\"Class %s precision = %s\" % (label, metrics.precision(label)))\u001b[0m\u001b[0;34m\u001b[0m\u001b[0;34m\u001b[0m\u001b[0m\n\u001b[1;32m      5\u001b[0m     \u001b[0;31m#print(\"Class %s recall = %s\" % (label, metrics.recall(label)))\u001b[0m\u001b[0;34m\u001b[0m\u001b[0;34m\u001b[0m\u001b[0m\n\u001b[0;32m----> 6\u001b[0;31m     \u001b[0mprint\u001b[0m\u001b[0;34m(\u001b[0m\u001b[0;34m\"Class %s F1 Measure = %s\"\u001b[0m \u001b[0;34m%\u001b[0m \u001b[0;34m(\u001b[0m\u001b[0mlabel\u001b[0m\u001b[0;34m,\u001b[0m \u001b[0mmetrics\u001b[0m\u001b[0;34m.\u001b[0m\u001b[0mfMeasure\u001b[0m\u001b[0;34m(\u001b[0m\u001b[0mlabel\u001b[0m\u001b[0;34m,\u001b[0m \u001b[0mbeta\u001b[0m\u001b[0;34m=\u001b[0m\u001b[0;36m1.0\u001b[0m\u001b[0;34m)\u001b[0m\u001b[0;34m)\u001b[0m\u001b[0;34m)\u001b[0m\u001b[0;34m\u001b[0m\u001b[0m\n\u001b[0m\u001b[1;32m      7\u001b[0m \u001b[0;34m\u001b[0m\u001b[0m\n",
      "\u001b[0;32m/media/ratnesh/SONGS/analytics/spark/python/pyspark/mllib/evaluation.py\u001b[0m in \u001b[0;36mfMeasure\u001b[0;34m(self, label, beta)\u001b[0m\n\u001b[1;32m    268\u001b[0m                 \u001b[0;32mraise\u001b[0m \u001b[0mException\u001b[0m\u001b[0;34m(\u001b[0m\u001b[0;34m\"If the beta parameter is specified, label can not be none\"\u001b[0m\u001b[0;34m)\u001b[0m\u001b[0;34m\u001b[0m\u001b[0m\n\u001b[1;32m    269\u001b[0m             \u001b[0;32melse\u001b[0m\u001b[0;34m:\u001b[0m\u001b[0;34m\u001b[0m\u001b[0m\n\u001b[0;32m--> 270\u001b[0;31m                 \u001b[0;32mreturn\u001b[0m \u001b[0mself\u001b[0m\u001b[0;34m.\u001b[0m\u001b[0mcall\u001b[0m\u001b[0;34m(\u001b[0m\u001b[0;34m\"fMeasure\"\u001b[0m\u001b[0;34m,\u001b[0m \u001b[0mlabel\u001b[0m\u001b[0;34m,\u001b[0m \u001b[0mbeta\u001b[0m\u001b[0;34m)\u001b[0m\u001b[0;34m\u001b[0m\u001b[0m\n\u001b[0m\u001b[1;32m    271\u001b[0m \u001b[0;34m\u001b[0m\u001b[0m\n\u001b[1;32m    272\u001b[0m     \u001b[0;34m@\u001b[0m\u001b[0mproperty\u001b[0m\u001b[0;34m\u001b[0m\u001b[0m\n",
      "\u001b[0;32m/media/ratnesh/SONGS/analytics/spark/python/pyspark/mllib/common.py\u001b[0m in \u001b[0;36mcall\u001b[0;34m(self, name, *a)\u001b[0m\n\u001b[1;32m    144\u001b[0m     \u001b[0;32mdef\u001b[0m \u001b[0mcall\u001b[0m\u001b[0;34m(\u001b[0m\u001b[0mself\u001b[0m\u001b[0;34m,\u001b[0m \u001b[0mname\u001b[0m\u001b[0;34m,\u001b[0m \u001b[0;34m*\u001b[0m\u001b[0ma\u001b[0m\u001b[0;34m)\u001b[0m\u001b[0;34m:\u001b[0m\u001b[0;34m\u001b[0m\u001b[0m\n\u001b[1;32m    145\u001b[0m         \u001b[0;34m\"\"\"Call method of java_model\"\"\"\u001b[0m\u001b[0;34m\u001b[0m\u001b[0m\n\u001b[0;32m--> 146\u001b[0;31m         \u001b[0;32mreturn\u001b[0m \u001b[0mcallJavaFunc\u001b[0m\u001b[0;34m(\u001b[0m\u001b[0mself\u001b[0m\u001b[0;34m.\u001b[0m\u001b[0m_sc\u001b[0m\u001b[0;34m,\u001b[0m \u001b[0mgetattr\u001b[0m\u001b[0;34m(\u001b[0m\u001b[0mself\u001b[0m\u001b[0;34m.\u001b[0m\u001b[0m_java_model\u001b[0m\u001b[0;34m,\u001b[0m \u001b[0mname\u001b[0m\u001b[0;34m)\u001b[0m\u001b[0;34m,\u001b[0m \u001b[0;34m*\u001b[0m\u001b[0ma\u001b[0m\u001b[0;34m)\u001b[0m\u001b[0;34m\u001b[0m\u001b[0m\n\u001b[0m\u001b[1;32m    147\u001b[0m \u001b[0;34m\u001b[0m\u001b[0m\n\u001b[1;32m    148\u001b[0m \u001b[0;34m\u001b[0m\u001b[0m\n",
      "\u001b[0;32m/media/ratnesh/SONGS/analytics/spark/python/pyspark/mllib/common.py\u001b[0m in \u001b[0;36mcallJavaFunc\u001b[0;34m(sc, func, *args)\u001b[0m\n\u001b[1;32m    121\u001b[0m     \u001b[0;34m\"\"\" Call Java Function \"\"\"\u001b[0m\u001b[0;34m\u001b[0m\u001b[0m\n\u001b[1;32m    122\u001b[0m     \u001b[0margs\u001b[0m \u001b[0;34m=\u001b[0m \u001b[0;34m[\u001b[0m\u001b[0m_py2java\u001b[0m\u001b[0;34m(\u001b[0m\u001b[0msc\u001b[0m\u001b[0;34m,\u001b[0m \u001b[0ma\u001b[0m\u001b[0;34m)\u001b[0m \u001b[0;32mfor\u001b[0m \u001b[0ma\u001b[0m \u001b[0;32min\u001b[0m \u001b[0margs\u001b[0m\u001b[0;34m]\u001b[0m\u001b[0;34m\u001b[0m\u001b[0m\n\u001b[0;32m--> 123\u001b[0;31m     \u001b[0;32mreturn\u001b[0m \u001b[0m_java2py\u001b[0m\u001b[0;34m(\u001b[0m\u001b[0msc\u001b[0m\u001b[0;34m,\u001b[0m \u001b[0mfunc\u001b[0m\u001b[0;34m(\u001b[0m\u001b[0;34m*\u001b[0m\u001b[0margs\u001b[0m\u001b[0;34m)\u001b[0m\u001b[0;34m)\u001b[0m\u001b[0;34m\u001b[0m\u001b[0m\n\u001b[0m\u001b[1;32m    124\u001b[0m \u001b[0;34m\u001b[0m\u001b[0m\n\u001b[1;32m    125\u001b[0m \u001b[0;34m\u001b[0m\u001b[0m\n",
      "\u001b[0;32m~/.local/lib/python3.6/site-packages/py4j/java_gateway.py\u001b[0m in \u001b[0;36m__call__\u001b[0;34m(self, *args)\u001b[0m\n\u001b[1;32m   1158\u001b[0m         \u001b[0manswer\u001b[0m \u001b[0;34m=\u001b[0m \u001b[0mself\u001b[0m\u001b[0;34m.\u001b[0m\u001b[0mgateway_client\u001b[0m\u001b[0;34m.\u001b[0m\u001b[0msend_command\u001b[0m\u001b[0;34m(\u001b[0m\u001b[0mcommand\u001b[0m\u001b[0;34m)\u001b[0m\u001b[0;34m\u001b[0m\u001b[0m\n\u001b[1;32m   1159\u001b[0m         return_value = get_return_value(\n\u001b[0;32m-> 1160\u001b[0;31m             answer, self.gateway_client, self.target_id, self.name)\n\u001b[0m\u001b[1;32m   1161\u001b[0m \u001b[0;34m\u001b[0m\u001b[0m\n\u001b[1;32m   1162\u001b[0m         \u001b[0;32mfor\u001b[0m \u001b[0mtemp_arg\u001b[0m \u001b[0;32min\u001b[0m \u001b[0mtemp_args\u001b[0m\u001b[0;34m:\u001b[0m\u001b[0;34m\u001b[0m\u001b[0m\n",
      "\u001b[0;32m/media/ratnesh/SONGS/analytics/spark/python/pyspark/sql/utils.py\u001b[0m in \u001b[0;36mdeco\u001b[0;34m(*a, **kw)\u001b[0m\n\u001b[1;32m     61\u001b[0m     \u001b[0;32mdef\u001b[0m \u001b[0mdeco\u001b[0m\u001b[0;34m(\u001b[0m\u001b[0;34m*\u001b[0m\u001b[0ma\u001b[0m\u001b[0;34m,\u001b[0m \u001b[0;34m**\u001b[0m\u001b[0mkw\u001b[0m\u001b[0;34m)\u001b[0m\u001b[0;34m:\u001b[0m\u001b[0;34m\u001b[0m\u001b[0m\n\u001b[1;32m     62\u001b[0m         \u001b[0;32mtry\u001b[0m\u001b[0;34m:\u001b[0m\u001b[0;34m\u001b[0m\u001b[0m\n\u001b[0;32m---> 63\u001b[0;31m             \u001b[0;32mreturn\u001b[0m \u001b[0mf\u001b[0m\u001b[0;34m(\u001b[0m\u001b[0;34m*\u001b[0m\u001b[0ma\u001b[0m\u001b[0;34m,\u001b[0m \u001b[0;34m**\u001b[0m\u001b[0mkw\u001b[0m\u001b[0;34m)\u001b[0m\u001b[0;34m\u001b[0m\u001b[0m\n\u001b[0m\u001b[1;32m     64\u001b[0m         \u001b[0;32mexcept\u001b[0m \u001b[0mpy4j\u001b[0m\u001b[0;34m.\u001b[0m\u001b[0mprotocol\u001b[0m\u001b[0;34m.\u001b[0m\u001b[0mPy4JJavaError\u001b[0m \u001b[0;32mas\u001b[0m \u001b[0me\u001b[0m\u001b[0;34m:\u001b[0m\u001b[0;34m\u001b[0m\u001b[0m\n\u001b[1;32m     65\u001b[0m             \u001b[0ms\u001b[0m \u001b[0;34m=\u001b[0m \u001b[0me\u001b[0m\u001b[0;34m.\u001b[0m\u001b[0mjava_exception\u001b[0m\u001b[0;34m.\u001b[0m\u001b[0mtoString\u001b[0m\u001b[0;34m(\u001b[0m\u001b[0;34m)\u001b[0m\u001b[0;34m\u001b[0m\u001b[0m\n",
      "\u001b[0;32m~/.local/lib/python3.6/site-packages/py4j/protocol.py\u001b[0m in \u001b[0;36mget_return_value\u001b[0;34m(answer, gateway_client, target_id, name)\u001b[0m\n\u001b[1;32m    318\u001b[0m                 raise Py4JJavaError(\n\u001b[1;32m    319\u001b[0m                     \u001b[0;34m\"An error occurred while calling {0}{1}{2}.\\n\"\u001b[0m\u001b[0;34m.\u001b[0m\u001b[0;34m\u001b[0m\u001b[0m\n\u001b[0;32m--> 320\u001b[0;31m                     format(target_id, \".\", name), value)\n\u001b[0m\u001b[1;32m    321\u001b[0m             \u001b[0;32melse\u001b[0m\u001b[0;34m:\u001b[0m\u001b[0;34m\u001b[0m\u001b[0m\n\u001b[1;32m    322\u001b[0m                 raise Py4JError(\n",
      "\u001b[0;31mPy4JJavaError\u001b[0m: An error occurred while calling o3910.fMeasure.\n: java.util.NoSuchElementException: key not found: 1.0\n\tat scala.collection.MapLike$class.default(MapLike.scala:228)\n\tat scala.collection.AbstractMap.default(Map.scala:59)\n\tat scala.collection.mutable.HashMap.apply(HashMap.scala:65)\n\tat org.apache.spark.mllib.evaluation.MulticlassMetrics.precision(MulticlassMetrics.scala:105)\n\tat org.apache.spark.mllib.evaluation.MulticlassMetrics.fMeasure(MulticlassMetrics.scala:124)\n\tat sun.reflect.NativeMethodAccessorImpl.invoke0(Native Method)\n\tat sun.reflect.NativeMethodAccessorImpl.invoke(NativeMethodAccessorImpl.java:62)\n\tat sun.reflect.DelegatingMethodAccessorImpl.invoke(DelegatingMethodAccessorImpl.java:43)\n\tat java.lang.reflect.Method.invoke(Method.java:498)\n\tat py4j.reflection.MethodInvoker.invoke(MethodInvoker.java:244)\n\tat py4j.reflection.ReflectionEngine.invoke(ReflectionEngine.java:357)\n\tat py4j.Gateway.invoke(Gateway.java:280)\n\tat py4j.commands.AbstractCommand.invokeMethod(AbstractCommand.java:132)\n\tat py4j.commands.CallCommand.execute(CallCommand.java:79)\n\tat py4j.GatewayConnection.run(GatewayConnection.java:214)\n\tat java.lang.Thread.run(Thread.java:748)\n"
     ]
    }
   ],
   "source": [
    "print(labels)\n",
    "\n",
    "for label in sorted(labels):\n",
    "    print(\"Class %s precision = %s\" % (label, metrics.precision(label)))\n",
    "    print(\"Class %s recall = %s\" % (label, metrics.recall(label)))\n",
    "    print(\"Class %s F1 Measure = %s\" % (label, metrics.fMeasure(label, beta=1.0)))\n",
    "\n"
   ]
  },
  {
   "cell_type": "code",
   "execution_count": null,
   "metadata": {
    "collapsed": true
   },
   "outputs": [],
   "source": [
    "sc.stop()"
   ]
  },
  {
   "cell_type": "code",
   "execution_count": null,
   "metadata": {
    "collapsed": true
   },
   "outputs": [],
   "source": []
  }
 ],
 "metadata": {
  "kernelspec": {
   "display_name": "Python 3",
   "language": "python",
   "name": "python3"
  },
  "language_info": {
   "codemirror_mode": {
    "name": "ipython",
    "version": 3
   },
   "file_extension": ".py",
   "mimetype": "text/x-python",
   "name": "python",
   "nbconvert_exporter": "python",
   "pygments_lexer": "ipython3",
   "version": "3.6.5"
  }
 },
 "nbformat": 4,
 "nbformat_minor": 2
}
