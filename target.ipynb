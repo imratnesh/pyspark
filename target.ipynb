{
 "cells": [
  {
   "cell_type": "code",
   "execution_count": 3,
   "metadata": {
    "_cell_guid": "b1076dfc-b9ad-4769-8c92-a6c4dae69d19",
    "_uuid": "8f2839f25d086af736a60e9eeb907d3b93b6e0e5"
   },
   "outputs": [
    {
     "name": "stdout",
     "output_type": "stream",
     "text": [
      "['application_test.csv', 'application_train.csv', 'bureau.csv', 'bureau_balance.csv', 'previous_application.csv', 'sample_submission.csv']\n"
     ]
    }
   ],
   "source": [
    "import numpy as np \n",
    "import pandas as pd\n",
    "import matplotlib.pyplot as plt\n",
    "import seaborn as sns\n",
    "import os\n",
    "print(os.listdir(\"input\"))"
   ]
  },
  {
   "cell_type": "code",
   "execution_count": 5,
   "metadata": {
    "_cell_guid": "79c7e3d0-c299-4dcb-8224-4455121ee9b0",
    "_uuid": "d629ff2d2480ee46fbb7e2d37f6b5fab8052498a"
   },
   "outputs": [
    {
     "name": "stdout",
     "output_type": "stream",
     "text": [
      "Loading data...\n",
      "\n"
     ]
    }
   ],
   "source": [
    "# Basic Kernel or reference: https://www.kaggle.com/kailex/tidy-xgb-0-778/code\n",
    "import gc\n",
    "from sklearn.preprocessing import LabelEncoder \n",
    "from sklearn.metrics import roc_auc_score\n",
    "from sklearn.model_selection import KFold, train_test_split\n",
    "\n",
    "print(\"Loading data...\\n\")\n",
    "lb=LabelEncoder()\n",
    "def LabelEncoding_Cat(df):\n",
    "    df=df.copy()\n",
    "    Cat_Var=df.select_dtypes('object').columns.tolist()\n",
    "    for col in Cat_Var:\n",
    "        #print(col)\n",
    "        df[col]=lb.fit_transform(df[col].astype('str'))\n",
    "    return df    \n"
   ]
  },
  {
   "cell_type": "code",
   "execution_count": 7,
   "metadata": {
    "_uuid": "66b853f888d16d244ba7745ca591792b6c7244c2"
   },
   "outputs": [
    {
     "ename": "TypeError",
     "evalue": "include and exclude must both be non-string sequences",
     "output_type": "error",
     "traceback": [
      "\u001b[0;31m---------------------------------------------------------------------------\u001b[0m",
      "\u001b[0;31mTypeError\u001b[0m                                 Traceback (most recent call last)",
      "\u001b[0;32m<ipython-input-7-a3683bc55056>\u001b[0m in \u001b[0;36m<module>\u001b[0;34m()\u001b[0m\n\u001b[1;32m      1\u001b[0m bureau= (pd.read_csv(\"input/bureau.csv\")\n\u001b[0;32m----> 2\u001b[0;31m          .pipe(LabelEncoding_Cat))\n\u001b[0m\u001b[1;32m      3\u001b[0m \u001b[0;34m\u001b[0m\u001b[0m\n\u001b[1;32m      4\u001b[0m cred_card_bal=(pd.read_csv(\"input/credit_card_balance.csv\")\n\u001b[1;32m      5\u001b[0m                .pipe(LabelEncoding_Cat))\n",
      "\u001b[0;32m~/anaconda3/lib/python3.6/site-packages/pandas/core/generic.py\u001b[0m in \u001b[0;36mpipe\u001b[0;34m(self, func, *args, **kwargs)\u001b[0m\n\u001b[1;32m   2962\u001b[0m             \u001b[0;32mreturn\u001b[0m \u001b[0mfunc\u001b[0m\u001b[0;34m(\u001b[0m\u001b[0;34m*\u001b[0m\u001b[0margs\u001b[0m\u001b[0;34m,\u001b[0m \u001b[0;34m**\u001b[0m\u001b[0mkwargs\u001b[0m\u001b[0;34m)\u001b[0m\u001b[0;34m\u001b[0m\u001b[0m\n\u001b[1;32m   2963\u001b[0m         \u001b[0;32melse\u001b[0m\u001b[0;34m:\u001b[0m\u001b[0;34m\u001b[0m\u001b[0m\n\u001b[0;32m-> 2964\u001b[0;31m             \u001b[0;32mreturn\u001b[0m \u001b[0mfunc\u001b[0m\u001b[0;34m(\u001b[0m\u001b[0mself\u001b[0m\u001b[0;34m,\u001b[0m \u001b[0;34m*\u001b[0m\u001b[0margs\u001b[0m\u001b[0;34m,\u001b[0m \u001b[0;34m**\u001b[0m\u001b[0mkwargs\u001b[0m\u001b[0;34m)\u001b[0m\u001b[0;34m\u001b[0m\u001b[0m\n\u001b[0m\u001b[1;32m   2965\u001b[0m \u001b[0;34m\u001b[0m\u001b[0m\n\u001b[1;32m   2966\u001b[0m     _shared_docs['aggregate'] = (\"\"\"\n",
      "\u001b[0;32m<ipython-input-5-ea27ab4bfddc>\u001b[0m in \u001b[0;36mLabelEncoding_Cat\u001b[0;34m(df)\u001b[0m\n\u001b[1;32m      9\u001b[0m \u001b[0;32mdef\u001b[0m \u001b[0mLabelEncoding_Cat\u001b[0m\u001b[0;34m(\u001b[0m\u001b[0mdf\u001b[0m\u001b[0;34m)\u001b[0m\u001b[0;34m:\u001b[0m\u001b[0;34m\u001b[0m\u001b[0m\n\u001b[1;32m     10\u001b[0m     \u001b[0mdf\u001b[0m\u001b[0;34m=\u001b[0m\u001b[0mdf\u001b[0m\u001b[0;34m.\u001b[0m\u001b[0mcopy\u001b[0m\u001b[0;34m(\u001b[0m\u001b[0;34m)\u001b[0m\u001b[0;34m\u001b[0m\u001b[0m\n\u001b[0;32m---> 11\u001b[0;31m     \u001b[0mCat_Var\u001b[0m\u001b[0;34m=\u001b[0m\u001b[0mdf\u001b[0m\u001b[0;34m.\u001b[0m\u001b[0mselect_dtypes\u001b[0m\u001b[0;34m(\u001b[0m\u001b[0;34m'object'\u001b[0m\u001b[0;34m)\u001b[0m\u001b[0;34m.\u001b[0m\u001b[0mcolumns\u001b[0m\u001b[0;34m.\u001b[0m\u001b[0mtolist\u001b[0m\u001b[0;34m(\u001b[0m\u001b[0;34m)\u001b[0m\u001b[0;34m\u001b[0m\u001b[0m\n\u001b[0m\u001b[1;32m     12\u001b[0m     \u001b[0;32mfor\u001b[0m \u001b[0mcol\u001b[0m \u001b[0;32min\u001b[0m \u001b[0mCat_Var\u001b[0m\u001b[0;34m:\u001b[0m\u001b[0;34m\u001b[0m\u001b[0m\n\u001b[1;32m     13\u001b[0m         \u001b[0;31m#print(col)\u001b[0m\u001b[0;34m\u001b[0m\u001b[0;34m\u001b[0m\u001b[0m\n",
      "\u001b[0;32m~/anaconda3/lib/python3.6/site-packages/pandas/core/frame.py\u001b[0m in \u001b[0;36mselect_dtypes\u001b[0;34m(self, include, exclude)\u001b[0m\n\u001b[1;32m   2257\u001b[0m         \u001b[0minclude\u001b[0m\u001b[0;34m,\u001b[0m \u001b[0mexclude\u001b[0m \u001b[0;34m=\u001b[0m \u001b[0minclude\u001b[0m \u001b[0;32mor\u001b[0m \u001b[0;34m(\u001b[0m\u001b[0;34m)\u001b[0m\u001b[0;34m,\u001b[0m \u001b[0mexclude\u001b[0m \u001b[0;32mor\u001b[0m \u001b[0;34m(\u001b[0m\u001b[0;34m)\u001b[0m\u001b[0;34m\u001b[0m\u001b[0m\n\u001b[1;32m   2258\u001b[0m         \u001b[0;32mif\u001b[0m \u001b[0;32mnot\u001b[0m \u001b[0;34m(\u001b[0m\u001b[0mis_list_like\u001b[0m\u001b[0;34m(\u001b[0m\u001b[0minclude\u001b[0m\u001b[0;34m)\u001b[0m \u001b[0;32mand\u001b[0m \u001b[0mis_list_like\u001b[0m\u001b[0;34m(\u001b[0m\u001b[0mexclude\u001b[0m\u001b[0;34m)\u001b[0m\u001b[0;34m)\u001b[0m\u001b[0;34m:\u001b[0m\u001b[0;34m\u001b[0m\u001b[0m\n\u001b[0;32m-> 2259\u001b[0;31m             raise TypeError('include and exclude must both be non-string'\n\u001b[0m\u001b[1;32m   2260\u001b[0m                             ' sequences')\n\u001b[1;32m   2261\u001b[0m         \u001b[0mselection\u001b[0m \u001b[0;34m=\u001b[0m \u001b[0mtuple\u001b[0m\u001b[0;34m(\u001b[0m\u001b[0mmap\u001b[0m\u001b[0;34m(\u001b[0m\u001b[0mfrozenset\u001b[0m\u001b[0;34m,\u001b[0m \u001b[0;34m(\u001b[0m\u001b[0minclude\u001b[0m\u001b[0;34m,\u001b[0m \u001b[0mexclude\u001b[0m\u001b[0;34m)\u001b[0m\u001b[0;34m)\u001b[0m\u001b[0;34m)\u001b[0m\u001b[0;34m\u001b[0m\u001b[0m\n",
      "\u001b[0;31mTypeError\u001b[0m: include and exclude must both be non-string sequences"
     ]
    }
   ],
   "source": [
    "bureau= (pd.read_csv(\"input/bureau.csv\")\n",
    "         .pipe(LabelEncoding_Cat))\n",
    "\n",
    "cred_card_bal=(pd.read_csv(\"input/credit_card_balance.csv\")\n",
    "               .pipe(LabelEncoding_Cat))\n",
    "\n",
    "pos_cash_bal=(pd.read_csv(\"input/POS_CASH_balance.csv\")\n",
    "               .pipe(LabelEncoding_Cat))\n",
    "               \n",
    "prev =(pd.read_csv(\"input/previous_application.csv\") \n",
    "               .pipe(LabelEncoding_Cat))"
   ]
  },
  {
   "cell_type": "code",
   "execution_count": 117,
   "metadata": {
    "_uuid": "f0fccbd14a75571484175d0bc2ae1796f2f6a3b5"
   },
   "outputs": [
    {
     "name": "stdout",
     "output_type": "stream",
     "text": [
      "Preprocessing...\n",
      "\n"
     ]
    }
   ],
   "source": [
    "print(\"Preprocessing...\\n\")\n",
    "Label_1=[s+'_'+l for s in bureau.columns.tolist() if s!='SK_ID_CURR' for l in ['mean','count','median','max']]\n",
    "avg_bureau=bureau.groupby('SK_ID_CURR').agg(['mean','count','median','max']).reset_index()\n",
    "avg_bureau.columns=['SK_ID_CURR']+Label_1\n",
    "\n",
    "Label_2=[s+'_'+l for s in cred_card_bal.columns.tolist() if s!='SK_ID_CURR' for l in ['mean','count','median','max']]\n",
    "avg_cred_card_bal=cred_card_bal.groupby('SK_ID_CURR').agg(['mean','count','median','max']).reset_index()\n",
    "avg_cred_card_bal.columns=['SK_ID_CURR']+Label_2\n",
    "\n",
    "Label_3=[s+'_'+l for s in pos_cash_bal.columns.tolist() if s not  in ['SK_ID_PREV','SK_ID_CURR'] for l in ['mean','count','median','max']]\n",
    "avg_pos_cash_bal=pos_cash_bal.groupby(['SK_ID_PREV','SK_ID_CURR'])\\\n",
    "            .agg(['mean','count','median','max']).groupby(level='SK_ID_CURR')\\\n",
    "            .agg('mean').reset_index()\n",
    "avg_pos_cash_bal.columns=['SK_ID_CURR']+Label_3\n",
    "\n",
    "Label_4=[s+'_'+l for s in prev.columns.tolist() if s!='SK_ID_CURR' for l in ['mean','count','median','max']]\n",
    "avg_prev=prev.groupby('SK_ID_CURR').agg(['mean','count','median','max']).reset_index()\n",
    "avg_prev.columns=['SK_ID_CURR']+Label_4\n",
    "\n",
    "del(Label_1,Label_2,Label_3,Label_4)"
   ]
  },
  {
   "cell_type": "code",
   "execution_count": null,
   "metadata": {
    "_uuid": "f8606dc133d3fd932f20cb64bdcf5d8968c3aecf",
    "collapsed": true
   },
   "outputs": [],
   "source": [
    "tr = pd.read_csv(\"input/application_train.csv\") \n",
    "te =pd.read_csv(\"input/application_test.csv\")\n",
    "tri=tr.shape[0]\n",
    "y = tr.TARGET.copy()"
   ]
  },
  {
   "cell_type": "code",
   "execution_count": null,
   "metadata": {
    "_uuid": "82af0802aa638ecd5c1c995751c613d69dfbe341",
    "collapsed": true
   },
   "outputs": [],
   "source": [
    "def Fill_NA(df):\n",
    "    df=df.copy()\n",
    "    Num_Features=df.columns\n",
    "    df[Num_Features]= df[Num_Features].fillna(df[Num_Features].mode().iloc[0])\n",
    "    return df"
   ]
  },
  {
   "cell_type": "code",
   "execution_count": 123,
   "metadata": {
    "_uuid": "910e832b83793cf0e5dd19421fed03e991a301a9"
   },
   "outputs": [
    {
     "data": {
      "text/plain": [
       "1834"
      ]
     },
     "execution_count": 123,
     "metadata": {},
     "output_type": "execute_result"
    }
   ],
   "source": [
    "tr_te=(tr.drop(labels=['TARGET'],axis=1).append(te)\n",
    "         .pipe(LabelEncoding_Cat)\n",
    "         .pipe(Fill_NA)\n",
    "         .merge(avg_bureau,on='SK_ID_CURR',how='left')\n",
    "         .merge(avg_cred_card_bal,on='SK_ID_CURR',how='left')\n",
    "         .merge(avg_pos_cash_bal,on='SK_ID_CURR',how='left')\n",
    "         .merge(avg_prev,on='SK_ID_CURR',how='left'))\n",
    "\n",
    "del(tr,te,bureau,cred_card_bal,pos_cash_bal,prev, avg_prev,avg_bureau,avg_cred_card_bal,avg_pos_cash_bal)\n",
    "gc.collect()"
   ]
  },
  {
   "cell_type": "code",
   "execution_count": 125,
   "metadata": {
    "_uuid": "f7067ebd9060171d231782dd050d290196829010"
   },
   "outputs": [
    {
     "name": "stdout",
     "output_type": "stream",
     "text": [
      "Preparing data...\n",
      "\n"
     ]
    }
   ],
   "source": [
    "print(\"Preparing data...\\n\")\n",
    "tr_te.drop(labels=['SK_ID_CURR'],axis=1,inplace=True)\n",
    "tr=tr_te.iloc[:tri,:].copy()\n",
    "te=tr_te.iloc[tri:,:].copy()\n",
    "\n",
    "del(tr_te)"
   ]
  },
  {
   "cell_type": "code",
   "execution_count": 126,
   "metadata": {
    "_uuid": "4d133ed3649696416cc71fddf17436e4ea32d657"
   },
   "outputs": [
    {
     "data": {
      "text/plain": [
       "<matplotlib.axes._subplots.AxesSubplot at 0x7f9e736945c0>"
      ]
     },
     "execution_count": 126,
     "metadata": {},
     "output_type": "execute_result"
    },
    {
     "data": {
      "image/png": "[encoded data removed]",
      "text/plain": [
       "<matplotlib.figure.Figure at 0x7f9e845d77f0>"
      ]
     },
     "metadata": {},
     "output_type": "display_data"
    }
   ],
   "source": [
    "y.value_counts().plot('bar')"
   ]
  },
  {
   "cell_type": "code",
   "execution_count": 127,
   "metadata": {
    "_uuid": "14990db7a65b72b79066e5d0fe3b0b958cb4de43"
   },
   "outputs": [
    {
     "data": {
      "text/plain": [
       "Index(['NAME_CONTRACT_TYPE', 'CODE_GENDER', 'FLAG_OWN_CAR', 'FLAG_OWN_REALTY',\n",
       "       'CNT_CHILDREN', 'AMT_INCOME_TOTAL', 'AMT_CREDIT', 'AMT_ANNUITY',\n",
       "       'AMT_GOODS_PRICE', 'NAME_TYPE_SUITE',\n",
       "       ...\n",
       "       'DAYS_LAST_DUE_median', 'DAYS_LAST_DUE_max', 'DAYS_TERMINATION_mean',\n",
       "       'DAYS_TERMINATION_count', 'DAYS_TERMINATION_median',\n",
       "       'DAYS_TERMINATION_max', 'NFLAG_INSURED_ON_APPROVAL_mean',\n",
       "       'NFLAG_INSURED_ON_APPROVAL_count', 'NFLAG_INSURED_ON_APPROVAL_median',\n",
       "       'NFLAG_INSURED_ON_APPROVAL_max'],\n",
       "      dtype='object', length=440)"
      ]
     },
     "execution_count": 127,
     "metadata": {},
     "output_type": "execute_result"
    }
   ],
   "source": [
    "FEATURES = tr.columns\n",
    "FEATURES"
   ]
  },
  {
   "cell_type": "code",
   "execution_count": 128,
   "metadata": {
    "_uuid": "e846cf89a2755da36a432ec8f6fe97167fe90202",
    "collapsed": true
   },
   "outputs": [],
   "source": [
    "y_label = 'TARGET'\n",
    "learning_rate = 0.0001\n",
    "batch_size = 256\n",
    "steps = 1000\n",
    "buffer = 1024\n",
    "label_size = 2\n",
    "split = 0.20"
   ]
  },
  {
   "cell_type": "code",
   "execution_count": 129,
   "metadata": {
    "_uuid": "576711245098592d664ca5cec03019abc57de341"
   },
   "outputs": [
    {
     "data": {
      "text/html": [
       "<div>\n",
       "<style scoped>\n",
       "    .dataframe tbody tr th:only-of-type {\n",
       "        vertical-align: middle;\n",
       "    }\n",
       "\n",
       "    .dataframe tbody tr th {\n",
       "        vertical-align: top;\n",
       "    }\n",
       "\n",
       "    .dataframe thead th {\n",
       "        text-align: right;\n",
       "    }\n",
       "</style>\n",
       "<table border=\"1\" class=\"dataframe\">\n",
       "  <thead>\n",
       "    <tr style=\"text-align: right;\">\n",
       "      <th></th>\n",
       "      <th>NAME_CONTRACT_TYPE</th>\n",
       "      <th>CODE_GENDER</th>\n",
       "      <th>FLAG_OWN_CAR</th>\n",
       "      <th>FLAG_OWN_REALTY</th>\n",
       "      <th>CNT_CHILDREN</th>\n",
       "      <th>AMT_INCOME_TOTAL</th>\n",
       "      <th>AMT_CREDIT</th>\n",
       "      <th>AMT_ANNUITY</th>\n",
       "      <th>AMT_GOODS_PRICE</th>\n",
       "      <th>NAME_TYPE_SUITE</th>\n",
       "      <th>NAME_INCOME_TYPE</th>\n",
       "      <th>NAME_EDUCATION_TYPE</th>\n",
       "      <th>NAME_FAMILY_STATUS</th>\n",
       "      <th>NAME_HOUSING_TYPE</th>\n",
       "      <th>REGION_POPULATION_RELATIVE</th>\n",
       "      <th>DAYS_BIRTH</th>\n",
       "      <th>DAYS_EMPLOYED</th>\n",
       "      <th>DAYS_REGISTRATION</th>\n",
       "      <th>DAYS_ID_PUBLISH</th>\n",
       "      <th>OWN_CAR_AGE</th>\n",
       "      <th>FLAG_MOBIL</th>\n",
       "      <th>FLAG_EMP_PHONE</th>\n",
       "      <th>FLAG_WORK_PHONE</th>\n",
       "      <th>FLAG_CONT_MOBILE</th>\n",
       "      <th>FLAG_PHONE</th>\n",
       "      <th>FLAG_EMAIL</th>\n",
       "      <th>OCCUPATION_TYPE</th>\n",
       "      <th>CNT_FAM_MEMBERS</th>\n",
       "      <th>REGION_RATING_CLIENT</th>\n",
       "      <th>REGION_RATING_CLIENT_W_CITY</th>\n",
       "      <th>WEEKDAY_APPR_PROCESS_START</th>\n",
       "      <th>HOUR_APPR_PROCESS_START</th>\n",
       "      <th>REG_REGION_NOT_LIVE_REGION</th>\n",
       "      <th>REG_REGION_NOT_WORK_REGION</th>\n",
       "      <th>LIVE_REGION_NOT_WORK_REGION</th>\n",
       "      <th>REG_CITY_NOT_LIVE_CITY</th>\n",
       "      <th>REG_CITY_NOT_WORK_CITY</th>\n",
       "      <th>LIVE_CITY_NOT_WORK_CITY</th>\n",
       "      <th>ORGANIZATION_TYPE</th>\n",
       "      <th>EXT_SOURCE_1</th>\n",
       "      <th>...</th>\n",
       "      <th>NAME_SELLER_INDUSTRY_mean</th>\n",
       "      <th>NAME_SELLER_INDUSTRY_count</th>\n",
       "      <th>NAME_SELLER_INDUSTRY_median</th>\n",
       "      <th>NAME_SELLER_INDUSTRY_max</th>\n",
       "      <th>CNT_PAYMENT_mean</th>\n",
       "      <th>CNT_PAYMENT_count</th>\n",
       "      <th>CNT_PAYMENT_median</th>\n",
       "      <th>CNT_PAYMENT_max</th>\n",
       "      <th>NAME_YIELD_GROUP_mean</th>\n",
       "      <th>NAME_YIELD_GROUP_count</th>\n",
       "      <th>NAME_YIELD_GROUP_median</th>\n",
       "      <th>NAME_YIELD_GROUP_max</th>\n",
       "      <th>PRODUCT_COMBINATION_mean</th>\n",
       "      <th>PRODUCT_COMBINATION_count</th>\n",
       "      <th>PRODUCT_COMBINATION_median</th>\n",
       "      <th>PRODUCT_COMBINATION_max</th>\n",
       "      <th>DAYS_FIRST_DRAWING_mean</th>\n",
       "      <th>DAYS_FIRST_DRAWING_count</th>\n",
       "      <th>DAYS_FIRST_DRAWING_median</th>\n",
       "      <th>DAYS_FIRST_DRAWING_max</th>\n",
       "      <th>DAYS_FIRST_DUE_mean</th>\n",
       "      <th>DAYS_FIRST_DUE_count</th>\n",
       "      <th>DAYS_FIRST_DUE_median</th>\n",
       "      <th>DAYS_FIRST_DUE_max</th>\n",
       "      <th>DAYS_LAST_DUE_1ST_VERSION_mean</th>\n",
       "      <th>DAYS_LAST_DUE_1ST_VERSION_count</th>\n",
       "      <th>DAYS_LAST_DUE_1ST_VERSION_median</th>\n",
       "      <th>DAYS_LAST_DUE_1ST_VERSION_max</th>\n",
       "      <th>DAYS_LAST_DUE_mean</th>\n",
       "      <th>DAYS_LAST_DUE_count</th>\n",
       "      <th>DAYS_LAST_DUE_median</th>\n",
       "      <th>DAYS_LAST_DUE_max</th>\n",
       "      <th>DAYS_TERMINATION_mean</th>\n",
       "      <th>DAYS_TERMINATION_count</th>\n",
       "      <th>DAYS_TERMINATION_median</th>\n",
       "      <th>DAYS_TERMINATION_max</th>\n",
       "      <th>NFLAG_INSURED_ON_APPROVAL_mean</th>\n",
       "      <th>NFLAG_INSURED_ON_APPROVAL_count</th>\n",
       "      <th>NFLAG_INSURED_ON_APPROVAL_median</th>\n",
       "      <th>NFLAG_INSURED_ON_APPROVAL_max</th>\n",
       "    </tr>\n",
       "  </thead>\n",
       "  <tbody>\n",
       "    <tr>\n",
       "      <th>75</th>\n",
       "      <td>0</td>\n",
       "      <td>0</td>\n",
       "      <td>0</td>\n",
       "      <td>1</td>\n",
       "      <td>1</td>\n",
       "      <td>202500.0</td>\n",
       "      <td>1288350.0</td>\n",
       "      <td>37800.0</td>\n",
       "      <td>1125000.0</td>\n",
       "      <td>6</td>\n",
       "      <td>7</td>\n",
       "      <td>4</td>\n",
       "      <td>1</td>\n",
       "      <td>1</td>\n",
       "      <td>0.003069</td>\n",
       "      <td>-17542</td>\n",
       "      <td>-2011</td>\n",
       "      <td>-1529.0</td>\n",
       "      <td>-988</td>\n",
       "      <td>7.0</td>\n",
       "      <td>1</td>\n",
       "      <td>1</td>\n",
       "      <td>0</td>\n",
       "      <td>1</td>\n",
       "      <td>0</td>\n",
       "      <td>0</td>\n",
       "      <td>2</td>\n",
       "      <td>3.0</td>\n",
       "      <td>3</td>\n",
       "      <td>3</td>\n",
       "      <td>0</td>\n",
       "      <td>11</td>\n",
       "      <td>0</td>\n",
       "      <td>0</td>\n",
       "      <td>0</td>\n",
       "      <td>0</td>\n",
       "      <td>0</td>\n",
       "      <td>0</td>\n",
       "      <td>42</td>\n",
       "      <td>0.356323</td>\n",
       "      <td>...</td>\n",
       "      <td>5.8</td>\n",
       "      <td>5.0</td>\n",
       "      <td>4.0</td>\n",
       "      <td>10.0</td>\n",
       "      <td>13.600000</td>\n",
       "      <td>5.0</td>\n",
       "      <td>8.0</td>\n",
       "      <td>36.0</td>\n",
       "      <td>2.20</td>\n",
       "      <td>5.0</td>\n",
       "      <td>1.0</td>\n",
       "      <td>4.0</td>\n",
       "      <td>9.4</td>\n",
       "      <td>5.0</td>\n",
       "      <td>9.0</td>\n",
       "      <td>13.0</td>\n",
       "      <td>365243.0</td>\n",
       "      <td>5.0</td>\n",
       "      <td>365243.0</td>\n",
       "      <td>365243.0</td>\n",
       "      <td>-753.8</td>\n",
       "      <td>5.0</td>\n",
       "      <td>-672.0</td>\n",
       "      <td>-378.0</td>\n",
       "      <td>-375.8</td>\n",
       "      <td>5.0</td>\n",
       "      <td>-414.0</td>\n",
       "      <td>94.0</td>\n",
       "      <td>-519.8</td>\n",
       "      <td>5.0</td>\n",
       "      <td>-522.0</td>\n",
       "      <td>-48.0</td>\n",
       "      <td>-514.200000</td>\n",
       "      <td>5.0</td>\n",
       "      <td>-516.0</td>\n",
       "      <td>-40.0</td>\n",
       "      <td>0.400000</td>\n",
       "      <td>5.0</td>\n",
       "      <td>0.0</td>\n",
       "      <td>1.0</td>\n",
       "    </tr>\n",
       "    <tr>\n",
       "      <th>76</th>\n",
       "      <td>1</td>\n",
       "      <td>0</td>\n",
       "      <td>0</td>\n",
       "      <td>0</td>\n",
       "      <td>0</td>\n",
       "      <td>112500.0</td>\n",
       "      <td>135000.0</td>\n",
       "      <td>6750.0</td>\n",
       "      <td>135000.0</td>\n",
       "      <td>6</td>\n",
       "      <td>1</td>\n",
       "      <td>1</td>\n",
       "      <td>1</td>\n",
       "      <td>1</td>\n",
       "      <td>0.022800</td>\n",
       "      <td>-19467</td>\n",
       "      <td>-4066</td>\n",
       "      <td>-4623.0</td>\n",
       "      <td>-2975</td>\n",
       "      <td>7.0</td>\n",
       "      <td>1</td>\n",
       "      <td>1</td>\n",
       "      <td>0</td>\n",
       "      <td>1</td>\n",
       "      <td>0</td>\n",
       "      <td>0</td>\n",
       "      <td>8</td>\n",
       "      <td>2.0</td>\n",
       "      <td>2</td>\n",
       "      <td>2</td>\n",
       "      <td>4</td>\n",
       "      <td>15</td>\n",
       "      <td>0</td>\n",
       "      <td>0</td>\n",
       "      <td>0</td>\n",
       "      <td>0</td>\n",
       "      <td>0</td>\n",
       "      <td>0</td>\n",
       "      <td>39</td>\n",
       "      <td>0.356323</td>\n",
       "      <td>...</td>\n",
       "      <td>7.5</td>\n",
       "      <td>2.0</td>\n",
       "      <td>7.5</td>\n",
       "      <td>10.0</td>\n",
       "      <td>26.000000</td>\n",
       "      <td>2.0</td>\n",
       "      <td>26.0</td>\n",
       "      <td>42.0</td>\n",
       "      <td>3.50</td>\n",
       "      <td>2.0</td>\n",
       "      <td>3.5</td>\n",
       "      <td>4.0</td>\n",
       "      <td>9.5</td>\n",
       "      <td>2.0</td>\n",
       "      <td>9.5</td>\n",
       "      <td>11.0</td>\n",
       "      <td>365243.0</td>\n",
       "      <td>2.0</td>\n",
       "      <td>365243.0</td>\n",
       "      <td>365243.0</td>\n",
       "      <td>-947.0</td>\n",
       "      <td>2.0</td>\n",
       "      <td>-947.0</td>\n",
       "      <td>-389.0</td>\n",
       "      <td>-197.0</td>\n",
       "      <td>2.0</td>\n",
       "      <td>-197.0</td>\n",
       "      <td>841.0</td>\n",
       "      <td>182004.0</td>\n",
       "      <td>2.0</td>\n",
       "      <td>182004.0</td>\n",
       "      <td>365243.0</td>\n",
       "      <td>182007.500000</td>\n",
       "      <td>2.0</td>\n",
       "      <td>182007.5</td>\n",
       "      <td>365243.0</td>\n",
       "      <td>0.500000</td>\n",
       "      <td>2.0</td>\n",
       "      <td>0.5</td>\n",
       "      <td>1.0</td>\n",
       "    </tr>\n",
       "    <tr>\n",
       "      <th>77</th>\n",
       "      <td>0</td>\n",
       "      <td>1</td>\n",
       "      <td>0</td>\n",
       "      <td>1</td>\n",
       "      <td>0</td>\n",
       "      <td>135000.0</td>\n",
       "      <td>337761.0</td>\n",
       "      <td>15781.5</td>\n",
       "      <td>256500.0</td>\n",
       "      <td>6</td>\n",
       "      <td>7</td>\n",
       "      <td>4</td>\n",
       "      <td>0</td>\n",
       "      <td>1</td>\n",
       "      <td>0.025164</td>\n",
       "      <td>-9666</td>\n",
       "      <td>-2811</td>\n",
       "      <td>-4437.0</td>\n",
       "      <td>-2342</td>\n",
       "      <td>7.0</td>\n",
       "      <td>1</td>\n",
       "      <td>1</td>\n",
       "      <td>0</td>\n",
       "      <td>1</td>\n",
       "      <td>1</td>\n",
       "      <td>0</td>\n",
       "      <td>8</td>\n",
       "      <td>2.0</td>\n",
       "      <td>2</td>\n",
       "      <td>2</td>\n",
       "      <td>5</td>\n",
       "      <td>12</td>\n",
       "      <td>0</td>\n",
       "      <td>0</td>\n",
       "      <td>0</td>\n",
       "      <td>0</td>\n",
       "      <td>0</td>\n",
       "      <td>0</td>\n",
       "      <td>42</td>\n",
       "      <td>0.356323</td>\n",
       "      <td>...</td>\n",
       "      <td>8.5</td>\n",
       "      <td>4.0</td>\n",
       "      <td>10.0</td>\n",
       "      <td>10.0</td>\n",
       "      <td>25.333333</td>\n",
       "      <td>3.0</td>\n",
       "      <td>18.0</td>\n",
       "      <td>48.0</td>\n",
       "      <td>1.75</td>\n",
       "      <td>4.0</td>\n",
       "      <td>1.5</td>\n",
       "      <td>4.0</td>\n",
       "      <td>5.0</td>\n",
       "      <td>4.0</td>\n",
       "      <td>4.5</td>\n",
       "      <td>9.0</td>\n",
       "      <td>365243.0</td>\n",
       "      <td>1.0</td>\n",
       "      <td>365243.0</td>\n",
       "      <td>365243.0</td>\n",
       "      <td>-1761.0</td>\n",
       "      <td>1.0</td>\n",
       "      <td>-1761.0</td>\n",
       "      <td>-1761.0</td>\n",
       "      <td>-1491.0</td>\n",
       "      <td>1.0</td>\n",
       "      <td>-1491.0</td>\n",
       "      <td>-1491.0</td>\n",
       "      <td>-1491.0</td>\n",
       "      <td>1.0</td>\n",
       "      <td>-1491.0</td>\n",
       "      <td>-1491.0</td>\n",
       "      <td>-1486.000000</td>\n",
       "      <td>1.0</td>\n",
       "      <td>-1486.0</td>\n",
       "      <td>-1486.0</td>\n",
       "      <td>0.000000</td>\n",
       "      <td>1.0</td>\n",
       "      <td>0.0</td>\n",
       "      <td>0.0</td>\n",
       "    </tr>\n",
       "    <tr>\n",
       "      <th>78</th>\n",
       "      <td>0</td>\n",
       "      <td>0</td>\n",
       "      <td>0</td>\n",
       "      <td>1</td>\n",
       "      <td>1</td>\n",
       "      <td>94500.0</td>\n",
       "      <td>585000.0</td>\n",
       "      <td>28273.5</td>\n",
       "      <td>585000.0</td>\n",
       "      <td>6</td>\n",
       "      <td>7</td>\n",
       "      <td>4</td>\n",
       "      <td>1</td>\n",
       "      <td>1</td>\n",
       "      <td>0.028663</td>\n",
       "      <td>-18253</td>\n",
       "      <td>-721</td>\n",
       "      <td>-1701.0</td>\n",
       "      <td>-1779</td>\n",
       "      <td>7.0</td>\n",
       "      <td>1</td>\n",
       "      <td>1</td>\n",
       "      <td>0</td>\n",
       "      <td>1</td>\n",
       "      <td>1</td>\n",
       "      <td>0</td>\n",
       "      <td>3</td>\n",
       "      <td>3.0</td>\n",
       "      <td>2</td>\n",
       "      <td>2</td>\n",
       "      <td>5</td>\n",
       "      <td>16</td>\n",
       "      <td>0</td>\n",
       "      <td>0</td>\n",
       "      <td>0</td>\n",
       "      <td>0</td>\n",
       "      <td>0</td>\n",
       "      <td>0</td>\n",
       "      <td>35</td>\n",
       "      <td>0.592701</td>\n",
       "      <td>...</td>\n",
       "      <td>5.6</td>\n",
       "      <td>10.0</td>\n",
       "      <td>4.0</td>\n",
       "      <td>10.0</td>\n",
       "      <td>18.000000</td>\n",
       "      <td>7.0</td>\n",
       "      <td>12.0</td>\n",
       "      <td>60.0</td>\n",
       "      <td>1.90</td>\n",
       "      <td>10.0</td>\n",
       "      <td>1.5</td>\n",
       "      <td>4.0</td>\n",
       "      <td>8.5</td>\n",
       "      <td>10.0</td>\n",
       "      <td>9.0</td>\n",
       "      <td>13.0</td>\n",
       "      <td>365243.0</td>\n",
       "      <td>6.0</td>\n",
       "      <td>365243.0</td>\n",
       "      <td>365243.0</td>\n",
       "      <td>-1441.0</td>\n",
       "      <td>6.0</td>\n",
       "      <td>-1569.5</td>\n",
       "      <td>-466.0</td>\n",
       "      <td>-1141.0</td>\n",
       "      <td>6.0</td>\n",
       "      <td>-1239.5</td>\n",
       "      <td>-316.0</td>\n",
       "      <td>-1181.0</td>\n",
       "      <td>6.0</td>\n",
       "      <td>-1329.5</td>\n",
       "      <td>-316.0</td>\n",
       "      <td>-1175.666667</td>\n",
       "      <td>6.0</td>\n",
       "      <td>-1325.0</td>\n",
       "      <td>-310.0</td>\n",
       "      <td>0.166667</td>\n",
       "      <td>6.0</td>\n",
       "      <td>0.0</td>\n",
       "      <td>1.0</td>\n",
       "    </tr>\n",
       "    <tr>\n",
       "      <th>79</th>\n",
       "      <td>0</td>\n",
       "      <td>0</td>\n",
       "      <td>0</td>\n",
       "      <td>1</td>\n",
       "      <td>0</td>\n",
       "      <td>108000.0</td>\n",
       "      <td>113760.0</td>\n",
       "      <td>5301.0</td>\n",
       "      <td>90000.0</td>\n",
       "      <td>6</td>\n",
       "      <td>3</td>\n",
       "      <td>1</td>\n",
       "      <td>3</td>\n",
       "      <td>1</td>\n",
       "      <td>0.030755</td>\n",
       "      <td>-22935</td>\n",
       "      <td>365243</td>\n",
       "      <td>-12623.0</td>\n",
       "      <td>-3442</td>\n",
       "      <td>7.0</td>\n",
       "      <td>1</td>\n",
       "      <td>0</td>\n",
       "      <td>0</td>\n",
       "      <td>1</td>\n",
       "      <td>0</td>\n",
       "      <td>0</td>\n",
       "      <td>8</td>\n",
       "      <td>1.0</td>\n",
       "      <td>2</td>\n",
       "      <td>2</td>\n",
       "      <td>4</td>\n",
       "      <td>10</td>\n",
       "      <td>0</td>\n",
       "      <td>0</td>\n",
       "      <td>0</td>\n",
       "      <td>0</td>\n",
       "      <td>0</td>\n",
       "      <td>0</td>\n",
       "      <td>57</td>\n",
       "      <td>0.356323</td>\n",
       "      <td>...</td>\n",
       "      <td>6.0</td>\n",
       "      <td>1.0</td>\n",
       "      <td>6.0</td>\n",
       "      <td>6.0</td>\n",
       "      <td>16.000000</td>\n",
       "      <td>1.0</td>\n",
       "      <td>16.0</td>\n",
       "      <td>16.0</td>\n",
       "      <td>2.00</td>\n",
       "      <td>1.0</td>\n",
       "      <td>2.0</td>\n",
       "      <td>2.0</td>\n",
       "      <td>11.0</td>\n",
       "      <td>1.0</td>\n",
       "      <td>11.0</td>\n",
       "      <td>11.0</td>\n",
       "      <td>365243.0</td>\n",
       "      <td>1.0</td>\n",
       "      <td>365243.0</td>\n",
       "      <td>365243.0</td>\n",
       "      <td>-173.0</td>\n",
       "      <td>1.0</td>\n",
       "      <td>-173.0</td>\n",
       "      <td>-173.0</td>\n",
       "      <td>277.0</td>\n",
       "      <td>1.0</td>\n",
       "      <td>277.0</td>\n",
       "      <td>277.0</td>\n",
       "      <td>365243.0</td>\n",
       "      <td>1.0</td>\n",
       "      <td>365243.0</td>\n",
       "      <td>365243.0</td>\n",
       "      <td>365243.000000</td>\n",
       "      <td>1.0</td>\n",
       "      <td>365243.0</td>\n",
       "      <td>365243.0</td>\n",
       "      <td>0.000000</td>\n",
       "      <td>1.0</td>\n",
       "      <td>0.0</td>\n",
       "      <td>0.0</td>\n",
       "    </tr>\n",
       "  </tbody>\n",
       "</table>\n",
       "</div>"
      ],
      "text/plain": [
       "    NAME_CONTRACT_TYPE  CODE_GENDER  FLAG_OWN_CAR  FLAG_OWN_REALTY  CNT_CHILDREN  AMT_INCOME_TOTAL  AMT_CREDIT  AMT_ANNUITY  AMT_GOODS_PRICE  NAME_TYPE_SUITE  NAME_INCOME_TYPE  NAME_EDUCATION_TYPE  NAME_FAMILY_STATUS  NAME_HOUSING_TYPE  REGION_POPULATION_RELATIVE  DAYS_BIRTH  DAYS_EMPLOYED  DAYS_REGISTRATION  DAYS_ID_PUBLISH  OWN_CAR_AGE  FLAG_MOBIL  FLAG_EMP_PHONE  FLAG_WORK_PHONE  FLAG_CONT_MOBILE  FLAG_PHONE  FLAG_EMAIL  OCCUPATION_TYPE  CNT_FAM_MEMBERS  REGION_RATING_CLIENT  REGION_RATING_CLIENT_W_CITY  WEEKDAY_APPR_PROCESS_START  HOUR_APPR_PROCESS_START  REG_REGION_NOT_LIVE_REGION  REG_REGION_NOT_WORK_REGION  LIVE_REGION_NOT_WORK_REGION  REG_CITY_NOT_LIVE_CITY  REG_CITY_NOT_WORK_CITY  LIVE_CITY_NOT_WORK_CITY  ORGANIZATION_TYPE  EXT_SOURCE_1  EXT_SOURCE_2  EXT_SOURCE_3  APARTMENTS_AVG  BASEMENTAREA_AVG  YEARS_BEGINEXPLUATATION_AVG  YEARS_BUILD_AVG  COMMONAREA_AVG  ELEVATORS_AVG  ENTRANCES_AVG  FLOORSMAX_AVG  FLOORSMIN_AVG  LANDAREA_AVG  LIVINGAPARTMENTS_AVG  LIVINGAREA_AVG  NONLIVINGAPARTMENTS_AVG  NONLIVINGAREA_AVG  APARTMENTS_MODE  BASEMENTAREA_MODE  YEARS_BEGINEXPLUATATION_MODE  YEARS_BUILD_MODE  COMMONAREA_MODE  ELEVATORS_MODE  ENTRANCES_MODE  FLOORSMAX_MODE  FLOORSMIN_MODE  LANDAREA_MODE  LIVINGAPARTMENTS_MODE  LIVINGAREA_MODE  NONLIVINGAPARTMENTS_MODE  NONLIVINGAREA_MODE  APARTMENTS_MEDI  BASEMENTAREA_MEDI  YEARS_BEGINEXPLUATATION_MEDI  YEARS_BUILD_MEDI  COMMONAREA_MEDI  ELEVATORS_MEDI  ENTRANCES_MEDI  FLOORSMAX_MEDI  FLOORSMIN_MEDI  LANDAREA_MEDI      ...      \n",
       "75                   0            0             0                1             1          202500.0   1288350.0      37800.0        1125000.0                6                 7                    4                   1                  1                    0.003069      -17542          -2011            -1529.0             -988          7.0           1               1                0                 1           0           0                2              3.0                     3                            3                           0                       11                           0                           0                            0                       0                       0                        0                 42      0.356323      0.572064      0.191822          0.0825            0.0000                       0.9871           0.8232           0.000            0.0         0.1379         0.1667         0.2083        0.0000                0.0504          0.0000                   0.0000             0.0000           0.0840             0.0000                        0.9871            0.8301           0.0000             0.0          0.1379          0.1667          0.2083         0.0000                 0.0551           0.0000                    0.0000              0.0000           0.0833             0.0000                        0.9871            0.8256           0.0000             0.0          0.1379          0.1667          0.2083         0.0000      ...      \n",
       "76                   1            0             0                0             0          112500.0    135000.0       6750.0         135000.0                6                 1                    1                   1                  1                    0.022800      -19467          -4066            -4623.0            -2975          7.0           1               1                0                 1           0           0                8              2.0                     2                            2                           4                       15                           0                           0                            0                       0                       0                        0                 39      0.356323      0.585174      0.408359          0.0825            0.0000                       0.9871           0.8232           0.000            0.0         0.1379         0.1667         0.2083        0.0000                0.0504          0.0000                   0.0000             0.0000           0.0840             0.0000                        0.9871            0.8301           0.0000             0.0          0.1379          0.1667          0.2083         0.0000                 0.0551           0.0000                    0.0000              0.0000           0.0833             0.0000                        0.9871            0.8256           0.0000             0.0          0.1379          0.1667          0.2083         0.0000      ...      \n",
       "77                   0            1             0                1             0          135000.0    337761.0      15781.5         256500.0                6                 7                    4                   0                  1                    0.025164       -9666          -2811            -4437.0            -2342          7.0           1               1                0                 1           1           0                8              2.0                     2                            2                           5                       12                           0                           0                            0                       0                       0                        0                 42      0.356323      0.550058      0.535276          0.0722            0.0752                       0.6508           0.6736           0.008            0.0         0.1379         0.1667         0.2083        0.0671                0.0664          0.0639                   0.0039             0.0029           0.0630             0.0653                        0.0000            0.6864           0.0081             0.0          0.1379          0.1667          0.2083         0.0581                 0.0725           0.0555                    0.0039              0.0031           0.0729             0.0800                        0.9762            0.6780           0.0081             0.0          0.1379          0.1667          0.2083         0.0659      ...      \n",
       "78                   0            0             0                1             1           94500.0    585000.0      28273.5         585000.0                6                 7                    4                   1                  1                    0.028663      -18253           -721            -1701.0            -1779          7.0           1               1                0                 1           1           0                3              3.0                     2                            2                           5                       16                           0                           0                            0                       0                       0                        0                 35      0.592701      0.488600      0.746300          0.0825            0.0000                       0.9871           0.8232           0.000            0.0         0.1379         0.1667         0.2083        0.0000                0.0504          0.0000                   0.0000             0.0000           0.0840             0.0000                        0.9871            0.8301           0.0000             0.0          0.1379          0.1667          0.2083         0.0000                 0.0551           0.0000                    0.0000              0.0000           0.0833             0.0000                        0.9871            0.8256           0.0000             0.0          0.1379          0.1667          0.2083         0.0000      ...      \n",
       "79                   0            0             0                1             0          108000.0    113760.0       5301.0          90000.0                6                 3                    1                   3                  1                    0.030755      -22935         365243           -12623.0            -3442          7.0           1               0                0                 1           0           0                8              1.0                     2                            2                           4                       10                           0                           0                            0                       0                       0                        0                 57      0.356323      0.582735      0.452534          0.1474            0.0669                       0.9578           0.8232           0.000            0.0         0.3103         0.2083         0.2083        0.0663                0.0504          0.1648                   0.0000             0.0427           0.1502             0.0694                        0.9578            0.8301           0.0000             0.0          0.3103          0.2083          0.2083         0.0679                 0.0551           0.1717                    0.0000              0.0452           0.1489             0.0669                        0.9578            0.8256           0.0000             0.0          0.3103          0.2083          0.2083         0.0675      ...      \n",
       "\n",
       "[5 rows x 440 columns]"
      ]
     },
     "execution_count": 129,
     "metadata": {},
     "output_type": "execute_result"
    }
   ],
   "source": [
    "tr.fillna(tr.mode().iloc[0],inplace= True)\n",
    "te.fillna(tr.mode().iloc[0],inplace= True)\n",
    "tr[75:80]"
   ]
  },
  {
   "cell_type": "code",
   "execution_count": null,
   "metadata": {
    "_uuid": "c8b82bf1068acbba6968a13c2cec3041d514eaa5",
    "collapsed": true
   },
   "outputs": [],
   "source": [
    "from sklearn.decomposition import PCA\n",
    "pca = PCA(n_components=50)\n",
    "tr = pca.fit_transform(tr)\n",
    "te = pca.transform(te)"
   ]
  },
  {
   "cell_type": "code",
   "execution_count": 130,
   "metadata": {
    "_uuid": "0445d100c4f32e50fe051575fcc0be56b93c0636"
   },
   "outputs": [
    {
     "name": "stdout",
     "output_type": "stream",
     "text": [
      "<class 'pandas.core.frame.DataFrame'>\n"
     ]
    }
   ],
   "source": [
    "from sklearn.feature_selection import SelectKBest, SelectPercentile\n",
    "from sklearn.preprocessing import RobustScaler, MinMaxScaler\n",
    "from sklearn.feature_selection import chi2, f_classif\n",
    "rc = MinMaxScaler()\n",
    "print(type(tr))\n",
    "s = SelectPercentile(chi2,percentile=60)"
   ]
  },
  {
   "cell_type": "code",
   "execution_count": 131,
   "metadata": {
    "_uuid": "816bcf3369d17d0ab47775d60398b1d59b943bb2"
   },
   "outputs": [
    {
     "name": "stdout",
     "output_type": "stream",
     "text": [
      "(246008, 440)\n",
      "(61503, 440)\n",
      "264 (246008, 264) (246008,) (61503, 264) (61503,)\n"
     ]
    },
    {
     "data": {
      "text/plain": [
       "0    226132\n",
       "1     19876\n",
       "Name: TARGET, dtype: int64"
      ]
     },
     "execution_count": 131,
     "metadata": {},
     "output_type": "execute_result"
    }
   ],
   "source": [
    "#kf = KFold(n_splits=2,shuffle=True,random_state=35)\n",
    "#for _ in range(2):shape\n",
    "trainX, validationX, trainY, validationY = train_test_split(tr,y,test_size=0.20,random_state=64)\n",
    "print(trainX.shape)\n",
    "print(validationX.shape)\n",
    "scale_tr = rc.fit_transform(trainX)\n",
    "scale_vl = rc.transform(validationX)\n",
    "#scale_tr = pd.DataFrame(scale_tr,columns=FEATURES, index= trainX.index)\n",
    "X_new  = s.fit_transform(scale_tr, trainY)\n",
    "y_new = s.transform(scale_vl)\n",
    "NFEATURES = FEATURES[s.get_support()]\n",
    "X_new = pd.DataFrame(X_new,columns=NFEATURES,index= trainX.index)\n",
    "y_new = pd.DataFrame(y_new,columns=NFEATURES,index= validationX.index)\n",
    "print(len(NFEATURES),X_new.shape,trainY.shape,y_new.shape,validationY.shape)\n",
    "trainY.value_counts()"
   ]
  },
  {
   "cell_type": "code",
   "execution_count": 132,
   "metadata": {
    "_uuid": "a555c8484c33fcc262f6c6a33353b4b5bfa84611"
   },
   "outputs": [
    {
     "data": {
      "text/plain": [
       "203132"
      ]
     },
     "execution_count": 132,
     "metadata": {},
     "output_type": "execute_result"
    }
   ],
   "source": [
    "i = trainY[trainY == 0].index\n",
    "dr = np.random.choice(i,len(i)-23000,replace=False)\n",
    "len(dr)"
   ]
  },
  {
   "cell_type": "code",
   "execution_count": 133,
   "metadata": {
    "_uuid": "8be3db37b7b1be82837a068ac560ad31e7a77f8a"
   },
   "outputs": [
    {
     "data": {
      "text/plain": [
       "0    23000\n",
       "1    19876\n",
       "Name: TARGET, dtype: int64"
      ]
     },
     "execution_count": 133,
     "metadata": {},
     "output_type": "execute_result"
    }
   ],
   "source": [
    "X_new.drop(dr,inplace=True)\n",
    "trainY.drop(dr,inplace=True)\n",
    "trainY.value_counts()"
   ]
  },
  {
   "cell_type": "code",
   "execution_count": 134,
   "metadata": {
    "_uuid": "6522ea535a4fe0e39d74c82fa00562c62fa24ba8"
   },
   "outputs": [
    {
     "data": {
      "text/plain": [
       "True"
      ]
     },
     "execution_count": 134,
     "metadata": {},
     "output_type": "execute_result"
    }
   ],
   "source": [
    "all(k!=False for k in tr.index == y.index)"
   ]
  },
  {
   "cell_type": "code",
   "execution_count": 173,
   "metadata": {
    "_uuid": "851da78cc1b8b1d444676637a3443c789680c3c6",
    "collapsed": true
   },
   "outputs": [],
   "source": [
    "feature_columns = [tf.feature_column.numeric_column(f) for f in NFEATURES]\n",
    "model = tf.estimator.DNNClassifier(hidden_units=[1024,512,256],\n",
    "                                   feature_columns=feature_columns,\n",
    "                                   optimizer = tf.train.AdagradOptimizer(learning_rate=0.01),\n",
    "                                   activation_fn=tf.nn.elu,\n",
    "                                   dropout=0.5) "
   ]
  },
  {
   "cell_type": "code",
   "execution_count": 178,
   "metadata": {
    "_uuid": "1fe70008c7334720e5a7f5f859c6684b901fc14b"
   },
   "outputs": [
    {
     "data": {
      "text/plain": [
       "<tensorflow.python.estimator.canned.dnn.DNNClassifier at 0x7fa0b1dc5f28>"
      ]
     },
     "execution_count": 178,
     "metadata": {},
     "output_type": "execute_result"
    }
   ],
   "source": [
    "train_input = tf.estimator.inputs.pandas_input_fn(x=X_new,y=trainY,batch_size=256,shuffle=True)\n",
    "#for i in range(5):128\n",
    "model.train(input_fn=train_input,steps=40000)"
   ]
  },
  {
   "cell_type": "code",
   "execution_count": 179,
   "metadata": {
    "_uuid": "efe03f9db06972ab12b71e1378e7497f7dbc49b4",
    "scrolled": true
   },
   "outputs": [
    {
     "name": "stdout",
     "output_type": "stream",
     "text": [
      "Accuracy:  0.695625\n"
     ]
    },
    {
     "data": {
      "text/plain": [
       "0    56554\n",
       "1     4949\n",
       "Name: TARGET, dtype: int64"
      ]
     },
     "execution_count": 179,
     "metadata": {},
     "output_type": "execute_result"
    }
   ],
   "source": [
    "#scale_validationX = rc.transform(validationX)\n",
    "#scale_validationX = pd.DataFrame(scale_tr,columns=FEATURES, index= validationX.index)\n",
    "validation_input= tf.estimator.inputs.pandas_input_fn(x=y_new,y=validationY,batch_size=batch_size,shuffle=False)\n",
    "eval_res = model.evaluate(input_fn=validation_input)\n",
    "print('Accuracy: ',eval_res['accuracy'])\n",
    "validationY.value_counts()    \n",
    "#scale_te = rc.transform(te[NFEATURES])    "
   ]
  },
  {
   "cell_type": "code",
   "execution_count": 176,
   "metadata": {
    "_uuid": "52fde4318002c0d1a3df5f639ec4346ffc5797b8"
   },
   "outputs": [
    {
     "data": {
      "text/plain": [
       "19240"
      ]
     },
     "execution_count": 176,
     "metadata": {},
     "output_type": "execute_result"
    }
   ],
   "source": [
    "preds = list(model.predict(input_fn=validation_input))  #validation\n",
    "pred_list = list(map(lambda x: x['class_ids'][0],preds))\n",
    "pred_list.count(1)"
   ]
  },
  {
   "cell_type": "code",
   "execution_count": 180,
   "metadata": {
    "_uuid": "3d3a01f1ddaf568444f0eb60102fcb03aa5187f5"
   },
   "outputs": [
    {
     "data": {
      "image/png": "[encoded data removed]",
      "text/plain": [
       "<matplotlib.figure.Figure at 0x7fa091c21e48>"
      ]
     },
     "metadata": {},
     "output_type": "display_data"
    }
   ],
   "source": [
    "plt.figure(figsize=(10,10))\n",
    "plt.title('Confusion Matrix')\n",
    "cm = tf.confusion_matrix(validationY.values,pred_list)\n",
    "with tf.Session() as session:\n",
    "    cm_out = session.run(cm)\n",
    "\n",
    "cm_out = cm_out.astype(float) / cm_out.sum(axis=1)[:, np.newaxis]\n",
    "sns.heatmap(cm_out, annot=True, xticklabels=range(2), yticklabels=range(2));\n",
    "plt.ylabel('Actual');\n",
    "plt.xlabel('Predicted');\n",
    "session.close()"
   ]
  },
  {
   "cell_type": "code",
   "execution_count": null,
   "metadata": {
    "_uuid": "b4aebb795e1aed347a675b03445902ff8a71faeb",
    "collapsed": true
   },
   "outputs": [],
   "source": [
    "scale_tst = rc.transform(te)\n",
    "te_new = s.transform(scale_tst)\n",
    "te_new = pd.DataFrame(te_new,columns=NFEATURES,index= te.index)"
   ]
  },
  {
   "cell_type": "code",
   "execution_count": null,
   "metadata": {
    "_uuid": "5e7974a1a37a7608879856f27413769e53451860",
    "collapsed": true
   },
   "outputs": [],
   "source": [
    "test_input = tf.estimator.inputs.pandas_input_fn(x=te_new,batch_size=batch_size,shuffle=False)\n",
    "preds_test = list(model.predict(input_fn=test_input))  #prediction on test"
   ]
  },
  {
   "cell_type": "code",
   "execution_count": null,
   "metadata": {
    "_uuid": "aea46061f134969e5086c08ea232f70c7400d627",
    "collapsed": true
   },
   "outputs": [],
   "source": [
    "pred_list = list(map(lambda x: x['class_ids'][0],preds_test))"
   ]
  },
  {
   "cell_type": "code",
   "execution_count": null,
   "metadata": {
    "_uuid": "b9e135abcec1554bb8ed2f84b6aa2f672df7d708",
    "collapsed": true
   },
   "outputs": [],
   "source": [
    "te.info()"
   ]
  },
  {
   "cell_type": "code",
   "execution_count": null,
   "metadata": {
    "_uuid": "65feb840fa02c11b0bf8ac4160dda085c01abab8",
    "collapsed": true
   },
   "outputs": [],
   "source": [
    "sub = pd.read_csv('../input/sample_submission.csv')\n",
    "sub.head()"
   ]
  },
  {
   "cell_type": "code",
   "execution_count": null,
   "metadata": {
    "_uuid": "1725f8af85b6827b42d5e639ab743a1004822470",
    "collapsed": true
   },
   "outputs": [],
   "source": [
    "sub['TARGET'] = pd.Series(pred_list).astype(np.float64)\n",
    "sub.to_csv('submit_k_9.csv',index=False)\n",
    "sub.head()"
   ]
  },
  {
   "cell_type": "code",
   "execution_count": null,
   "metadata": {
    "_uuid": "b77892a51e5260f49285e1b2eee1d89f0c34a18d",
    "collapsed": true
   },
   "outputs": [],
   "source": [
    "sub['TARGET'].value_counts()"
   ]
  }
 ],
 "metadata": {
  "kernelspec": {
   "display_name": "Python 3",
   "language": "python",
   "name": "python3"
  },
  "language_info": {
   "codemirror_mode": {
    "name": "ipython",
    "version": 3
   },
   "file_extension": ".py",
   "mimetype": "text/x-python",
   "name": "python",
   "nbconvert_exporter": "python",
   "pygments_lexer": "ipython3",
   "version": "3.6.5"
  }
 },
 "nbformat": 4,
 "nbformat_minor": 1
}
